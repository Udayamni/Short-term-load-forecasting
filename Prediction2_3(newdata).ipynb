{
  "cells": [
    {
      "cell_type": "code",
      "execution_count": 56,
      "metadata": {
        "id": "8CusTQnDWD40"
      },
      "outputs": [],
      "source": [
        "import pandas as pd\n",
        "import matplotlib as mpl\n",
        "from sklearn.model_selection import train_test_split\n",
        "from keras.preprocessing.sequence import TimeseriesGenerator\n",
        "from sklearn.preprocessing import MinMaxScaler, StandardScaler\n",
        "import tensorflow as tf\n",
        "import seaborn as sns\n",
        "from matplotlib import style\n",
        "from sklearn.model_selection import KFold\n",
        "from sklearn.metrics import accuracy_score\n",
        "import seaborn as sns\n",
        "import matplotlib.pyplot as plt\n",
        "import time\n",
        "\n",
        "mpl.rcParams['figure.figsize']= (10,8)\n",
        "mpl.rcParams['axes.grid']= False"
      ]
    },
    {
      "cell_type": "code",
      "execution_count": 57,
      "metadata": {
        "id": "p98iePcqJFfC"
      },
      "outputs": [],
      "source": [
        "#df=pd.read_csv('/content/peakhour.csv')"
      ]
    },
    {
      "cell_type": "code",
      "execution_count": 58,
      "metadata": {
        "id": "5BEd0kJAf8HY"
      },
      "outputs": [],
      "source": [
        "df = pd.read_csv('/content/Dataset_2.3.csv')"
      ]
    },
    {
      "cell_type": "code",
      "execution_count": 59,
      "metadata": {
        "id": "78cCdc4iiVGM",
        "colab": {
          "base_uri": "https://localhost:8080/"
        },
        "outputId": "2c611df4-dd7b-4f34-de12-bdd771494958"
      },
      "outputs": [
        {
          "output_type": "stream",
          "name": "stdout",
          "text": [
            "<class 'pandas.core.frame.DataFrame'>\n",
            "RangeIndex: 46273 entries, 0 to 46272\n",
            "Data columns (total 39 columns):\n",
            " #   Column    Non-Null Count  Dtype  \n",
            "---  ------    --------------  -----  \n",
            " 0   DateTime  46273 non-null  object \n",
            " 1   kVA       46273 non-null  float64\n",
            " 2   Min Temp  46273 non-null  float64\n",
            " 3   Max Temp  46273 non-null  float64\n",
            " 4   rainfall  46273 non-null  float64\n",
            " 5   Temp      46273 non-null  float64\n",
            " 6   week-1    46273 non-null  float64\n",
            " 7   week-2    46273 non-null  float64\n",
            " 8   t-30      46273 non-null  float64\n",
            " 9   t-29      46273 non-null  float64\n",
            " 10  t-28      46273 non-null  float64\n",
            " 11  t-27      46273 non-null  float64\n",
            " 12  t-26      46273 non-null  float64\n",
            " 13  t-25      46273 non-null  float64\n",
            " 14  t-24      46273 non-null  float64\n",
            " 15  t-23      46273 non-null  float64\n",
            " 16  t-22      46273 non-null  float64\n",
            " 17  t-21      46273 non-null  float64\n",
            " 18  t-20      46273 non-null  float64\n",
            " 19  t-19      46273 non-null  float64\n",
            " 20  t-18      46273 non-null  float64\n",
            " 21  t-17      46273 non-null  float64\n",
            " 22  t-16      46273 non-null  float64\n",
            " 23  t-15      46273 non-null  float64\n",
            " 24  t-14      46273 non-null  float64\n",
            " 25  t-13      46273 non-null  float64\n",
            " 26  t-12      46273 non-null  float64\n",
            " 27  t-11      46273 non-null  float64\n",
            " 28  t-10      46273 non-null  float64\n",
            " 29  t-9       46273 non-null  float64\n",
            " 30  t-8       46273 non-null  float64\n",
            " 31  t-7       46273 non-null  float64\n",
            " 32  t-6       46273 non-null  float64\n",
            " 33  t-5       46273 non-null  float64\n",
            " 34  t-4       46273 non-null  float64\n",
            " 35  t-3       46273 non-null  float64\n",
            " 36  t-2       46273 non-null  float64\n",
            " 37  t-1       46273 non-null  float64\n",
            " 38  t         46273 non-null  float64\n",
            "dtypes: float64(38), object(1)\n",
            "memory usage: 13.8+ MB\n"
          ]
        }
      ],
      "source": [
        "df.info()"
      ]
    },
    {
      "cell_type": "code",
      "execution_count": 60,
      "metadata": {
        "id": "R7SUkhFjjJy0"
      },
      "outputs": [],
      "source": [
        "df['date'] = pd.to_datetime(df['DateTime'], infer_datetime_format = True)  "
      ]
    },
    {
      "cell_type": "code",
      "execution_count": 61,
      "metadata": {
        "id": "B9pYB0PtQLv7",
        "colab": {
          "base_uri": "https://localhost:8080/",
          "height": 556
        },
        "outputId": "6bf2c3cd-6f83-46df-8743-9c7a407b0ad2"
      },
      "outputs": [
        {
          "output_type": "stream",
          "name": "stderr",
          "text": [
            "<ipython-input-61-60210504cef4>:7: FutureWarning: Series.dt.weekofyear and Series.dt.week have been deprecated.  Please use Series.dt.isocalendar().week instead.\n",
            "  dataset[\"Week\"] = pd.to_datetime(df[\"DateTime\"]).dt.week\n"
          ]
        },
        {
          "output_type": "execute_result",
          "data": {
            "text/plain": [
              "                        kVA  Min Temp  Max Temp  rainfall  Temp  week-1  \\\n",
              "DateTime                                                                  \n",
              "2017-04-21 00:00:00  1760.0      13.0      29.6       0.0  18.0   770.0   \n",
              "2017-04-21 01:00:00  1320.0      13.0      29.6       0.0  18.0   726.0   \n",
              "2017-04-21 02:00:00   880.0      13.0      29.6       0.0  15.0   704.0   \n",
              "2017-04-21 03:00:00   946.0      13.0      29.6       0.0  15.0   704.0   \n",
              "2017-04-21 04:00:00   946.0      13.0      29.6       0.0  11.0   748.0   \n",
              "\n",
              "                         week-2    t-30    t-29    t-28  ...  \\\n",
              "DateTime                                                 ...   \n",
              "2017-04-21 00:00:00  968.000000  1012.0   836.0   836.0  ...   \n",
              "2017-04-21 01:00:00  798.589713   836.0   836.0   836.0  ...   \n",
              "2017-04-21 02:00:00  682.000000   836.0   836.0   858.0  ...   \n",
              "2017-04-21 03:00:00  682.000000   836.0   858.0  1056.0  ...   \n",
              "2017-04-21 04:00:00  682.000000   858.0  1056.0  1386.0  ...   \n",
              "\n",
              "                                   date  Month  Year        Date      Time  \\\n",
              "DateTime                                                                     \n",
              "2017-04-21 00:00:00 2017-04-21 00:00:00      4  2017  2017-04-21  00:00:00   \n",
              "2017-04-21 01:00:00 2017-04-21 01:00:00      4  2017  2017-04-21  01:00:00   \n",
              "2017-04-21 02:00:00 2017-04-21 02:00:00      4  2017  2017-04-21  02:00:00   \n",
              "2017-04-21 03:00:00 2017-04-21 03:00:00      4  2017  2017-04-21  03:00:00   \n",
              "2017-04-21 04:00:00 2017-04-21 04:00:00      4  2017  2017-04-21  04:00:00   \n",
              "\n",
              "                     Week  Hour  day           timestamp  day_of_week  \n",
              "DateTime                                                               \n",
              "2017-04-21 00:00:00    16     0   21 2017-04-21 00:00:00            6  \n",
              "2017-04-21 01:00:00    16     1   21 2017-04-21 01:00:00            6  \n",
              "2017-04-21 02:00:00    16     2   21 2017-04-21 02:00:00            6  \n",
              "2017-04-21 03:00:00    16     3   21 2017-04-21 03:00:00            6  \n",
              "2017-04-21 04:00:00    16     4   21 2017-04-21 04:00:00            6  \n",
              "\n",
              "[5 rows x 48 columns]"
            ],
            "text/html": [
              "\n",
              "  <div id=\"df-639b15e2-0f0e-4c5c-bcc1-0002598b7b56\">\n",
              "    <div class=\"colab-df-container\">\n",
              "      <div>\n",
              "<style scoped>\n",
              "    .dataframe tbody tr th:only-of-type {\n",
              "        vertical-align: middle;\n",
              "    }\n",
              "\n",
              "    .dataframe tbody tr th {\n",
              "        vertical-align: top;\n",
              "    }\n",
              "\n",
              "    .dataframe thead th {\n",
              "        text-align: right;\n",
              "    }\n",
              "</style>\n",
              "<table border=\"1\" class=\"dataframe\">\n",
              "  <thead>\n",
              "    <tr style=\"text-align: right;\">\n",
              "      <th></th>\n",
              "      <th>kVA</th>\n",
              "      <th>Min Temp</th>\n",
              "      <th>Max Temp</th>\n",
              "      <th>rainfall</th>\n",
              "      <th>Temp</th>\n",
              "      <th>week-1</th>\n",
              "      <th>week-2</th>\n",
              "      <th>t-30</th>\n",
              "      <th>t-29</th>\n",
              "      <th>t-28</th>\n",
              "      <th>...</th>\n",
              "      <th>date</th>\n",
              "      <th>Month</th>\n",
              "      <th>Year</th>\n",
              "      <th>Date</th>\n",
              "      <th>Time</th>\n",
              "      <th>Week</th>\n",
              "      <th>Hour</th>\n",
              "      <th>day</th>\n",
              "      <th>timestamp</th>\n",
              "      <th>day_of_week</th>\n",
              "    </tr>\n",
              "    <tr>\n",
              "      <th>DateTime</th>\n",
              "      <th></th>\n",
              "      <th></th>\n",
              "      <th></th>\n",
              "      <th></th>\n",
              "      <th></th>\n",
              "      <th></th>\n",
              "      <th></th>\n",
              "      <th></th>\n",
              "      <th></th>\n",
              "      <th></th>\n",
              "      <th></th>\n",
              "      <th></th>\n",
              "      <th></th>\n",
              "      <th></th>\n",
              "      <th></th>\n",
              "      <th></th>\n",
              "      <th></th>\n",
              "      <th></th>\n",
              "      <th></th>\n",
              "      <th></th>\n",
              "      <th></th>\n",
              "    </tr>\n",
              "  </thead>\n",
              "  <tbody>\n",
              "    <tr>\n",
              "      <th>2017-04-21 00:00:00</th>\n",
              "      <td>1760.0</td>\n",
              "      <td>13.0</td>\n",
              "      <td>29.6</td>\n",
              "      <td>0.0</td>\n",
              "      <td>18.0</td>\n",
              "      <td>770.0</td>\n",
              "      <td>968.000000</td>\n",
              "      <td>1012.0</td>\n",
              "      <td>836.0</td>\n",
              "      <td>836.0</td>\n",
              "      <td>...</td>\n",
              "      <td>2017-04-21 00:00:00</td>\n",
              "      <td>4</td>\n",
              "      <td>2017</td>\n",
              "      <td>2017-04-21</td>\n",
              "      <td>00:00:00</td>\n",
              "      <td>16</td>\n",
              "      <td>0</td>\n",
              "      <td>21</td>\n",
              "      <td>2017-04-21 00:00:00</td>\n",
              "      <td>6</td>\n",
              "    </tr>\n",
              "    <tr>\n",
              "      <th>2017-04-21 01:00:00</th>\n",
              "      <td>1320.0</td>\n",
              "      <td>13.0</td>\n",
              "      <td>29.6</td>\n",
              "      <td>0.0</td>\n",
              "      <td>18.0</td>\n",
              "      <td>726.0</td>\n",
              "      <td>798.589713</td>\n",
              "      <td>836.0</td>\n",
              "      <td>836.0</td>\n",
              "      <td>836.0</td>\n",
              "      <td>...</td>\n",
              "      <td>2017-04-21 01:00:00</td>\n",
              "      <td>4</td>\n",
              "      <td>2017</td>\n",
              "      <td>2017-04-21</td>\n",
              "      <td>01:00:00</td>\n",
              "      <td>16</td>\n",
              "      <td>1</td>\n",
              "      <td>21</td>\n",
              "      <td>2017-04-21 01:00:00</td>\n",
              "      <td>6</td>\n",
              "    </tr>\n",
              "    <tr>\n",
              "      <th>2017-04-21 02:00:00</th>\n",
              "      <td>880.0</td>\n",
              "      <td>13.0</td>\n",
              "      <td>29.6</td>\n",
              "      <td>0.0</td>\n",
              "      <td>15.0</td>\n",
              "      <td>704.0</td>\n",
              "      <td>682.000000</td>\n",
              "      <td>836.0</td>\n",
              "      <td>836.0</td>\n",
              "      <td>858.0</td>\n",
              "      <td>...</td>\n",
              "      <td>2017-04-21 02:00:00</td>\n",
              "      <td>4</td>\n",
              "      <td>2017</td>\n",
              "      <td>2017-04-21</td>\n",
              "      <td>02:00:00</td>\n",
              "      <td>16</td>\n",
              "      <td>2</td>\n",
              "      <td>21</td>\n",
              "      <td>2017-04-21 02:00:00</td>\n",
              "      <td>6</td>\n",
              "    </tr>\n",
              "    <tr>\n",
              "      <th>2017-04-21 03:00:00</th>\n",
              "      <td>946.0</td>\n",
              "      <td>13.0</td>\n",
              "      <td>29.6</td>\n",
              "      <td>0.0</td>\n",
              "      <td>15.0</td>\n",
              "      <td>704.0</td>\n",
              "      <td>682.000000</td>\n",
              "      <td>836.0</td>\n",
              "      <td>858.0</td>\n",
              "      <td>1056.0</td>\n",
              "      <td>...</td>\n",
              "      <td>2017-04-21 03:00:00</td>\n",
              "      <td>4</td>\n",
              "      <td>2017</td>\n",
              "      <td>2017-04-21</td>\n",
              "      <td>03:00:00</td>\n",
              "      <td>16</td>\n",
              "      <td>3</td>\n",
              "      <td>21</td>\n",
              "      <td>2017-04-21 03:00:00</td>\n",
              "      <td>6</td>\n",
              "    </tr>\n",
              "    <tr>\n",
              "      <th>2017-04-21 04:00:00</th>\n",
              "      <td>946.0</td>\n",
              "      <td>13.0</td>\n",
              "      <td>29.6</td>\n",
              "      <td>0.0</td>\n",
              "      <td>11.0</td>\n",
              "      <td>748.0</td>\n",
              "      <td>682.000000</td>\n",
              "      <td>858.0</td>\n",
              "      <td>1056.0</td>\n",
              "      <td>1386.0</td>\n",
              "      <td>...</td>\n",
              "      <td>2017-04-21 04:00:00</td>\n",
              "      <td>4</td>\n",
              "      <td>2017</td>\n",
              "      <td>2017-04-21</td>\n",
              "      <td>04:00:00</td>\n",
              "      <td>16</td>\n",
              "      <td>4</td>\n",
              "      <td>21</td>\n",
              "      <td>2017-04-21 04:00:00</td>\n",
              "      <td>6</td>\n",
              "    </tr>\n",
              "  </tbody>\n",
              "</table>\n",
              "<p>5 rows × 48 columns</p>\n",
              "</div>\n",
              "      <button class=\"colab-df-convert\" onclick=\"convertToInteractive('df-639b15e2-0f0e-4c5c-bcc1-0002598b7b56')\"\n",
              "              title=\"Convert this dataframe to an interactive table.\"\n",
              "              style=\"display:none;\">\n",
              "        \n",
              "  <svg xmlns=\"http://www.w3.org/2000/svg\" height=\"24px\"viewBox=\"0 0 24 24\"\n",
              "       width=\"24px\">\n",
              "    <path d=\"M0 0h24v24H0V0z\" fill=\"none\"/>\n",
              "    <path d=\"M18.56 5.44l.94 2.06.94-2.06 2.06-.94-2.06-.94-.94-2.06-.94 2.06-2.06.94zm-11 1L8.5 8.5l.94-2.06 2.06-.94-2.06-.94L8.5 2.5l-.94 2.06-2.06.94zm10 10l.94 2.06.94-2.06 2.06-.94-2.06-.94-.94-2.06-.94 2.06-2.06.94z\"/><path d=\"M17.41 7.96l-1.37-1.37c-.4-.4-.92-.59-1.43-.59-.52 0-1.04.2-1.43.59L10.3 9.45l-7.72 7.72c-.78.78-.78 2.05 0 2.83L4 21.41c.39.39.9.59 1.41.59.51 0 1.02-.2 1.41-.59l7.78-7.78 2.81-2.81c.8-.78.8-2.07 0-2.86zM5.41 20L4 18.59l7.72-7.72 1.47 1.35L5.41 20z\"/>\n",
              "  </svg>\n",
              "      </button>\n",
              "      \n",
              "  <style>\n",
              "    .colab-df-container {\n",
              "      display:flex;\n",
              "      flex-wrap:wrap;\n",
              "      gap: 12px;\n",
              "    }\n",
              "\n",
              "    .colab-df-convert {\n",
              "      background-color: #E8F0FE;\n",
              "      border: none;\n",
              "      border-radius: 50%;\n",
              "      cursor: pointer;\n",
              "      display: none;\n",
              "      fill: #1967D2;\n",
              "      height: 32px;\n",
              "      padding: 0 0 0 0;\n",
              "      width: 32px;\n",
              "    }\n",
              "\n",
              "    .colab-df-convert:hover {\n",
              "      background-color: #E2EBFA;\n",
              "      box-shadow: 0px 1px 2px rgba(60, 64, 67, 0.3), 0px 1px 3px 1px rgba(60, 64, 67, 0.15);\n",
              "      fill: #174EA6;\n",
              "    }\n",
              "\n",
              "    [theme=dark] .colab-df-convert {\n",
              "      background-color: #3B4455;\n",
              "      fill: #D2E3FC;\n",
              "    }\n",
              "\n",
              "    [theme=dark] .colab-df-convert:hover {\n",
              "      background-color: #434B5C;\n",
              "      box-shadow: 0px 1px 3px 1px rgba(0, 0, 0, 0.15);\n",
              "      filter: drop-shadow(0px 1px 2px rgba(0, 0, 0, 0.3));\n",
              "      fill: #FFFFFF;\n",
              "    }\n",
              "  </style>\n",
              "\n",
              "      <script>\n",
              "        const buttonEl =\n",
              "          document.querySelector('#df-639b15e2-0f0e-4c5c-bcc1-0002598b7b56 button.colab-df-convert');\n",
              "        buttonEl.style.display =\n",
              "          google.colab.kernel.accessAllowed ? 'block' : 'none';\n",
              "\n",
              "        async function convertToInteractive(key) {\n",
              "          const element = document.querySelector('#df-639b15e2-0f0e-4c5c-bcc1-0002598b7b56');\n",
              "          const dataTable =\n",
              "            await google.colab.kernel.invokeFunction('convertToInteractive',\n",
              "                                                     [key], {});\n",
              "          if (!dataTable) return;\n",
              "\n",
              "          const docLinkHtml = 'Like what you see? Visit the ' +\n",
              "            '<a target=\"_blank\" href=https://colab.research.google.com/notebooks/data_table.ipynb>data table notebook</a>'\n",
              "            + ' to learn more about interactive tables.';\n",
              "          element.innerHTML = '';\n",
              "          dataTable['output_type'] = 'display_data';\n",
              "          await google.colab.output.renderOutput(dataTable, element);\n",
              "          const docLink = document.createElement('div');\n",
              "          docLink.innerHTML = docLinkHtml;\n",
              "          element.appendChild(docLink);\n",
              "        }\n",
              "      </script>\n",
              "    </div>\n",
              "  </div>\n",
              "  "
            ]
          },
          "metadata": {},
          "execution_count": 61
        }
      ],
      "source": [
        "#extracting date and time\n",
        "dataset = df\n",
        "dataset[\"Month\"] = pd.to_datetime(df[\"DateTime\"]).dt.month\n",
        "dataset[\"Year\"] = pd.to_datetime(df[\"DateTime\"]).dt.year\n",
        "dataset[\"Date\"] = pd.to_datetime(df[\"DateTime\"]).dt.date\n",
        "dataset[\"Time\"] = pd.to_datetime(df[\"DateTime\"]).dt.time\n",
        "dataset[\"Week\"] = pd.to_datetime(df[\"DateTime\"]).dt.week\n",
        "dataset[\"Hour\"] = pd.to_datetime(df[\"DateTime\"]).dt.hour\n",
        "dataset[\"day\"] = pd.to_datetime(df[\"DateTime\"]).dt.day\n",
        "dataset['timestamp'] = pd.to_datetime(df['DateTime'])\n",
        "\n",
        "# Create a dictionary to map the days of the week to numerical values\n",
        "day_map = {\n",
        "    'Sunday': 1,\n",
        "    'Monday': 2,\n",
        "    'Tuesday': 3,\n",
        "    'Wednesday': 4,\n",
        "    'Thursday': 5,\n",
        "    'Friday': 6,\n",
        "    'Saturday': 7\n",
        "}\n",
        "\n",
        "# Extract the day of the week from the timestamp column and map it to a numerical value\n",
        "df['day_of_week'] = df['timestamp'].dt.day_name().map(day_map)\n",
        "dataset = df.set_index(\"DateTime\")\n",
        "dataset.index = pd.to_datetime(dataset.index)\n",
        "dataset.head(5)"
      ]
    },
    {
      "cell_type": "code",
      "execution_count": 62,
      "metadata": {
        "id": "qzNFPbWxjk-N",
        "colab": {
          "base_uri": "https://localhost:8080/",
          "height": 508
        },
        "outputId": "a188774a-8128-4f13-e8ff-c513f21a6ce9"
      },
      "outputs": [
        {
          "output_type": "execute_result",
          "data": {
            "text/plain": [
              "array([<AxesSubplot:xlabel='date'>, <AxesSubplot:xlabel='date'>,\n",
              "       <AxesSubplot:xlabel='date'>], dtype=object)"
            ]
          },
          "metadata": {},
          "execution_count": 62
        },
        {
          "output_type": "display_data",
          "data": {
            "text/plain": [
              "<Figure size 720x576 with 3 Axes>"
            ],
            "image/png": "[encoded data removed]"
          },
          "metadata": {
            "needs_background": "light"
          }
        }
      ],
      "source": [
        "df.set_index('date')[['Max Temp','rainfall','kVA']].plot(subplots = True)"
      ]
    },
    {
      "cell_type": "code",
      "source": [
        "sns.distplot(df[\"kVA\"])\n",
        "plt.title(\"Energy Distribution\", fontsize=16)   # set the title of the plot\n",
        "plt.xlabel(\"Load\", fontsize=14)   # set the x-axis label\n",
        "plt.ylabel(\"Density\", fontsize=14)   # set the y-axis label\n",
        "plt.show()"
      ],
      "metadata": {
        "colab": {
          "base_uri": "https://localhost:8080/",
          "height": 574
        },
        "id": "Z7-YABhwt37o",
        "outputId": "e1c24c8d-f1d0-4633-ffea-9c8b761d0baf"
      },
      "execution_count": 63,
      "outputs": [
        {
          "output_type": "stream",
          "name": "stderr",
          "text": [
            "/usr/local/lib/python3.8/dist-packages/seaborn/distributions.py:2619: FutureWarning: `distplot` is a deprecated function and will be removed in a future version. Please adapt your code to use either `displot` (a figure-level function with similar flexibility) or `histplot` (an axes-level function for histograms).\n",
            "  warnings.warn(msg, FutureWarning)\n"
          ]
        },
        {
          "output_type": "display_data",
          "data": {
            "text/plain": [
              "<Figure size 720x576 with 1 Axes>"
            ],
            "image/png": "[encoded data removed]"
          },
          "metadata": {
            "needs_background": "light"
          }
        }
      ]
    },
    {
      "cell_type": "code",
      "source": [
        "sns.FacetGrid(df, height = 15,).map(plt.scatter,\"Hour\",\"kVA\").add_legend();\n",
        "plt.xlabel(\"Hours\")\n",
        "plt.ylabel('Load')\n",
        "plt.title(\"Energy usage according to hourly data\")\n",
        "plt.show()"
      ],
      "metadata": {
        "colab": {
          "base_uri": "https://localhost:8080/",
          "height": 1000
        },
        "id": "5NoG42y-vv_k",
        "outputId": "35345bbc-2dee-4faf-9499-d293fa9ffc46"
      },
      "execution_count": 64,
      "outputs": [
        {
          "output_type": "display_data",
          "data": {
            "text/plain": [
              "<Figure size 1088x1080 with 1 Axes>"
            ],
            "image/png": "[encoded data removed]"
          },
          "metadata": {
            "needs_background": "light"
          }
        }
      ]
    },
    {
      "cell_type": "code",
      "execution_count": 65,
      "metadata": {
        "id": "a02sICnJKxCr"
      },
      "outputs": [],
      "source": [
        "result = df\n",
        "#result = df.loc[df['Month'] == 4|5|6]\n",
        "new_kva = df['kVA']\n",
        "new_kva.replace(to_replace = 0, value = new_kva.std(), inplace=True)"
      ]
    },
    {
      "cell_type": "code",
      "execution_count": 66,
      "metadata": {
        "id": "sEXzXkhEMqg2"
      },
      "outputs": [],
      "source": [
        "df_input = result"
      ]
    },
    {
      "cell_type": "code",
      "execution_count": 67,
      "metadata": {
        "id": "r8URsWrBkRaY"
      },
      "outputs": [],
      "source": [
        "df_input1 = result[['Hour', 'week-1','week-2','t-3','t-2','t-1','t-28','Temp']]\n",
        "df_input= result[['kVA']]"
      ]
    },
    {
      "cell_type": "code",
      "execution_count": 68,
      "metadata": {
        "id": "5X0T1rZhs3Mz"
      },
      "outputs": [],
      "source": [
        "q3 = df_input['kVA'].quantile(0.75)\n",
        "iqr = df_input['kVA'].quantile(0.75) - df_input['kVA'].quantile(0.25)\n",
        "threshold = q3 + 1.5 * iqr"
      ]
    },
    {
      "cell_type": "code",
      "execution_count": 69,
      "metadata": {
        "id": "iZfqIldLUNfi"
      },
      "outputs": [],
      "source": [
        "q1 = df_input['kVA'].quantile(0.25)\n",
        "iqr = df_input['kVA'].quantile(0.75) - df_input['kVA'].quantile(0.25)\n",
        "thresholdL = q1 - 1 * iqr"
      ]
    },
    {
      "cell_type": "code",
      "execution_count": 70,
      "metadata": {
        "id": "NKjXyXKyUpcH",
        "colab": {
          "base_uri": "https://localhost:8080/"
        },
        "outputId": "6b4628f9-b764-4e58-e350-8c84c4c8b38d"
      },
      "outputs": [
        {
          "output_type": "execute_result",
          "data": {
            "text/plain": [
              "(836.0, 1166.0)"
            ]
          },
          "metadata": {},
          "execution_count": 70
        }
      ],
      "source": [
        "iqr,q1"
      ]
    },
    {
      "cell_type": "code",
      "execution_count": 71,
      "metadata": {
        "id": "wTCt6kE4iSVG",
        "colab": {
          "base_uri": "https://localhost:8080/"
        },
        "outputId": "9e7a767e-bf5d-4274-bf2d-cef4c05b4faf"
      },
      "outputs": [
        {
          "output_type": "execute_result",
          "data": {
            "text/plain": [
              "3256.0"
            ]
          },
          "metadata": {},
          "execution_count": 71
        }
      ],
      "source": [
        "threshold"
      ]
    },
    {
      "cell_type": "code",
      "execution_count": 72,
      "metadata": {
        "id": "HxzMVFoyI-Ds",
        "colab": {
          "base_uri": "https://localhost:8080/"
        },
        "outputId": "181d9916-ad22-43b6-a199-8dd2e226c91b"
      },
      "outputs": [
        {
          "output_type": "stream",
          "name": "stderr",
          "text": [
            "<ipython-input-72-57fd93b5e8a7>:1: SettingWithCopyWarning: \n",
            "A value is trying to be set on a copy of a slice from a DataFrame.\n",
            "Try using .loc[row_indexer,col_indexer] = value instead\n",
            "\n",
            "See the caveats in the documentation: https://pandas.pydata.org/pandas-docs/stable/user_guide/indexing.html#returning-a-view-versus-a-copy\n",
            "  df_input['kVA'] = df_input['kVA'].clip(upper=threshold)\n",
            "<ipython-input-72-57fd93b5e8a7>:2: SettingWithCopyWarning: \n",
            "A value is trying to be set on a copy of a slice from a DataFrame.\n",
            "Try using .loc[row_indexer,col_indexer] = value instead\n",
            "\n",
            "See the caveats in the documentation: https://pandas.pydata.org/pandas-docs/stable/user_guide/indexing.html#returning-a-view-versus-a-copy\n",
            "  df_input['kVA'] = df_input['kVA'].clip(lower=thresholdL)\n"
          ]
        }
      ],
      "source": [
        "df_input['kVA'] = df_input['kVA'].clip(upper=threshold)\n",
        "df_input['kVA'] = df_input['kVA'].clip(lower=thresholdL)"
      ]
    },
    {
      "cell_type": "code",
      "execution_count": 73,
      "metadata": {
        "id": "E-HHP9xZUkME",
        "colab": {
          "base_uri": "https://localhost:8080/"
        },
        "outputId": "4a6ff6af-7e87-4bf9-b3bd-969938d5f996"
      },
      "outputs": [
        {
          "output_type": "execute_result",
          "data": {
            "text/plain": [
              "330.0"
            ]
          },
          "metadata": {},
          "execution_count": 73
        }
      ],
      "source": [
        "thresholdL"
      ]
    },
    {
      "cell_type": "code",
      "execution_count": 74,
      "metadata": {
        "id": "5rM2GIo4kiWB",
        "colab": {
          "base_uri": "https://localhost:8080/",
          "height": 423
        },
        "outputId": "8071eadc-5c27-49d3-bce4-68f4748a1b17"
      },
      "outputs": [
        {
          "output_type": "execute_result",
          "data": {
            "text/plain": [
              "          kVA\n",
              "0      1760.0\n",
              "1      1320.0\n",
              "2       880.0\n",
              "3       946.0\n",
              "4       946.0\n",
              "...       ...\n",
              "46268  1496.0\n",
              "46269  1408.0\n",
              "46270  1298.0\n",
              "46271  1210.0\n",
              "46272   990.0\n",
              "\n",
              "[46273 rows x 1 columns]"
            ],
            "text/html": [
              "\n",
              "  <div id=\"df-52fee7bc-a102-4509-a388-cdbd9f68db19\">\n",
              "    <div class=\"colab-df-container\">\n",
              "      <div>\n",
              "<style scoped>\n",
              "    .dataframe tbody tr th:only-of-type {\n",
              "        vertical-align: middle;\n",
              "    }\n",
              "\n",
              "    .dataframe tbody tr th {\n",
              "        vertical-align: top;\n",
              "    }\n",
              "\n",
              "    .dataframe thead th {\n",
              "        text-align: right;\n",
              "    }\n",
              "</style>\n",
              "<table border=\"1\" class=\"dataframe\">\n",
              "  <thead>\n",
              "    <tr style=\"text-align: right;\">\n",
              "      <th></th>\n",
              "      <th>kVA</th>\n",
              "    </tr>\n",
              "  </thead>\n",
              "  <tbody>\n",
              "    <tr>\n",
              "      <th>0</th>\n",
              "      <td>1760.0</td>\n",
              "    </tr>\n",
              "    <tr>\n",
              "      <th>1</th>\n",
              "      <td>1320.0</td>\n",
              "    </tr>\n",
              "    <tr>\n",
              "      <th>2</th>\n",
              "      <td>880.0</td>\n",
              "    </tr>\n",
              "    <tr>\n",
              "      <th>3</th>\n",
              "      <td>946.0</td>\n",
              "    </tr>\n",
              "    <tr>\n",
              "      <th>4</th>\n",
              "      <td>946.0</td>\n",
              "    </tr>\n",
              "    <tr>\n",
              "      <th>...</th>\n",
              "      <td>...</td>\n",
              "    </tr>\n",
              "    <tr>\n",
              "      <th>46268</th>\n",
              "      <td>1496.0</td>\n",
              "    </tr>\n",
              "    <tr>\n",
              "      <th>46269</th>\n",
              "      <td>1408.0</td>\n",
              "    </tr>\n",
              "    <tr>\n",
              "      <th>46270</th>\n",
              "      <td>1298.0</td>\n",
              "    </tr>\n",
              "    <tr>\n",
              "      <th>46271</th>\n",
              "      <td>1210.0</td>\n",
              "    </tr>\n",
              "    <tr>\n",
              "      <th>46272</th>\n",
              "      <td>990.0</td>\n",
              "    </tr>\n",
              "  </tbody>\n",
              "</table>\n",
              "<p>46273 rows × 1 columns</p>\n",
              "</div>\n",
              "      <button class=\"colab-df-convert\" onclick=\"convertToInteractive('df-52fee7bc-a102-4509-a388-cdbd9f68db19')\"\n",
              "              title=\"Convert this dataframe to an interactive table.\"\n",
              "              style=\"display:none;\">\n",
              "        \n",
              "  <svg xmlns=\"http://www.w3.org/2000/svg\" height=\"24px\"viewBox=\"0 0 24 24\"\n",
              "       width=\"24px\">\n",
              "    <path d=\"M0 0h24v24H0V0z\" fill=\"none\"/>\n",
              "    <path d=\"M18.56 5.44l.94 2.06.94-2.06 2.06-.94-2.06-.94-.94-2.06-.94 2.06-2.06.94zm-11 1L8.5 8.5l.94-2.06 2.06-.94-2.06-.94L8.5 2.5l-.94 2.06-2.06.94zm10 10l.94 2.06.94-2.06 2.06-.94-2.06-.94-.94-2.06-.94 2.06-2.06.94z\"/><path d=\"M17.41 7.96l-1.37-1.37c-.4-.4-.92-.59-1.43-.59-.52 0-1.04.2-1.43.59L10.3 9.45l-7.72 7.72c-.78.78-.78 2.05 0 2.83L4 21.41c.39.39.9.59 1.41.59.51 0 1.02-.2 1.41-.59l7.78-7.78 2.81-2.81c.8-.78.8-2.07 0-2.86zM5.41 20L4 18.59l7.72-7.72 1.47 1.35L5.41 20z\"/>\n",
              "  </svg>\n",
              "      </button>\n",
              "      \n",
              "  <style>\n",
              "    .colab-df-container {\n",
              "      display:flex;\n",
              "      flex-wrap:wrap;\n",
              "      gap: 12px;\n",
              "    }\n",
              "\n",
              "    .colab-df-convert {\n",
              "      background-color: #E8F0FE;\n",
              "      border: none;\n",
              "      border-radius: 50%;\n",
              "      cursor: pointer;\n",
              "      display: none;\n",
              "      fill: #1967D2;\n",
              "      height: 32px;\n",
              "      padding: 0 0 0 0;\n",
              "      width: 32px;\n",
              "    }\n",
              "\n",
              "    .colab-df-convert:hover {\n",
              "      background-color: #E2EBFA;\n",
              "      box-shadow: 0px 1px 2px rgba(60, 64, 67, 0.3), 0px 1px 3px 1px rgba(60, 64, 67, 0.15);\n",
              "      fill: #174EA6;\n",
              "    }\n",
              "\n",
              "    [theme=dark] .colab-df-convert {\n",
              "      background-color: #3B4455;\n",
              "      fill: #D2E3FC;\n",
              "    }\n",
              "\n",
              "    [theme=dark] .colab-df-convert:hover {\n",
              "      background-color: #434B5C;\n",
              "      box-shadow: 0px 1px 3px 1px rgba(0, 0, 0, 0.15);\n",
              "      filter: drop-shadow(0px 1px 2px rgba(0, 0, 0, 0.3));\n",
              "      fill: #FFFFFF;\n",
              "    }\n",
              "  </style>\n",
              "\n",
              "      <script>\n",
              "        const buttonEl =\n",
              "          document.querySelector('#df-52fee7bc-a102-4509-a388-cdbd9f68db19 button.colab-df-convert');\n",
              "        buttonEl.style.display =\n",
              "          google.colab.kernel.accessAllowed ? 'block' : 'none';\n",
              "\n",
              "        async function convertToInteractive(key) {\n",
              "          const element = document.querySelector('#df-52fee7bc-a102-4509-a388-cdbd9f68db19');\n",
              "          const dataTable =\n",
              "            await google.colab.kernel.invokeFunction('convertToInteractive',\n",
              "                                                     [key], {});\n",
              "          if (!dataTable) return;\n",
              "\n",
              "          const docLinkHtml = 'Like what you see? Visit the ' +\n",
              "            '<a target=\"_blank\" href=https://colab.research.google.com/notebooks/data_table.ipynb>data table notebook</a>'\n",
              "            + ' to learn more about interactive tables.';\n",
              "          element.innerHTML = '';\n",
              "          dataTable['output_type'] = 'display_data';\n",
              "          await google.colab.output.renderOutput(dataTable, element);\n",
              "          const docLink = document.createElement('div');\n",
              "          docLink.innerHTML = docLinkHtml;\n",
              "          element.appendChild(docLink);\n",
              "        }\n",
              "      </script>\n",
              "    </div>\n",
              "  </div>\n",
              "  "
            ]
          },
          "metadata": {},
          "execution_count": 74
        }
      ],
      "source": [
        "df_input"
      ]
    },
    {
      "cell_type": "code",
      "execution_count": 75,
      "metadata": {
        "id": "zmxkvCbrldFj",
        "colab": {
          "base_uri": "https://localhost:8080/",
          "height": 300
        },
        "outputId": "68d0ac19-b19e-4028-c3a0-f1efe74ce749"
      },
      "outputs": [
        {
          "output_type": "execute_result",
          "data": {
            "text/plain": [
              "                kVA\n",
              "count  46273.000000\n",
              "mean    1588.526961\n",
              "std      575.836961\n",
              "min      330.000000\n",
              "25%     1166.000000\n",
              "50%     1562.000000\n",
              "75%     2002.000000\n",
              "max     3256.000000"
            ],
            "text/html": [
              "\n",
              "  <div id=\"df-142fe384-2f28-4e46-bc1c-88ca1f9886b8\">\n",
              "    <div class=\"colab-df-container\">\n",
              "      <div>\n",
              "<style scoped>\n",
              "    .dataframe tbody tr th:only-of-type {\n",
              "        vertical-align: middle;\n",
              "    }\n",
              "\n",
              "    .dataframe tbody tr th {\n",
              "        vertical-align: top;\n",
              "    }\n",
              "\n",
              "    .dataframe thead th {\n",
              "        text-align: right;\n",
              "    }\n",
              "</style>\n",
              "<table border=\"1\" class=\"dataframe\">\n",
              "  <thead>\n",
              "    <tr style=\"text-align: right;\">\n",
              "      <th></th>\n",
              "      <th>kVA</th>\n",
              "    </tr>\n",
              "  </thead>\n",
              "  <tbody>\n",
              "    <tr>\n",
              "      <th>count</th>\n",
              "      <td>46273.000000</td>\n",
              "    </tr>\n",
              "    <tr>\n",
              "      <th>mean</th>\n",
              "      <td>1588.526961</td>\n",
              "    </tr>\n",
              "    <tr>\n",
              "      <th>std</th>\n",
              "      <td>575.836961</td>\n",
              "    </tr>\n",
              "    <tr>\n",
              "      <th>min</th>\n",
              "      <td>330.000000</td>\n",
              "    </tr>\n",
              "    <tr>\n",
              "      <th>25%</th>\n",
              "      <td>1166.000000</td>\n",
              "    </tr>\n",
              "    <tr>\n",
              "      <th>50%</th>\n",
              "      <td>1562.000000</td>\n",
              "    </tr>\n",
              "    <tr>\n",
              "      <th>75%</th>\n",
              "      <td>2002.000000</td>\n",
              "    </tr>\n",
              "    <tr>\n",
              "      <th>max</th>\n",
              "      <td>3256.000000</td>\n",
              "    </tr>\n",
              "  </tbody>\n",
              "</table>\n",
              "</div>\n",
              "      <button class=\"colab-df-convert\" onclick=\"convertToInteractive('df-142fe384-2f28-4e46-bc1c-88ca1f9886b8')\"\n",
              "              title=\"Convert this dataframe to an interactive table.\"\n",
              "              style=\"display:none;\">\n",
              "        \n",
              "  <svg xmlns=\"http://www.w3.org/2000/svg\" height=\"24px\"viewBox=\"0 0 24 24\"\n",
              "       width=\"24px\">\n",
              "    <path d=\"M0 0h24v24H0V0z\" fill=\"none\"/>\n",
              "    <path d=\"M18.56 5.44l.94 2.06.94-2.06 2.06-.94-2.06-.94-.94-2.06-.94 2.06-2.06.94zm-11 1L8.5 8.5l.94-2.06 2.06-.94-2.06-.94L8.5 2.5l-.94 2.06-2.06.94zm10 10l.94 2.06.94-2.06 2.06-.94-2.06-.94-.94-2.06-.94 2.06-2.06.94z\"/><path d=\"M17.41 7.96l-1.37-1.37c-.4-.4-.92-.59-1.43-.59-.52 0-1.04.2-1.43.59L10.3 9.45l-7.72 7.72c-.78.78-.78 2.05 0 2.83L4 21.41c.39.39.9.59 1.41.59.51 0 1.02-.2 1.41-.59l7.78-7.78 2.81-2.81c.8-.78.8-2.07 0-2.86zM5.41 20L4 18.59l7.72-7.72 1.47 1.35L5.41 20z\"/>\n",
              "  </svg>\n",
              "      </button>\n",
              "      \n",
              "  <style>\n",
              "    .colab-df-container {\n",
              "      display:flex;\n",
              "      flex-wrap:wrap;\n",
              "      gap: 12px;\n",
              "    }\n",
              "\n",
              "    .colab-df-convert {\n",
              "      background-color: #E8F0FE;\n",
              "      border: none;\n",
              "      border-radius: 50%;\n",
              "      cursor: pointer;\n",
              "      display: none;\n",
              "      fill: #1967D2;\n",
              "      height: 32px;\n",
              "      padding: 0 0 0 0;\n",
              "      width: 32px;\n",
              "    }\n",
              "\n",
              "    .colab-df-convert:hover {\n",
              "      background-color: #E2EBFA;\n",
              "      box-shadow: 0px 1px 2px rgba(60, 64, 67, 0.3), 0px 1px 3px 1px rgba(60, 64, 67, 0.15);\n",
              "      fill: #174EA6;\n",
              "    }\n",
              "\n",
              "    [theme=dark] .colab-df-convert {\n",
              "      background-color: #3B4455;\n",
              "      fill: #D2E3FC;\n",
              "    }\n",
              "\n",
              "    [theme=dark] .colab-df-convert:hover {\n",
              "      background-color: #434B5C;\n",
              "      box-shadow: 0px 1px 3px 1px rgba(0, 0, 0, 0.15);\n",
              "      filter: drop-shadow(0px 1px 2px rgba(0, 0, 0, 0.3));\n",
              "      fill: #FFFFFF;\n",
              "    }\n",
              "  </style>\n",
              "\n",
              "      <script>\n",
              "        const buttonEl =\n",
              "          document.querySelector('#df-142fe384-2f28-4e46-bc1c-88ca1f9886b8 button.colab-df-convert');\n",
              "        buttonEl.style.display =\n",
              "          google.colab.kernel.accessAllowed ? 'block' : 'none';\n",
              "\n",
              "        async function convertToInteractive(key) {\n",
              "          const element = document.querySelector('#df-142fe384-2f28-4e46-bc1c-88ca1f9886b8');\n",
              "          const dataTable =\n",
              "            await google.colab.kernel.invokeFunction('convertToInteractive',\n",
              "                                                     [key], {});\n",
              "          if (!dataTable) return;\n",
              "\n",
              "          const docLinkHtml = 'Like what you see? Visit the ' +\n",
              "            '<a target=\"_blank\" href=https://colab.research.google.com/notebooks/data_table.ipynb>data table notebook</a>'\n",
              "            + ' to learn more about interactive tables.';\n",
              "          element.innerHTML = '';\n",
              "          dataTable['output_type'] = 'display_data';\n",
              "          await google.colab.output.renderOutput(dataTable, element);\n",
              "          const docLink = document.createElement('div');\n",
              "          docLink.innerHTML = docLinkHtml;\n",
              "          element.appendChild(docLink);\n",
              "        }\n",
              "      </script>\n",
              "    </div>\n",
              "  </div>\n",
              "  "
            ]
          },
          "metadata": {},
          "execution_count": 75
        }
      ],
      "source": [
        "df_input.describe()"
      ]
    },
    {
      "cell_type": "code",
      "execution_count": 76,
      "metadata": {
        "id": "jrABKEFdPW-k",
        "colab": {
          "base_uri": "https://localhost:8080/",
          "height": 300
        },
        "outputId": "749dc5d9-7909-4108-da2e-9d6803c9f5eb"
      },
      "outputs": [
        {
          "output_type": "execute_result",
          "data": {
            "text/plain": [
              "               Hour        week-1        week-2           t-3           t-2  \\\n",
              "count  46273.000000  46273.000000  46273.000000  46273.000000  46273.000000   \n",
              "mean      11.874765   1593.102309   1591.364396   1588.787609   1588.761935   \n",
              "std        6.651085    576.360731    576.889007    577.467060    577.453578   \n",
              "min        0.000000    121.000000    110.000000    110.000000    110.000000   \n",
              "25%        6.000000   1166.000000   1166.000000   1166.000000   1166.000000   \n",
              "50%       11.000000   1584.000000   1573.000000   1562.000000   1562.000000   \n",
              "75%       18.000000   2002.000000   2002.000000   2002.000000   2002.000000   \n",
              "max       23.000000   3927.000000   3927.000000   3927.000000   3927.000000   \n",
              "\n",
              "                t-1          t-28          Temp  \n",
              "count  46273.000000  46273.000000  46273.000000  \n",
              "mean    1588.737688   1589.039830     18.334353  \n",
              "std      577.445926    577.442709      6.225458  \n",
              "min      110.000000    110.000000      0.000000  \n",
              "25%     1166.000000   1166.000000     14.000000  \n",
              "50%     1562.000000   1570.800000     20.000000  \n",
              "75%     2002.000000   2002.000000     23.000000  \n",
              "max     3927.000000   3927.000000     32.000000  "
            ],
            "text/html": [
              "\n",
              "  <div id=\"df-9f69b620-b401-4423-a772-67aa0890cb7b\">\n",
              "    <div class=\"colab-df-container\">\n",
              "      <div>\n",
              "<style scoped>\n",
              "    .dataframe tbody tr th:only-of-type {\n",
              "        vertical-align: middle;\n",
              "    }\n",
              "\n",
              "    .dataframe tbody tr th {\n",
              "        vertical-align: top;\n",
              "    }\n",
              "\n",
              "    .dataframe thead th {\n",
              "        text-align: right;\n",
              "    }\n",
              "</style>\n",
              "<table border=\"1\" class=\"dataframe\">\n",
              "  <thead>\n",
              "    <tr style=\"text-align: right;\">\n",
              "      <th></th>\n",
              "      <th>Hour</th>\n",
              "      <th>week-1</th>\n",
              "      <th>week-2</th>\n",
              "      <th>t-3</th>\n",
              "      <th>t-2</th>\n",
              "      <th>t-1</th>\n",
              "      <th>t-28</th>\n",
              "      <th>Temp</th>\n",
              "    </tr>\n",
              "  </thead>\n",
              "  <tbody>\n",
              "    <tr>\n",
              "      <th>count</th>\n",
              "      <td>46273.000000</td>\n",
              "      <td>46273.000000</td>\n",
              "      <td>46273.000000</td>\n",
              "      <td>46273.000000</td>\n",
              "      <td>46273.000000</td>\n",
              "      <td>46273.000000</td>\n",
              "      <td>46273.000000</td>\n",
              "      <td>46273.000000</td>\n",
              "    </tr>\n",
              "    <tr>\n",
              "      <th>mean</th>\n",
              "      <td>11.874765</td>\n",
              "      <td>1593.102309</td>\n",
              "      <td>1591.364396</td>\n",
              "      <td>1588.787609</td>\n",
              "      <td>1588.761935</td>\n",
              "      <td>1588.737688</td>\n",
              "      <td>1589.039830</td>\n",
              "      <td>18.334353</td>\n",
              "    </tr>\n",
              "    <tr>\n",
              "      <th>std</th>\n",
              "      <td>6.651085</td>\n",
              "      <td>576.360731</td>\n",
              "      <td>576.889007</td>\n",
              "      <td>577.467060</td>\n",
              "      <td>577.453578</td>\n",
              "      <td>577.445926</td>\n",
              "      <td>577.442709</td>\n",
              "      <td>6.225458</td>\n",
              "    </tr>\n",
              "    <tr>\n",
              "      <th>min</th>\n",
              "      <td>0.000000</td>\n",
              "      <td>121.000000</td>\n",
              "      <td>110.000000</td>\n",
              "      <td>110.000000</td>\n",
              "      <td>110.000000</td>\n",
              "      <td>110.000000</td>\n",
              "      <td>110.000000</td>\n",
              "      <td>0.000000</td>\n",
              "    </tr>\n",
              "    <tr>\n",
              "      <th>25%</th>\n",
              "      <td>6.000000</td>\n",
              "      <td>1166.000000</td>\n",
              "      <td>1166.000000</td>\n",
              "      <td>1166.000000</td>\n",
              "      <td>1166.000000</td>\n",
              "      <td>1166.000000</td>\n",
              "      <td>1166.000000</td>\n",
              "      <td>14.000000</td>\n",
              "    </tr>\n",
              "    <tr>\n",
              "      <th>50%</th>\n",
              "      <td>11.000000</td>\n",
              "      <td>1584.000000</td>\n",
              "      <td>1573.000000</td>\n",
              "      <td>1562.000000</td>\n",
              "      <td>1562.000000</td>\n",
              "      <td>1562.000000</td>\n",
              "      <td>1570.800000</td>\n",
              "      <td>20.000000</td>\n",
              "    </tr>\n",
              "    <tr>\n",
              "      <th>75%</th>\n",
              "      <td>18.000000</td>\n",
              "      <td>2002.000000</td>\n",
              "      <td>2002.000000</td>\n",
              "      <td>2002.000000</td>\n",
              "      <td>2002.000000</td>\n",
              "      <td>2002.000000</td>\n",
              "      <td>2002.000000</td>\n",
              "      <td>23.000000</td>\n",
              "    </tr>\n",
              "    <tr>\n",
              "      <th>max</th>\n",
              "      <td>23.000000</td>\n",
              "      <td>3927.000000</td>\n",
              "      <td>3927.000000</td>\n",
              "      <td>3927.000000</td>\n",
              "      <td>3927.000000</td>\n",
              "      <td>3927.000000</td>\n",
              "      <td>3927.000000</td>\n",
              "      <td>32.000000</td>\n",
              "    </tr>\n",
              "  </tbody>\n",
              "</table>\n",
              "</div>\n",
              "      <button class=\"colab-df-convert\" onclick=\"convertToInteractive('df-9f69b620-b401-4423-a772-67aa0890cb7b')\"\n",
              "              title=\"Convert this dataframe to an interactive table.\"\n",
              "              style=\"display:none;\">\n",
              "        \n",
              "  <svg xmlns=\"http://www.w3.org/2000/svg\" height=\"24px\"viewBox=\"0 0 24 24\"\n",
              "       width=\"24px\">\n",
              "    <path d=\"M0 0h24v24H0V0z\" fill=\"none\"/>\n",
              "    <path d=\"M18.56 5.44l.94 2.06.94-2.06 2.06-.94-2.06-.94-.94-2.06-.94 2.06-2.06.94zm-11 1L8.5 8.5l.94-2.06 2.06-.94-2.06-.94L8.5 2.5l-.94 2.06-2.06.94zm10 10l.94 2.06.94-2.06 2.06-.94-2.06-.94-.94-2.06-.94 2.06-2.06.94z\"/><path d=\"M17.41 7.96l-1.37-1.37c-.4-.4-.92-.59-1.43-.59-.52 0-1.04.2-1.43.59L10.3 9.45l-7.72 7.72c-.78.78-.78 2.05 0 2.83L4 21.41c.39.39.9.59 1.41.59.51 0 1.02-.2 1.41-.59l7.78-7.78 2.81-2.81c.8-.78.8-2.07 0-2.86zM5.41 20L4 18.59l7.72-7.72 1.47 1.35L5.41 20z\"/>\n",
              "  </svg>\n",
              "      </button>\n",
              "      \n",
              "  <style>\n",
              "    .colab-df-container {\n",
              "      display:flex;\n",
              "      flex-wrap:wrap;\n",
              "      gap: 12px;\n",
              "    }\n",
              "\n",
              "    .colab-df-convert {\n",
              "      background-color: #E8F0FE;\n",
              "      border: none;\n",
              "      border-radius: 50%;\n",
              "      cursor: pointer;\n",
              "      display: none;\n",
              "      fill: #1967D2;\n",
              "      height: 32px;\n",
              "      padding: 0 0 0 0;\n",
              "      width: 32px;\n",
              "    }\n",
              "\n",
              "    .colab-df-convert:hover {\n",
              "      background-color: #E2EBFA;\n",
              "      box-shadow: 0px 1px 2px rgba(60, 64, 67, 0.3), 0px 1px 3px 1px rgba(60, 64, 67, 0.15);\n",
              "      fill: #174EA6;\n",
              "    }\n",
              "\n",
              "    [theme=dark] .colab-df-convert {\n",
              "      background-color: #3B4455;\n",
              "      fill: #D2E3FC;\n",
              "    }\n",
              "\n",
              "    [theme=dark] .colab-df-convert:hover {\n",
              "      background-color: #434B5C;\n",
              "      box-shadow: 0px 1px 3px 1px rgba(0, 0, 0, 0.15);\n",
              "      filter: drop-shadow(0px 1px 2px rgba(0, 0, 0, 0.3));\n",
              "      fill: #FFFFFF;\n",
              "    }\n",
              "  </style>\n",
              "\n",
              "      <script>\n",
              "        const buttonEl =\n",
              "          document.querySelector('#df-9f69b620-b401-4423-a772-67aa0890cb7b button.colab-df-convert');\n",
              "        buttonEl.style.display =\n",
              "          google.colab.kernel.accessAllowed ? 'block' : 'none';\n",
              "\n",
              "        async function convertToInteractive(key) {\n",
              "          const element = document.querySelector('#df-9f69b620-b401-4423-a772-67aa0890cb7b');\n",
              "          const dataTable =\n",
              "            await google.colab.kernel.invokeFunction('convertToInteractive',\n",
              "                                                     [key], {});\n",
              "          if (!dataTable) return;\n",
              "\n",
              "          const docLinkHtml = 'Like what you see? Visit the ' +\n",
              "            '<a target=\"_blank\" href=https://colab.research.google.com/notebooks/data_table.ipynb>data table notebook</a>'\n",
              "            + ' to learn more about interactive tables.';\n",
              "          element.innerHTML = '';\n",
              "          dataTable['output_type'] = 'display_data';\n",
              "          await google.colab.output.renderOutput(dataTable, element);\n",
              "          const docLink = document.createElement('div');\n",
              "          docLink.innerHTML = docLinkHtml;\n",
              "          element.appendChild(docLink);\n",
              "        }\n",
              "      </script>\n",
              "    </div>\n",
              "  </div>\n",
              "  "
            ]
          },
          "metadata": {},
          "execution_count": 76
        }
      ],
      "source": [
        "df_input1.describe()"
      ]
    },
    {
      "cell_type": "code",
      "source": [
        "df_input1.head()"
      ],
      "metadata": {
        "colab": {
          "base_uri": "https://localhost:8080/",
          "height": 206
        },
        "id": "gFpKtN-GKtuZ",
        "outputId": "4e97b90c-7844-4785-e583-87d03d1425e9"
      },
      "execution_count": 77,
      "outputs": [
        {
          "output_type": "execute_result",
          "data": {
            "text/plain": [
              "   Hour  week-1      week-2     t-3     t-2     t-1    t-28  Temp\n",
              "0     0   770.0  968.000000  2486.0  2332.0  2002.0   836.0  18.0\n",
              "1     1   726.0  798.589713  2332.0  2002.0  1760.0   836.0  18.0\n",
              "2     2   704.0  682.000000  2002.0  1760.0  1320.0   858.0  15.0\n",
              "3     3   704.0  682.000000  1760.0  1320.0   880.0  1056.0  15.0\n",
              "4     4   748.0  682.000000  1320.0   880.0   946.0  1386.0  11.0"
            ],
            "text/html": [
              "\n",
              "  <div id=\"df-81c75577-8648-40c3-b291-028b1bbee5e2\">\n",
              "    <div class=\"colab-df-container\">\n",
              "      <div>\n",
              "<style scoped>\n",
              "    .dataframe tbody tr th:only-of-type {\n",
              "        vertical-align: middle;\n",
              "    }\n",
              "\n",
              "    .dataframe tbody tr th {\n",
              "        vertical-align: top;\n",
              "    }\n",
              "\n",
              "    .dataframe thead th {\n",
              "        text-align: right;\n",
              "    }\n",
              "</style>\n",
              "<table border=\"1\" class=\"dataframe\">\n",
              "  <thead>\n",
              "    <tr style=\"text-align: right;\">\n",
              "      <th></th>\n",
              "      <th>Hour</th>\n",
              "      <th>week-1</th>\n",
              "      <th>week-2</th>\n",
              "      <th>t-3</th>\n",
              "      <th>t-2</th>\n",
              "      <th>t-1</th>\n",
              "      <th>t-28</th>\n",
              "      <th>Temp</th>\n",
              "    </tr>\n",
              "  </thead>\n",
              "  <tbody>\n",
              "    <tr>\n",
              "      <th>0</th>\n",
              "      <td>0</td>\n",
              "      <td>770.0</td>\n",
              "      <td>968.000000</td>\n",
              "      <td>2486.0</td>\n",
              "      <td>2332.0</td>\n",
              "      <td>2002.0</td>\n",
              "      <td>836.0</td>\n",
              "      <td>18.0</td>\n",
              "    </tr>\n",
              "    <tr>\n",
              "      <th>1</th>\n",
              "      <td>1</td>\n",
              "      <td>726.0</td>\n",
              "      <td>798.589713</td>\n",
              "      <td>2332.0</td>\n",
              "      <td>2002.0</td>\n",
              "      <td>1760.0</td>\n",
              "      <td>836.0</td>\n",
              "      <td>18.0</td>\n",
              "    </tr>\n",
              "    <tr>\n",
              "      <th>2</th>\n",
              "      <td>2</td>\n",
              "      <td>704.0</td>\n",
              "      <td>682.000000</td>\n",
              "      <td>2002.0</td>\n",
              "      <td>1760.0</td>\n",
              "      <td>1320.0</td>\n",
              "      <td>858.0</td>\n",
              "      <td>15.0</td>\n",
              "    </tr>\n",
              "    <tr>\n",
              "      <th>3</th>\n",
              "      <td>3</td>\n",
              "      <td>704.0</td>\n",
              "      <td>682.000000</td>\n",
              "      <td>1760.0</td>\n",
              "      <td>1320.0</td>\n",
              "      <td>880.0</td>\n",
              "      <td>1056.0</td>\n",
              "      <td>15.0</td>\n",
              "    </tr>\n",
              "    <tr>\n",
              "      <th>4</th>\n",
              "      <td>4</td>\n",
              "      <td>748.0</td>\n",
              "      <td>682.000000</td>\n",
              "      <td>1320.0</td>\n",
              "      <td>880.0</td>\n",
              "      <td>946.0</td>\n",
              "      <td>1386.0</td>\n",
              "      <td>11.0</td>\n",
              "    </tr>\n",
              "  </tbody>\n",
              "</table>\n",
              "</div>\n",
              "      <button class=\"colab-df-convert\" onclick=\"convertToInteractive('df-81c75577-8648-40c3-b291-028b1bbee5e2')\"\n",
              "              title=\"Convert this dataframe to an interactive table.\"\n",
              "              style=\"display:none;\">\n",
              "        \n",
              "  <svg xmlns=\"http://www.w3.org/2000/svg\" height=\"24px\"viewBox=\"0 0 24 24\"\n",
              "       width=\"24px\">\n",
              "    <path d=\"M0 0h24v24H0V0z\" fill=\"none\"/>\n",
              "    <path d=\"M18.56 5.44l.94 2.06.94-2.06 2.06-.94-2.06-.94-.94-2.06-.94 2.06-2.06.94zm-11 1L8.5 8.5l.94-2.06 2.06-.94-2.06-.94L8.5 2.5l-.94 2.06-2.06.94zm10 10l.94 2.06.94-2.06 2.06-.94-2.06-.94-.94-2.06-.94 2.06-2.06.94z\"/><path d=\"M17.41 7.96l-1.37-1.37c-.4-.4-.92-.59-1.43-.59-.52 0-1.04.2-1.43.59L10.3 9.45l-7.72 7.72c-.78.78-.78 2.05 0 2.83L4 21.41c.39.39.9.59 1.41.59.51 0 1.02-.2 1.41-.59l7.78-7.78 2.81-2.81c.8-.78.8-2.07 0-2.86zM5.41 20L4 18.59l7.72-7.72 1.47 1.35L5.41 20z\"/>\n",
              "  </svg>\n",
              "      </button>\n",
              "      \n",
              "  <style>\n",
              "    .colab-df-container {\n",
              "      display:flex;\n",
              "      flex-wrap:wrap;\n",
              "      gap: 12px;\n",
              "    }\n",
              "\n",
              "    .colab-df-convert {\n",
              "      background-color: #E8F0FE;\n",
              "      border: none;\n",
              "      border-radius: 50%;\n",
              "      cursor: pointer;\n",
              "      display: none;\n",
              "      fill: #1967D2;\n",
              "      height: 32px;\n",
              "      padding: 0 0 0 0;\n",
              "      width: 32px;\n",
              "    }\n",
              "\n",
              "    .colab-df-convert:hover {\n",
              "      background-color: #E2EBFA;\n",
              "      box-shadow: 0px 1px 2px rgba(60, 64, 67, 0.3), 0px 1px 3px 1px rgba(60, 64, 67, 0.15);\n",
              "      fill: #174EA6;\n",
              "    }\n",
              "\n",
              "    [theme=dark] .colab-df-convert {\n",
              "      background-color: #3B4455;\n",
              "      fill: #D2E3FC;\n",
              "    }\n",
              "\n",
              "    [theme=dark] .colab-df-convert:hover {\n",
              "      background-color: #434B5C;\n",
              "      box-shadow: 0px 1px 3px 1px rgba(0, 0, 0, 0.15);\n",
              "      filter: drop-shadow(0px 1px 2px rgba(0, 0, 0, 0.3));\n",
              "      fill: #FFFFFF;\n",
              "    }\n",
              "  </style>\n",
              "\n",
              "      <script>\n",
              "        const buttonEl =\n",
              "          document.querySelector('#df-81c75577-8648-40c3-b291-028b1bbee5e2 button.colab-df-convert');\n",
              "        buttonEl.style.display =\n",
              "          google.colab.kernel.accessAllowed ? 'block' : 'none';\n",
              "\n",
              "        async function convertToInteractive(key) {\n",
              "          const element = document.querySelector('#df-81c75577-8648-40c3-b291-028b1bbee5e2');\n",
              "          const dataTable =\n",
              "            await google.colab.kernel.invokeFunction('convertToInteractive',\n",
              "                                                     [key], {});\n",
              "          if (!dataTable) return;\n",
              "\n",
              "          const docLinkHtml = 'Like what you see? Visit the ' +\n",
              "            '<a target=\"_blank\" href=https://colab.research.google.com/notebooks/data_table.ipynb>data table notebook</a>'\n",
              "            + ' to learn more about interactive tables.';\n",
              "          element.innerHTML = '';\n",
              "          dataTable['output_type'] = 'display_data';\n",
              "          await google.colab.output.renderOutput(dataTable, element);\n",
              "          const docLink = document.createElement('div');\n",
              "          docLink.innerHTML = docLinkHtml;\n",
              "          element.appendChild(docLink);\n",
              "        }\n",
              "      </script>\n",
              "    </div>\n",
              "  </div>\n",
              "  "
            ]
          },
          "metadata": {},
          "execution_count": 77
        }
      ]
    },
    {
      "cell_type": "code",
      "source": [
        "dataset_32 = df_input1.head(1)"
      ],
      "metadata": {
        "id": "_T5hklqpLm0S"
      },
      "execution_count": 78,
      "outputs": []
    },
    {
      "cell_type": "code",
      "execution_count": 79,
      "metadata": {
        "id": "RkwqBmSMOtGZ",
        "colab": {
          "base_uri": "https://localhost:8080/",
          "height": 796
        },
        "outputId": "3912b93f-9c50-424d-91c1-3cb7e4f715c8"
      },
      "outputs": [
        {
          "output_type": "stream",
          "name": "stderr",
          "text": [
            "/usr/local/lib/python3.8/dist-packages/seaborn/axisgrid.py:337: UserWarning: The `size` parameter has been renamed to `height`; please update your code.\n",
            "  warnings.warn(msg, UserWarning)\n"
          ]
        },
        {
          "output_type": "display_data",
          "data": {
            "text/plain": [
              "<Figure size 720x720 with 2 Axes>"
            ],
            "image/png": "[encoded data removed]"
          },
          "metadata": {
            "needs_background": "light"
          }
        }
      ],
      "source": [
        "# Create a FacetGrid object with the desired height\n",
        "g = sns.FacetGrid(df, size = 10)\n",
        "\n",
        "# Load a sample dataset\n",
        "\n",
        "\n",
        "# Compute the correlation matrix\n",
        "corr = df_input1.corr()\n",
        "\n",
        "# Generate a heatmap from the correlation matrix\n",
        "sns.heatmap(corr, annot=True, cmap=\"coolwarm\")\n",
        "plt.title(\"Correlation among different features using heat map\")\n",
        "\n",
        "# Show the plot\n",
        "plt.show()"
      ]
    },
    {
      "cell_type": "code",
      "execution_count": 80,
      "metadata": {
        "id": "BZGtOBcsli8r"
      },
      "outputs": [],
      "source": [
        "#scaler = MinMaxScaler()\n",
        "#data_scaled = scaler.fit_transform(df_input)"
      ]
    },
    {
      "cell_type": "code",
      "source": [
        "from sklearn.preprocessing import StandardScaler\n",
        "\n",
        "scaler = StandardScaler()\n",
        "data_scaled = scaler.fit_transform(df_input1)\n",
        "data_t = scaler.fit_transform(df_input)"
      ],
      "metadata": {
        "id": "gOCKe3Sg6KuS"
      },
      "execution_count": 81,
      "outputs": []
    },
    {
      "cell_type": "code",
      "execution_count": 82,
      "metadata": {
        "id": "kNTwpO6rl9CW"
      },
      "outputs": [],
      "source": [
        "features= data_scaled\n",
        "target = data_t"
      ]
    },
    {
      "cell_type": "code",
      "source": [
        "means1 = scaler.mean_\n",
        "stds1 = scaler.scale_\n",
        "print(\"Means:\", means1)\n",
        "print(\"Standard deviations:\", stds1)"
      ],
      "metadata": {
        "colab": {
          "base_uri": "https://localhost:8080/"
        },
        "id": "HkFn1biyz5pe",
        "outputId": "44ddcdb7-65b6-42ce-b772-1b55ee751cec"
      },
      "execution_count": 83,
      "outputs": [
        {
          "output_type": "stream",
          "name": "stdout",
          "text": [
            "Means: [1588.52696137]\n",
            "Standard deviations: [575.83073855]\n"
          ]
        }
      ]
    },
    {
      "cell_type": "code",
      "execution_count": 84,
      "metadata": {
        "id": "Y5atoeFHmDP2",
        "colab": {
          "base_uri": "https://localhost:8080/"
        },
        "outputId": "bfb5a43b-1a42-4cbe-b854-5a1e17aa16e5"
      },
      "outputs": [
        {
          "output_type": "execute_result",
          "data": {
            "text/plain": [
              "(array([[[-1.78540695, -1.42811812, -1.08057378, ...,  0.71568048,\n",
              "          -1.30410854, -0.0537079 ],\n",
              "         [-1.63505392, -1.50446002, -1.37423879, ...,  0.29658909,\n",
              "          -1.30410854, -0.0537079 ],\n",
              "         [-1.48470088, -1.54263097, -1.57634174, ..., -0.46539525,\n",
              "          -1.26600911, -0.53560536],\n",
              "         ...,\n",
              "         [ 1.37200678,  0.28957471,  0.74995411, ...,  1.02047422,\n",
              "          -0.46592109,  0.26755708],\n",
              "         [ 1.52235981, -0.47384432,  0.44486613, ...,  0.86807735,\n",
              "          -1.22790968,  0.26755708],\n",
              "         [ 1.67271285, -1.16092146, -0.24158183, ...,  0.67758126,\n",
              "          -1.11361139,  0.26755708]],\n",
              " \n",
              "        [[-1.63505392, -1.50446002, -1.37423879, ...,  0.29658909,\n",
              "          -1.30410854, -0.0537079 ],\n",
              "         [-1.48470088, -1.54263097, -1.57634174, ..., -0.46539525,\n",
              "          -1.26600911, -0.53560536],\n",
              "         [-1.33434785, -1.54263097, -1.57634174, ..., -1.2273796 ,\n",
              "          -0.92311424, -0.53560536],\n",
              "         ...,\n",
              "         [ 1.52235981, -0.47384432,  0.44486613, ...,  0.86807735,\n",
              "          -1.22790968,  0.26755708],\n",
              "         [ 1.67271285, -1.16092146, -0.24158183, ...,  0.67758126,\n",
              "          -1.11361139,  0.26755708],\n",
              "         [-1.78540695, -1.23726336, -1.30938976, ...,  0.37278753,\n",
              "          -1.11361139, -0.37497287]],\n",
              " \n",
              "        [[-1.48470088, -1.54263097, -1.57634174, ..., -0.46539525,\n",
              "          -1.26600911, -0.53560536],\n",
              "         [-1.33434785, -1.54263097, -1.57634174, ..., -1.2273796 ,\n",
              "          -0.92311424, -0.53560536],\n",
              "         [-1.18399481, -1.46628907, -1.57634174, ..., -1.11308194,\n",
              "          -0.3516228 , -1.1781353 ],\n",
              "         ...,\n",
              "         [ 1.67271285, -1.16092146, -0.24158183, ...,  0.67758126,\n",
              "          -1.11361139,  0.26755708],\n",
              "         [-1.78540695, -1.23726336, -1.30938976, ...,  0.37278753,\n",
              "          -1.11361139, -0.37497287],\n",
              "         [-1.63505392, -1.46628907, -1.51913775, ..., -0.38919682,\n",
              "          -1.11361139, -0.21434038]],\n",
              " \n",
              "        ...,\n",
              " \n",
              "        [[ 1.37200678,  0.28957471,  0.74995411, ...,  1.02047422,\n",
              "          -0.46592109,  0.26755708],\n",
              "         [ 1.52235981, -0.47384432,  0.44486613, ...,  0.86807735,\n",
              "          -1.22790968,  0.26755708],\n",
              "         [ 1.67271285, -1.16092146, -0.24158183, ...,  0.67758126,\n",
              "          -1.11361139,  0.26755708],\n",
              "         ...,\n",
              "         [ 1.07130071,  0.55677138,  0.67368211, ...,  0.14419222,\n",
              "           0.67706179,  0.26755708],\n",
              "         [ 1.22165374,  0.82396804,  1.05504209, ...,  0.48708518,\n",
              "           0.37226636,  0.02660835],\n",
              "         [ 1.22165374,  0.59494233,  0.8643621 , ...,  0.94427578,\n",
              "          -0.38972223, -0.21434038]],\n",
              " \n",
              "        [[ 1.52235981, -0.47384432,  0.44486613, ...,  0.86807735,\n",
              "          -1.22790968,  0.26755708],\n",
              "         [ 1.67271285, -1.16092146, -0.24158183, ...,  0.67758126,\n",
              "          -1.11361139,  0.26755708],\n",
              "         [-1.78540695, -1.23726336, -1.30938976, ...,  0.37278753,\n",
              "          -1.11361139, -0.37497287],\n",
              "         ...,\n",
              "         [ 1.22165374,  0.82396804,  1.05504209, ...,  0.48708518,\n",
              "           0.37226636,  0.02660835],\n",
              "         [ 1.22165374,  0.59494233,  0.8643621 , ...,  0.94427578,\n",
              "          -0.38972223, -0.21434038],\n",
              "         [ 1.37200678,  0.28957471,  0.33045813, ...,  1.36336717,\n",
              "          -1.18981025, -0.21434038]],\n",
              " \n",
              "        [[ 1.67271285, -1.16092146, -0.24158183, ...,  0.67758126,\n",
              "          -1.11361139,  0.26755708],\n",
              "         [-1.78540695, -1.23726336, -1.30938976, ...,  0.37278753,\n",
              "          -1.11361139, -0.37497287],\n",
              "         [-1.63505392, -1.46628907, -1.51913775, ..., -0.38919682,\n",
              "          -1.11361139, -0.21434038],\n",
              "         ...,\n",
              "         [ 1.22165374,  0.59494233,  0.8643621 , ...,  0.94427578,\n",
              "          -0.38972223, -0.21434038],\n",
              "         [ 1.37200678,  0.28957471,  0.33045813, ...,  1.36336717,\n",
              "          -1.18981025, -0.21434038],\n",
              "         [ 1.52235981, -0.43567337, -0.39412582, ...,  1.32526796,\n",
              "          -1.22790968, -0.21434038]]]), array([[-0.38991833],\n",
              "        [-1.19223743],\n",
              "        [-1.2304431 ],\n",
              "        [-1.38326579],\n",
              "        [-1.42147146],\n",
              "        [-1.45967713],\n",
              "        [-1.42147146],\n",
              "        [-0.84838639],\n",
              "        [-0.58094669],\n",
              "        [-0.1606843 ],\n",
              "        [ 0.14496107],\n",
              "        [ 0.33598942],\n",
              "        [ 0.48881211],\n",
              "        [ 0.48881211],\n",
              "        [ 0.33598942],\n",
              "        [ 0.29778375],\n",
              "        [ 0.29778375],\n",
              "        [ 0.25957808],\n",
              "        [ 0.1067554 ],\n",
              "        [ 0.1067554 ],\n",
              "        [ 0.1067554 ],\n",
              "        [ 0.22137241],\n",
              "        [ 0.14496107],\n",
              "        [ 0.14496107],\n",
              "        [ 0.03034405],\n",
              "        [ 0.14496107],\n",
              "        [ 0.48881211],\n",
              "        [ 0.94728017],\n",
              "        [ 1.36754255],\n",
              "        [ 1.32933688],\n",
              "        [ 1.06189718],\n",
              "        [ 0.87086882]]))"
            ]
          },
          "metadata": {},
          "execution_count": 84
        }
      ],
      "source": [
        "TimeseriesGenerator(features, target , length= 32 , sampling_rate =1 , batch_size=32)[0]"
      ]
    },
    {
      "cell_type": "code",
      "source": [
        "features.shape"
      ],
      "metadata": {
        "colab": {
          "base_uri": "https://localhost:8080/"
        },
        "id": "dQP_Y7O6o6oh",
        "outputId": "d58614f1-153b-4a5d-c9af-587c60ad3ad2"
      },
      "execution_count": 85,
      "outputs": [
        {
          "output_type": "execute_result",
          "data": {
            "text/plain": [
              "(46273, 8)"
            ]
          },
          "metadata": {},
          "execution_count": 85
        }
      ]
    },
    {
      "cell_type": "code",
      "source": [
        "target.shape"
      ],
      "metadata": {
        "colab": {
          "base_uri": "https://localhost:8080/"
        },
        "id": "NXr4CsD3pCi1",
        "outputId": "04b6dde1-5c7d-4306-e1f1-de55504c37c0"
      },
      "execution_count": 86,
      "outputs": [
        {
          "output_type": "execute_result",
          "data": {
            "text/plain": [
              "(46273, 1)"
            ]
          },
          "metadata": {},
          "execution_count": 86
        }
      ]
    },
    {
      "cell_type": "code",
      "execution_count": 87,
      "metadata": {
        "id": "brIQQE1HnFd0"
      },
      "outputs": [],
      "source": [
        "x_train , x_test , y_train, y_test = train_test_split(features, target, test_size= 0.20 , random_state= 123, shuffle = False)"
      ]
    },
    {
      "cell_type": "code",
      "execution_count": 88,
      "metadata": {
        "id": "YXBeS5bdniq0",
        "colab": {
          "base_uri": "https://localhost:8080/"
        },
        "outputId": "bb8336bc-2058-4ae6-ad49-d2551d6c0298"
      },
      "outputs": [
        {
          "output_type": "execute_result",
          "data": {
            "text/plain": [
              "(37018, 8)"
            ]
          },
          "metadata": {},
          "execution_count": 88
        }
      ],
      "source": [
        "x_train.shape"
      ]
    },
    {
      "cell_type": "code",
      "execution_count": 89,
      "metadata": {
        "id": "JKczuXCKnmUs",
        "colab": {
          "base_uri": "https://localhost:8080/"
        },
        "outputId": "5fcbf038-9305-4968-ba18-c23da3e4528f"
      },
      "outputs": [
        {
          "output_type": "execute_result",
          "data": {
            "text/plain": [
              "(9255, 8)"
            ]
          },
          "metadata": {},
          "execution_count": 89
        }
      ],
      "source": [
        "x_test.shape"
      ]
    },
    {
      "cell_type": "code",
      "execution_count": 90,
      "metadata": {
        "id": "O6f30y3Fnpek"
      },
      "outputs": [],
      "source": [
        "win_length = 32\n",
        "batch_size =32\n",
        "sr = 1\n",
        "num_features = 8\n",
        "train_generator = TimeseriesGenerator(x_train , y_train, length = win_length , sampling_rate =sr , batch_size = batch_size)\n",
        "test_generator = TimeseriesGenerator(x_test , y_test, length = win_length , sampling_rate =sr , batch_size = batch_size)"
      ]
    },
    {
      "cell_type": "code",
      "source": [
        "y_train.shape"
      ],
      "metadata": {
        "colab": {
          "base_uri": "https://localhost:8080/"
        },
        "id": "Knulfvr2hK0i",
        "outputId": "0871bba7-9c8a-41ca-d43f-b4db2f960258"
      },
      "execution_count": 91,
      "outputs": [
        {
          "output_type": "execute_result",
          "data": {
            "text/plain": [
              "(37018, 1)"
            ]
          },
          "metadata": {},
          "execution_count": 91
        }
      ]
    },
    {
      "cell_type": "code",
      "source": [
        "model1 = tf.keras.Sequential()\n",
        "model1.add(tf.keras.layers.GRU(128, input_shape=(win_length, num_features), return_sequences=True))\n",
        "model1.add(tf.keras.layers.GRU(128, return_sequences=True))\n",
        "model1.add(tf.keras.layers.GRU(64, return_sequences=False))\n",
        "model1.add(tf.keras.layers.Dropout(0.3))\n",
        "model1.add(tf.keras.layers.Dense(1))"
      ],
      "metadata": {
        "id": "yf1f4NTH7OWI"
      },
      "execution_count": 92,
      "outputs": []
    },
    {
      "cell_type": "code",
      "source": [
        "model2 = tf.keras.Sequential()\n",
        "model2.add(tf.keras.layers.LSTM(128, input_shape=(win_length, num_features), return_sequences=True))\n",
        "model2.add(tf.keras.layers.LSTM(128, return_sequences=True))\n",
        "model2.add(tf.keras.layers.LSTM(64, return_sequences=False))\n",
        "model2.add(tf.keras.layers.Dropout(0.3))\n",
        "model2.add(tf.keras.layers.Dense(1))"
      ],
      "metadata": {
        "id": "syl_u2sJ29Ah"
      },
      "execution_count": 93,
      "outputs": []
    },
    {
      "cell_type": "code",
      "source": [
        "model3 = tf.keras.Sequential()\n",
        "model3.add(tf.keras.layers.Bidirectional(tf.keras.layers.GRU(128, input_shape = (win_length, num_features), return_sequences =True)))\n",
        "model3.add(tf.keras.layers.Bidirectional(tf.keras.layers.GRU(128, return_sequences= True)))\n",
        "model3.add(tf.keras.layers.Bidirectional(tf.keras.layers.GRU(64, return_sequences= False)))\n",
        "model3.add(tf.keras.layers.Dropout(0.3))\n",
        "model3.add(tf.keras.layers.Dense(1))"
      ],
      "metadata": {
        "id": "_7RuE5x15hBf"
      },
      "execution_count": 94,
      "outputs": []
    },
    {
      "cell_type": "code",
      "execution_count": 95,
      "metadata": {
        "id": "2cZEii9FpNDy"
      },
      "outputs": [],
      "source": [
        "model4 = tf.keras.Sequential()\n",
        "model4.add(tf.keras.layers.Bidirectional(tf.keras.layers.LSTM(128, input_shape = (win_length, num_features), return_sequences =True)))\n",
        "model4.add(tf.keras.layers.Bidirectional(tf.keras.layers.LSTM(128, return_sequences= True)))\n",
        "model4.add(tf.keras.layers.Bidirectional(tf.keras.layers.LSTM(64, return_sequences= False)))\n",
        "model4.add(tf.keras.layers.Dropout(0.3))\n",
        "model4.add(tf.keras.layers.Dense(1))"
      ]
    },
    {
      "cell_type": "code",
      "execution_count": 96,
      "metadata": {
        "id": "SYG6e3EkqSre",
        "colab": {
          "base_uri": "https://localhost:8080/"
        },
        "outputId": "7308c33c-26b1-448d-c521-2fec03d8b084"
      },
      "outputs": [
        {
          "output_type": "stream",
          "name": "stdout",
          "text": [
            "Epoch 1/50\n"
          ]
        },
        {
          "output_type": "stream",
          "name": "stderr",
          "text": [
            "<ipython-input-96-99534e15f1eb>:11: UserWarning: `Model.fit_generator` is deprecated and will be removed in a future version. Please use `Model.fit`, which supports generators.\n",
            "  history = model1.fit_generator(train_generator, epochs = 50,\n"
          ]
        },
        {
          "output_type": "stream",
          "name": "stdout",
          "text": [
            "1156/1156 [==============================] - 22s 13ms/step - loss: 0.1981 - binary_accuracy: 0.0000e+00 - false_negatives_1: 23143.0000 - mean_absolute_error: 0.3088 - val_loss: 0.0964 - val_binary_accuracy: 0.0000e+00 - val_false_negatives_1: 8732.0000 - val_mean_absolute_error: 0.2276\n",
            "Epoch 2/50\n",
            "1156/1156 [==============================] - 13s 12ms/step - loss: 0.1683 - binary_accuracy: 0.0000e+00 - false_negatives_1: 23226.0000 - mean_absolute_error: 0.2772 - val_loss: 0.0835 - val_binary_accuracy: 0.0000e+00 - val_false_negatives_1: 8742.0000 - val_mean_absolute_error: 0.2125\n",
            "Epoch 3/50\n",
            "1156/1156 [==============================] - 14s 12ms/step - loss: 0.1558 - binary_accuracy: 0.0000e+00 - false_negatives_1: 23173.0000 - mean_absolute_error: 0.2628 - val_loss: 0.0789 - val_binary_accuracy: 0.0000e+00 - val_false_negatives_1: 8735.0000 - val_mean_absolute_error: 0.2077\n",
            "Epoch 4/50\n",
            "1156/1156 [==============================] - 13s 11ms/step - loss: 0.1503 - binary_accuracy: 0.0000e+00 - false_negatives_1: 23107.0000 - mean_absolute_error: 0.2573 - val_loss: 0.0703 - val_binary_accuracy: 0.0000e+00 - val_false_negatives_1: 8747.0000 - val_mean_absolute_error: 0.1954\n",
            "Epoch 5/50\n",
            "1156/1156 [==============================] - 14s 12ms/step - loss: 0.1481 - binary_accuracy: 0.0000e+00 - false_negatives_1: 23124.0000 - mean_absolute_error: 0.2540 - val_loss: 0.0649 - val_binary_accuracy: 0.0000e+00 - val_false_negatives_1: 8747.0000 - val_mean_absolute_error: 0.1862\n",
            "Epoch 6/50\n",
            "1156/1156 [==============================] - 15s 13ms/step - loss: 0.1458 - binary_accuracy: 0.0000e+00 - false_negatives_1: 23190.0000 - mean_absolute_error: 0.2515 - val_loss: 0.0638 - val_binary_accuracy: 0.0000e+00 - val_false_negatives_1: 8745.0000 - val_mean_absolute_error: 0.1847\n",
            "Epoch 7/50\n",
            "1156/1156 [==============================] - 13s 12ms/step - loss: 0.1436 - binary_accuracy: 0.0000e+00 - false_negatives_1: 23181.0000 - mean_absolute_error: 0.2489 - val_loss: 0.0622 - val_binary_accuracy: 0.0000e+00 - val_false_negatives_1: 8758.0000 - val_mean_absolute_error: 0.1818\n",
            "Epoch 8/50\n",
            "1156/1156 [==============================] - 13s 12ms/step - loss: 0.1425 - binary_accuracy: 0.0000e+00 - false_negatives_1: 23200.0000 - mean_absolute_error: 0.2477 - val_loss: 0.0591 - val_binary_accuracy: 0.0000e+00 - val_false_negatives_1: 8764.0000 - val_mean_absolute_error: 0.1747\n",
            "Epoch 9/50\n",
            "1156/1156 [==============================] - 13s 12ms/step - loss: 0.1404 - binary_accuracy: 0.0000e+00 - false_negatives_1: 23143.0000 - mean_absolute_error: 0.2453 - val_loss: 0.0557 - val_binary_accuracy: 0.0000e+00 - val_false_negatives_1: 8774.0000 - val_mean_absolute_error: 0.1672\n",
            "Epoch 10/50\n",
            "1156/1156 [==============================] - 13s 12ms/step - loss: 0.1386 - binary_accuracy: 0.0000e+00 - false_negatives_1: 23178.0000 - mean_absolute_error: 0.2430 - val_loss: 0.0529 - val_binary_accuracy: 0.0000e+00 - val_false_negatives_1: 8805.0000 - val_mean_absolute_error: 0.1596\n",
            "Epoch 11/50\n",
            "1156/1156 [==============================] - 13s 12ms/step - loss: 0.1366 - binary_accuracy: 0.0000e+00 - false_negatives_1: 23219.0000 - mean_absolute_error: 0.2417 - val_loss: 0.0535 - val_binary_accuracy: 0.0000e+00 - val_false_negatives_1: 8787.0000 - val_mean_absolute_error: 0.1616\n",
            "Training time:  164.4849772453308  seconds\n"
          ]
        }
      ],
      "source": [
        "from tensorflow.python import losses\n",
        "early_Stopping = tf.keras.callbacks.EarlyStopping(monitor = 'val_loss',\n",
        "                                                  patience =1, \n",
        "                                                  mode ='min')\n",
        "model1.compile(loss= tf.losses.MeanSquaredError(), \n",
        "              optimizer = tf.optimizers.Adamax(),\n",
        "              metrics=[tf.keras.metrics.BinaryAccuracy(),\n",
        "                       tf.keras.metrics.FalseNegatives(),\n",
        "                       tf.metrics.MeanAbsoluteError()] )\n",
        "start_time1 = time.time()\n",
        "history = model1.fit_generator(train_generator, epochs = 50,\n",
        "                              validation_data = test_generator,\n",
        "                              shuffle = False,\n",
        "                              callbacks= [early_Stopping])\n",
        "\n",
        "end_time1 = time.time()\n",
        "training_time1 = end_time1 - start_time1\n",
        "\n",
        "# print the training time\n",
        "print(\"Training time: \", training_time1, \" seconds\")\n",
        "model1.save_weights('1.h5', save_format='h5')"
      ]
    },
    {
      "cell_type": "code",
      "source": [
        "from tensorflow.python import losses\n",
        "early_Stopping = tf.keras.callbacks.EarlyStopping(monitor = 'val_loss',\n",
        "                                                  patience =1, \n",
        "                                                  mode ='min')\n",
        "model2.compile(loss= tf.losses.MeanSquaredError(), \n",
        "              optimizer = tf.optimizers.Adamax(),\n",
        "              metrics=[tf.keras.metrics.BinaryAccuracy(),\n",
        "                       tf.keras.metrics.FalseNegatives(),\n",
        "                       tf.metrics.MeanAbsoluteError()] )\n",
        "start_time2 = time.time()\n",
        "history2 = model2.fit_generator(train_generator, epochs = 50,\n",
        "                              validation_data = test_generator,\n",
        "                              shuffle = False,\n",
        "                              callbacks= [early_Stopping])\n",
        "\n",
        "end_time2 = time.time()\n",
        "training_time2 = end_time2 - start_time2\n",
        "\n",
        "# print the training time\n",
        "print(\"Training time: \", training_time2, \" seconds\")\n",
        "model2.save_weights('2.h5', save_format='h5')"
      ],
      "metadata": {
        "colab": {
          "base_uri": "https://localhost:8080/"
        },
        "id": "kW5xwEZjARTM",
        "outputId": "4af640f4-7709-440b-e3d7-64b89a94cb35"
      },
      "execution_count": 97,
      "outputs": [
        {
          "output_type": "stream",
          "name": "stdout",
          "text": [
            "Epoch 1/50\n"
          ]
        },
        {
          "output_type": "stream",
          "name": "stderr",
          "text": [
            "<ipython-input-97-1ebb681e937f>:11: UserWarning: `Model.fit_generator` is deprecated and will be removed in a future version. Please use `Model.fit`, which supports generators.\n",
            "  history2 = model2.fit_generator(train_generator, epochs = 50,\n"
          ]
        },
        {
          "output_type": "stream",
          "name": "stdout",
          "text": [
            "1156/1156 [==============================] - 23s 14ms/step - loss: 0.2428 - binary_accuracy: 0.0000e+00 - false_negatives_2: 23686.0000 - mean_absolute_error: 0.3491 - val_loss: 0.1823 - val_binary_accuracy: 0.0000e+00 - val_false_negatives_2: 8765.0000 - val_mean_absolute_error: 0.3411\n",
            "Epoch 2/50\n",
            "1156/1156 [==============================] - 15s 13ms/step - loss: 0.2048 - binary_accuracy: 0.0000e+00 - false_negatives_2: 23308.0000 - mean_absolute_error: 0.3127 - val_loss: 0.1208 - val_binary_accuracy: 0.0000e+00 - val_false_negatives_2: 8807.0000 - val_mean_absolute_error: 0.2739\n",
            "Epoch 3/50\n",
            "1156/1156 [==============================] - 15s 13ms/step - loss: 0.1952 - binary_accuracy: 0.0000e+00 - false_negatives_2: 23195.0000 - mean_absolute_error: 0.3036 - val_loss: 0.1069 - val_binary_accuracy: 0.0000e+00 - val_false_negatives_2: 8819.0000 - val_mean_absolute_error: 0.2569\n",
            "Epoch 4/50\n",
            "1156/1156 [==============================] - 14s 12ms/step - loss: 0.1895 - binary_accuracy: 0.0000e+00 - false_negatives_2: 23166.0000 - mean_absolute_error: 0.2979 - val_loss: 0.1038 - val_binary_accuracy: 0.0000e+00 - val_false_negatives_2: 8778.0000 - val_mean_absolute_error: 0.2528\n",
            "Epoch 5/50\n",
            "1156/1156 [==============================] - 15s 13ms/step - loss: 0.1861 - binary_accuracy: 0.0000e+00 - false_negatives_2: 23161.0000 - mean_absolute_error: 0.2937 - val_loss: 0.1017 - val_binary_accuracy: 0.0000e+00 - val_false_negatives_2: 8779.0000 - val_mean_absolute_error: 0.2489\n",
            "Epoch 6/50\n",
            "1156/1156 [==============================] - 14s 12ms/step - loss: 0.1797 - binary_accuracy: 0.0000e+00 - false_negatives_2: 23147.0000 - mean_absolute_error: 0.2873 - val_loss: 0.0980 - val_binary_accuracy: 0.0000e+00 - val_false_negatives_2: 8785.0000 - val_mean_absolute_error: 0.2421\n",
            "Epoch 7/50\n",
            "1156/1156 [==============================] - 15s 13ms/step - loss: 0.1745 - binary_accuracy: 0.0000e+00 - false_negatives_2: 23203.0000 - mean_absolute_error: 0.2823 - val_loss: 0.0902 - val_binary_accuracy: 0.0000e+00 - val_false_negatives_2: 8843.0000 - val_mean_absolute_error: 0.2294\n",
            "Epoch 8/50\n",
            "1156/1156 [==============================] - 15s 13ms/step - loss: 0.1698 - binary_accuracy: 0.0000e+00 - false_negatives_2: 23272.0000 - mean_absolute_error: 0.2777 - val_loss: 0.0929 - val_binary_accuracy: 0.0000e+00 - val_false_negatives_2: 8851.0000 - val_mean_absolute_error: 0.2324\n",
            "Training time:  125.48927879333496  seconds\n"
          ]
        }
      ]
    },
    {
      "cell_type": "code",
      "source": [
        "from tensorflow.python import losses\n",
        "early_Stopping = tf.keras.callbacks.EarlyStopping(monitor = 'val_loss',\n",
        "                                                  patience =1, \n",
        "                                                  mode ='min')\n",
        "model3.compile(loss= tf.losses.MeanSquaredError(), \n",
        "              optimizer = tf.optimizers.Adamax(),\n",
        "              metrics=[tf.keras.metrics.BinaryAccuracy(),\n",
        "                       tf.keras.metrics.FalseNegatives(),\n",
        "                       tf.metrics.MeanAbsoluteError()] )\n",
        "start_time3 = time.time()\n",
        "history3 = model3.fit_generator(train_generator, epochs = 50,\n",
        "                              validation_data = test_generator,\n",
        "                              shuffle = False,\n",
        "                              callbacks= [early_Stopping])\n",
        "\n",
        "end_time3 = time.time()\n",
        "training_time3 = end_time3 - start_time3\n",
        "\n",
        "# print the training time\n",
        "print(\"Training time: \", training_time3, \" seconds\")\n",
        "model3.save_weights('3.h5', save_format='h5')"
      ],
      "metadata": {
        "colab": {
          "base_uri": "https://localhost:8080/"
        },
        "id": "AunCcpTFIv0s",
        "outputId": "2588cc81-71f1-4efd-f043-5a237ef4a73f"
      },
      "execution_count": 98,
      "outputs": [
        {
          "output_type": "stream",
          "name": "stderr",
          "text": [
            "<ipython-input-98-7db7a5a8316c>:11: UserWarning: `Model.fit_generator` is deprecated and will be removed in a future version. Please use `Model.fit`, which supports generators.\n",
            "  history3 = model3.fit_generator(train_generator, epochs = 50,\n"
          ]
        },
        {
          "output_type": "stream",
          "name": "stdout",
          "text": [
            "Epoch 1/50\n",
            "1156/1156 [==============================] - 37s 20ms/step - loss: 0.1803 - binary_accuracy: 0.0000e+00 - false_negatives_3: 23226.0000 - mean_absolute_error: 0.2905 - val_loss: 0.1295 - val_binary_accuracy: 0.0000e+00 - val_false_negatives_3: 8474.0000 - val_mean_absolute_error: 0.2670\n",
            "Epoch 2/50\n",
            "1156/1156 [==============================] - 23s 20ms/step - loss: 0.1607 - binary_accuracy: 0.0000e+00 - false_negatives_3: 23122.0000 - mean_absolute_error: 0.2682 - val_loss: 0.1020 - val_binary_accuracy: 0.0000e+00 - val_false_negatives_3: 8611.0000 - val_mean_absolute_error: 0.2359\n",
            "Epoch 3/50\n",
            "1156/1156 [==============================] - 20s 18ms/step - loss: 0.1520 - binary_accuracy: 0.0000e+00 - false_negatives_3: 23122.0000 - mean_absolute_error: 0.2577 - val_loss: 0.0798 - val_binary_accuracy: 0.0000e+00 - val_false_negatives_3: 8754.0000 - val_mean_absolute_error: 0.2082\n",
            "Epoch 4/50\n",
            "1156/1156 [==============================] - 21s 18ms/step - loss: 0.1478 - binary_accuracy: 0.0000e+00 - false_negatives_3: 23063.0000 - mean_absolute_error: 0.2526 - val_loss: 0.0754 - val_binary_accuracy: 0.0000e+00 - val_false_negatives_3: 8755.0000 - val_mean_absolute_error: 0.2021\n",
            "Epoch 5/50\n",
            "1156/1156 [==============================] - 21s 18ms/step - loss: 0.1439 - binary_accuracy: 0.0000e+00 - false_negatives_3: 23092.0000 - mean_absolute_error: 0.2482 - val_loss: 0.0708 - val_binary_accuracy: 0.0000e+00 - val_false_negatives_3: 8852.0000 - val_mean_absolute_error: 0.1960\n",
            "Epoch 6/50\n",
            "1156/1156 [==============================] - 21s 18ms/step - loss: 0.1410 - binary_accuracy: 0.0000e+00 - false_negatives_3: 23104.0000 - mean_absolute_error: 0.2445 - val_loss: 0.0780 - val_binary_accuracy: 0.0000e+00 - val_false_negatives_3: 8878.0000 - val_mean_absolute_error: 0.2100\n",
            "Training time:  163.2035892009735  seconds\n"
          ]
        }
      ]
    },
    {
      "cell_type": "code",
      "source": [
        "from tensorflow.python import losses\n",
        "early_Stopping = tf.keras.callbacks.EarlyStopping(monitor = 'val_loss',\n",
        "                                                  patience =1, \n",
        "                                                  mode ='min')\n",
        "model4.compile(loss= tf.losses.MeanSquaredError(), \n",
        "              optimizer = tf.optimizers.Adamax(),\n",
        "              metrics=[tf.keras.metrics.BinaryAccuracy(),\n",
        "                       tf.keras.metrics.FalseNegatives(),\n",
        "                       tf.metrics.MeanAbsoluteError()] )\n",
        "start_time4 = time.time()\n",
        "history4 = model4.fit_generator(train_generator, epochs = 50,\n",
        "                              validation_data = test_generator,\n",
        "                              shuffle = False,\n",
        "                              callbacks= [early_Stopping])\n",
        "\n",
        "end_time4 = time.time()\n",
        "training_time4 = end_time4 - start_time4\n",
        "\n",
        "# print the training time\n",
        "print(\"Training time: \", training_time4, \" seconds\")\n",
        "model4.save_weights('4.h5', save_format='h5')"
      ],
      "metadata": {
        "colab": {
          "base_uri": "https://localhost:8080/"
        },
        "id": "6RjD3IcTI4Jx",
        "outputId": "cf59e7c8-1ab7-4e37-d864-4ac95e0513ea"
      },
      "execution_count": 99,
      "outputs": [
        {
          "output_type": "stream",
          "name": "stderr",
          "text": [
            "<ipython-input-99-6a11408ee188>:11: UserWarning: `Model.fit_generator` is deprecated and will be removed in a future version. Please use `Model.fit`, which supports generators.\n",
            "  history4 = model4.fit_generator(train_generator, epochs = 50,\n"
          ]
        },
        {
          "output_type": "stream",
          "name": "stdout",
          "text": [
            "Epoch 1/50\n",
            "1156/1156 [==============================] - 39s 21ms/step - loss: 0.1971 - binary_accuracy: 0.0000e+00 - false_negatives_4: 23237.0000 - mean_absolute_error: 0.3050 - val_loss: 0.1145 - val_binary_accuracy: 0.0000e+00 - val_false_negatives_4: 8563.0000 - val_mean_absolute_error: 0.2529\n",
            "Epoch 2/50\n",
            "1156/1156 [==============================] - 21s 18ms/step - loss: 0.1749 - binary_accuracy: 0.0000e+00 - false_negatives_4: 23102.0000 - mean_absolute_error: 0.2823 - val_loss: 0.0948 - val_binary_accuracy: 0.0000e+00 - val_false_negatives_4: 8761.0000 - val_mean_absolute_error: 0.2325\n",
            "Epoch 3/50\n",
            "1156/1156 [==============================] - 22s 19ms/step - loss: 0.1645 - binary_accuracy: 0.0000e+00 - false_negatives_4: 23071.0000 - mean_absolute_error: 0.2710 - val_loss: 0.0910 - val_binary_accuracy: 0.0000e+00 - val_false_negatives_4: 8812.0000 - val_mean_absolute_error: 0.2316\n",
            "Epoch 4/50\n",
            "1156/1156 [==============================] - 22s 19ms/step - loss: 0.1598 - binary_accuracy: 0.0000e+00 - false_negatives_4: 23107.0000 - mean_absolute_error: 0.2656 - val_loss: 0.0901 - val_binary_accuracy: 0.0000e+00 - val_false_negatives_4: 8851.0000 - val_mean_absolute_error: 0.2313\n",
            "Epoch 5/50\n",
            "1156/1156 [==============================] - 22s 19ms/step - loss: 0.1553 - binary_accuracy: 0.0000e+00 - false_negatives_4: 23150.0000 - mean_absolute_error: 0.2614 - val_loss: 0.0932 - val_binary_accuracy: 0.0000e+00 - val_false_negatives_4: 8887.0000 - val_mean_absolute_error: 0.2357\n",
            "Training time:  147.90584588050842  seconds\n"
          ]
        }
      ]
    },
    {
      "cell_type": "code",
      "execution_count": 100,
      "metadata": {
        "id": "JWcIu94Or_fd",
        "colab": {
          "base_uri": "https://localhost:8080/"
        },
        "outputId": "f610d077-994c-4dec-fee3-67bdb096326f"
      },
      "outputs": [
        {
          "output_type": "stream",
          "name": "stderr",
          "text": [
            "<ipython-input-100-9f5e32d9bca1>:1: UserWarning: `Model.evaluate_generator` is deprecated and will be removed in a future version. Please use `Model.evaluate`, which supports generators.\n",
            "  model1.evaluate_generator(test_generator, verbose =0)\n",
            "<ipython-input-100-9f5e32d9bca1>:2: UserWarning: `Model.evaluate_generator` is deprecated and will be removed in a future version. Please use `Model.evaluate`, which supports generators.\n",
            "  model2.evaluate_generator(test_generator, verbose =0)\n",
            "<ipython-input-100-9f5e32d9bca1>:3: UserWarning: `Model.evaluate_generator` is deprecated and will be removed in a future version. Please use `Model.evaluate`, which supports generators.\n",
            "  model3.evaluate_generator(test_generator, verbose =0)\n",
            "<ipython-input-100-9f5e32d9bca1>:4: UserWarning: `Model.evaluate_generator` is deprecated and will be removed in a future version. Please use `Model.evaluate`, which supports generators.\n",
            "  model4.evaluate_generator(test_generator, verbose =0)\n"
          ]
        },
        {
          "output_type": "execute_result",
          "data": {
            "text/plain": [
              "[0.09319011867046356, 0.0, 8887.0, 0.23574970662593842]"
            ]
          },
          "metadata": {},
          "execution_count": 100
        }
      ],
      "source": [
        "model1.evaluate_generator(test_generator, verbose =0)\n",
        "model2.evaluate_generator(test_generator, verbose =0)\n",
        "model3.evaluate_generator(test_generator, verbose =0)\n",
        "model4.evaluate_generator(test_generator, verbose =0)"
      ]
    },
    {
      "cell_type": "code",
      "source": [
        "predictions1 = model1.predict_generator(test_generator)"
      ],
      "metadata": {
        "colab": {
          "base_uri": "https://localhost:8080/"
        },
        "id": "4xGiG3IF1kpU",
        "outputId": "e5671aa2-8440-43a2-c42b-e85b09d8d14b"
      },
      "execution_count": 101,
      "outputs": [
        {
          "output_type": "stream",
          "name": "stderr",
          "text": [
            "<ipython-input-101-dc0678926118>:1: UserWarning: `Model.predict_generator` is deprecated and will be removed in a future version. Please use `Model.predict`, which supports generators.\n",
            "  predictions1 = model1.predict_generator(test_generator)\n"
          ]
        }
      ]
    },
    {
      "cell_type": "code",
      "execution_count": 102,
      "metadata": {
        "id": "eXfsjsgJsHIF",
        "colab": {
          "base_uri": "https://localhost:8080/"
        },
        "outputId": "fb26d1f0-cdbe-4ac4-c868-f7eb194cceaa"
      },
      "outputs": [
        {
          "output_type": "stream",
          "name": "stderr",
          "text": [
            "<ipython-input-102-92f6207ba338>:1: UserWarning: `Model.predict_generator` is deprecated and will be removed in a future version. Please use `Model.predict`, which supports generators.\n",
            "  predictions1 = model1.predict_generator(test_generator)\n",
            "<ipython-input-102-92f6207ba338>:2: UserWarning: `Model.predict_generator` is deprecated and will be removed in a future version. Please use `Model.predict`, which supports generators.\n",
            "  predictions2 = model2.predict_generator(test_generator)\n",
            "<ipython-input-102-92f6207ba338>:3: UserWarning: `Model.predict_generator` is deprecated and will be removed in a future version. Please use `Model.predict`, which supports generators.\n",
            "  predictions3 = model3.predict_generator(test_generator)\n",
            "<ipython-input-102-92f6207ba338>:4: UserWarning: `Model.predict_generator` is deprecated and will be removed in a future version. Please use `Model.predict`, which supports generators.\n",
            "  predictions4 = model4.predict_generator(test_generator)\n"
          ]
        }
      ],
      "source": [
        "predictions1 = model1.predict_generator(test_generator)\n",
        "predictions2 = model2.predict_generator(test_generator)\n",
        "predictions3 = model3.predict_generator(test_generator)\n",
        "predictions4 = model4.predict_generator(test_generator)"
      ]
    },
    {
      "cell_type": "code",
      "execution_count": 103,
      "metadata": {
        "id": "lZhVnXTX0mG5"
      },
      "outputs": [],
      "source": [
        "i=predictions1.shape[0]"
      ]
    },
    {
      "cell_type": "code",
      "execution_count": 104,
      "metadata": {
        "id": "D8gg10Fk0zXZ",
        "colab": {
          "base_uri": "https://localhost:8080/"
        },
        "outputId": "4e4741d0-b1cf-4c5d-bb9f-83c2c4c72403"
      },
      "outputs": [
        {
          "output_type": "execute_result",
          "data": {
            "text/plain": [
              "array([[-1.0766873 ],\n",
              "       [-1.0300612 ],\n",
              "       [-1.0043473 ],\n",
              "       ...,\n",
              "       [-0.40748107],\n",
              "       [-0.63485295],\n",
              "       [-1.1373732 ]], dtype=float32)"
            ]
          },
          "metadata": {},
          "execution_count": 104
        }
      ],
      "source": [
        "predictions1"
      ]
    },
    {
      "cell_type": "code",
      "execution_count": 105,
      "metadata": {
        "id": "TICW59-k07M5",
        "colab": {
          "base_uri": "https://localhost:8080/"
        },
        "outputId": "e4c05398-dc74-411e-9a57-c85b5e0b65b2"
      },
      "outputs": [
        {
          "output_type": "execute_result",
          "data": {
            "text/plain": [
              "array([[-0.92479773],\n",
              "       [-0.88659206],\n",
              "       [-0.9630034 ],\n",
              "       ...,\n",
              "       [-0.50453535],\n",
              "       [-0.65735803],\n",
              "       [-1.03941475]])"
            ]
          },
          "metadata": {},
          "execution_count": 105
        }
      ],
      "source": [
        "y_test"
      ]
    },
    {
      "cell_type": "code",
      "execution_count": 106,
      "metadata": {
        "id": "Msk-7SFH09ry",
        "colab": {
          "base_uri": "https://localhost:8080/"
        },
        "outputId": "3f5c4216-e4b4-4b2b-a152-0ada90171d00"
      },
      "outputs": [
        {
          "output_type": "execute_result",
          "data": {
            "text/plain": [
              "array([[ 1.22165374, -0.62652813, -0.48946581, ..., -1.13213155,\n",
              "        -1.05646225, -1.33876779],\n",
              "       [ 1.22165374, -0.74104099, -0.62294181, ..., -0.92258586,\n",
              "        -0.7326171 , -1.41908403],\n",
              "       [ 1.37200678, -0.89372479, -0.7564178 , ..., -0.88448664,\n",
              "        -1.05646225, -1.49940027],\n",
              "       ...,\n",
              "       [ 1.67271285, -1.21817788, -0.87082579, ..., -0.31299838,\n",
              "        -1.81845084,  0.10692459],\n",
              "       [-1.78540695, -1.42811812, -1.32845776, ..., -0.50349447,\n",
              "        -1.81845084, -0.0537079 ],\n",
              "       [-1.63505392, -1.65714383, -1.70981773, ..., -0.65589134,\n",
              "        -1.81845084,  0.58882205]])"
            ]
          },
          "metadata": {},
          "execution_count": 106
        }
      ],
      "source": [
        "x_test"
      ]
    },
    {
      "cell_type": "code",
      "execution_count": 107,
      "metadata": {
        "id": "TxhG7UL20_8i",
        "colab": {
          "base_uri": "https://localhost:8080/"
        },
        "outputId": "796aaccd-2eab-4d5d-a2e6-fa4aa217d5c8"
      },
      "outputs": [
        {
          "output_type": "execute_result",
          "data": {
            "text/plain": [
              "array([[-0.53110075, -0.47039782, -1.43695915, ..., -1.18928038,\n",
              "        -1.18981025, -1.33876779],\n",
              "       [-0.66469908, -0.52760181, -1.39886133, ..., -0.96068507,\n",
              "        -0.65641824, -1.41908403],\n",
              "       [-0.85555384, -0.6420098 , -1.1893233 , ..., -0.99878429,\n",
              "        -1.15171082, -1.49940027],\n",
              "       ...,\n",
              "       [-1.21817788, -0.87082579, -0.06543753, ..., -0.31299838,\n",
              "        -1.81845084,  0.10692459],\n",
              "       [-1.42811812, -1.32845776, -0.16068209, ..., -0.50349447,\n",
              "        -1.81845084, -0.0537079 ],\n",
              "       [-1.65714383, -1.70981773, -0.31307338, ..., -0.65589134,\n",
              "        -1.81845084,  0.58882205]])"
            ]
          },
          "metadata": {},
          "execution_count": 107
        }
      ],
      "source": [
        "x_test[:,1:][win_length:]"
      ]
    },
    {
      "cell_type": "code",
      "execution_count": 108,
      "metadata": {
        "id": "A7_WNHz3t2tv"
      },
      "outputs": [],
      "source": [
        "df_pred = pd.concat([pd.DataFrame(predictions1),pd.DataFrame(predictions2),pd.DataFrame(predictions3),pd.DataFrame(predictions4), pd.DataFrame(x_test[:,1:][win_length:])],axis = 1)"
      ]
    },
    {
      "cell_type": "code",
      "source": [
        "df_pred = pd.concat([pd.DataFrame(predictions1),pd.DataFrame(predictions2),pd.DataFrame(predictions3),pd.DataFrame(predictions4), pd.DataFrame(x_test[:,1:][win_length:])],axis = 1)\n",
        "rev_trans = scaler.inverse_transform(df_pred)\n",
        "\n",
        "df_final = df_input1.iloc[predictions1.shape[0]*-1:].copy()\n",
        "df_final['GRU']= rev_trans[:,0]\n",
        "df_final['LSTM']= rev_trans[:,1]\n",
        "df_final['BiGRU']= rev_trans[:,2]\n",
        "df_final['BiLSTM']= rev_trans[:,3]"
      ],
      "metadata": {
        "id": "w7Oh8YYaPvvJ"
      },
      "execution_count": 109,
      "outputs": []
    },
    {
      "cell_type": "code",
      "execution_count": 110,
      "metadata": {
        "id": "RFAnagHhuX3J",
        "colab": {
          "base_uri": "https://localhost:8080/"
        },
        "outputId": "7e52266d-f1f7-4d15-bdc7-389b995a0db8"
      },
      "outputs": [
        {
          "output_type": "execute_result",
          "data": {
            "text/plain": [
              "(9223, 11)"
            ]
          },
          "metadata": {},
          "execution_count": 110
        }
      ],
      "source": [
        "rev_trans.shape"
      ]
    },
    {
      "cell_type": "code",
      "source": [
        "rev_trans"
      ],
      "metadata": {
        "colab": {
          "base_uri": "https://localhost:8080/"
        },
        "id": "vwr8Mo8ONtXb",
        "outputId": "e7ae3552-a47c-4616-97b3-ae7732eb58b5"
      },
      "execution_count": 111,
      "outputs": [
        {
          "output_type": "execute_result",
          "data": {
            "text/plain": [
              "array([[ 968.5372975 ,  993.26190244,  975.99262559, ...,  903.70276301,\n",
              "         903.39764639,  817.62331864],\n",
              "       [ 995.38603392, 1008.30229648,  995.39701702, ..., 1035.33496519,\n",
              "        1210.54116258,  771.37475708],\n",
              "       [1010.19289981, 1037.35740034, 1002.54591663, ..., 1013.39626483,\n",
              "         925.33646897,  725.12619553],\n",
              "       ...,\n",
              "       [1353.88683339, 1412.34511957, 1396.69032406, ..., 1408.29287137,\n",
              "         541.40707374, 1650.09742659],\n",
              "       [1222.95912071, 1209.65361023, 1130.25465439, ..., 1298.59936956,\n",
              "         541.40707374, 1557.60030349],\n",
              "       [ 933.59250642,  975.85245378,  916.27387427, ..., 1210.8445681 ,\n",
              "         541.40707374, 1927.58879591]])"
            ]
          },
          "metadata": {},
          "execution_count": 111
        }
      ]
    },
    {
      "cell_type": "code",
      "execution_count": 112,
      "metadata": {
        "id": "Oo85XkGMuuaD",
        "colab": {
          "base_uri": "https://localhost:8080/"
        },
        "outputId": "e022d3da-3597-45a8-9e39-8a770afa1349"
      },
      "outputs": [
        {
          "output_type": "execute_result",
          "data": {
            "text/plain": [
              "Hour      9223\n",
              "week-1    9223\n",
              "week-2    9223\n",
              "t-3       9223\n",
              "t-2       9223\n",
              "t-1       9223\n",
              "t-28      9223\n",
              "Temp      9223\n",
              "GRU       9223\n",
              "LSTM      9223\n",
              "BiGRU     9223\n",
              "BiLSTM    9223\n",
              "dtype: int64"
            ]
          },
          "metadata": {},
          "execution_count": 112
        }
      ],
      "source": [
        "df_final.count()"
      ]
    },
    {
      "cell_type": "code",
      "execution_count": 113,
      "metadata": {
        "id": "dqqZP4Tduyk6"
      },
      "outputs": [],
      "source": [
        "#df_final['App_Pred']= rev_trans[:,0]"
      ]
    },
    {
      "cell_type": "code",
      "source": [
        "last_220 = df_input.tail(i)"
      ],
      "metadata": {
        "id": "e4NPei5VXGZc"
      },
      "execution_count": 114,
      "outputs": []
    },
    {
      "cell_type": "code",
      "source": [
        "df_pred1 = pd.concat([pd.DataFrame(df_final), pd.DataFrame(last_220)],axis = 1)"
      ],
      "metadata": {
        "id": "TO49MdbqW-Cy"
      },
      "execution_count": 115,
      "outputs": []
    },
    {
      "cell_type": "code",
      "source": [
        "df_final = df_pred1"
      ],
      "metadata": {
        "id": "HxLCb2JpXj6_"
      },
      "execution_count": 116,
      "outputs": []
    },
    {
      "cell_type": "code",
      "execution_count": 117,
      "metadata": {
        "id": "peRfwUH1u-Lk",
        "colab": {
          "base_uri": "https://localhost:8080/",
          "height": 423
        },
        "outputId": "f070872a-d4ad-474c-d851-f0e28ce108a9"
      },
      "outputs": [
        {
          "output_type": "execute_result",
          "data": {
            "text/plain": [
              "       Hour  week-1  week-2     t-3     t-2     t-1    t-28  Temp  \\\n",
              "37050    20  1287.0  1320.0   759.0   781.0   902.0   902.0  10.0   \n",
              "37051    20  1210.0  1287.0   781.0   902.0  1034.0  1210.0   9.5   \n",
              "37052    21  1100.0  1221.0   902.0  1034.0  1012.0   924.0   9.0   \n",
              "37053    22  1210.0  1144.0  1034.0  1012.0   957.0   792.0   9.0   \n",
              "37054    23   979.0  1133.0  1012.0   957.0   924.0   682.0   9.0   \n",
              "...     ...     ...     ...     ...     ...     ...     ...   ...   \n",
              "46268    21  1364.0  1342.0  1265.0  1386.0  1551.0   924.0  20.0   \n",
              "46269    22  1243.0  1276.0  1386.0  1551.0  1496.0   770.0  20.0   \n",
              "46270    23   891.0  1089.0  1551.0  1496.0  1408.0   539.0  19.0   \n",
              "46271     0   770.0   825.0  1496.0  1408.0  1298.0   539.0  18.0   \n",
              "46272     1   638.0   605.0  1408.0  1298.0  1210.0   539.0  22.0   \n",
              "\n",
              "               GRU         LSTM        BiGRU       BiLSTM     kVA  \n",
              "37050   968.537298   993.261902   975.992626  1017.521030  1034.0  \n",
              "37051   995.386034  1008.302296   995.397017  1046.722621  1012.0  \n",
              "37052  1010.192900  1037.357400  1002.545917  1038.309772   957.0  \n",
              "37053  1018.744307  1044.368462   980.778717  1026.056546   924.0  \n",
              "37054  1004.719060  1028.409744   942.585880   992.459930   858.0  \n",
              "...            ...          ...          ...          ...     ...  \n",
              "46268  1512.344003  1631.317882  1628.666510  1687.082537  1496.0  \n",
              "46269  1432.592258  1568.126053  1541.073158  1618.459490  1408.0  \n",
              "46270  1353.886833  1412.345120  1396.690324  1460.169697  1298.0  \n",
              "46271  1222.959121  1209.653610  1130.254654  1186.476936  1210.0  \n",
              "46272   933.592506   975.852454   916.273874   964.936008   990.0  \n",
              "\n",
              "[9223 rows x 13 columns]"
            ],
            "text/html": [
              "\n",
              "  <div id=\"df-70305986-c6e9-4eac-8a6e-e81a10187d88\">\n",
              "    <div class=\"colab-df-container\">\n",
              "      <div>\n",
              "<style scoped>\n",
              "    .dataframe tbody tr th:only-of-type {\n",
              "        vertical-align: middle;\n",
              "    }\n",
              "\n",
              "    .dataframe tbody tr th {\n",
              "        vertical-align: top;\n",
              "    }\n",
              "\n",
              "    .dataframe thead th {\n",
              "        text-align: right;\n",
              "    }\n",
              "</style>\n",
              "<table border=\"1\" class=\"dataframe\">\n",
              "  <thead>\n",
              "    <tr style=\"text-align: right;\">\n",
              "      <th></th>\n",
              "      <th>Hour</th>\n",
              "      <th>week-1</th>\n",
              "      <th>week-2</th>\n",
              "      <th>t-3</th>\n",
              "      <th>t-2</th>\n",
              "      <th>t-1</th>\n",
              "      <th>t-28</th>\n",
              "      <th>Temp</th>\n",
              "      <th>GRU</th>\n",
              "      <th>LSTM</th>\n",
              "      <th>BiGRU</th>\n",
              "      <th>BiLSTM</th>\n",
              "      <th>kVA</th>\n",
              "    </tr>\n",
              "  </thead>\n",
              "  <tbody>\n",
              "    <tr>\n",
              "      <th>37050</th>\n",
              "      <td>20</td>\n",
              "      <td>1287.0</td>\n",
              "      <td>1320.0</td>\n",
              "      <td>759.0</td>\n",
              "      <td>781.0</td>\n",
              "      <td>902.0</td>\n",
              "      <td>902.0</td>\n",
              "      <td>10.0</td>\n",
              "      <td>968.537298</td>\n",
              "      <td>993.261902</td>\n",
              "      <td>975.992626</td>\n",
              "      <td>1017.521030</td>\n",
              "      <td>1034.0</td>\n",
              "    </tr>\n",
              "    <tr>\n",
              "      <th>37051</th>\n",
              "      <td>20</td>\n",
              "      <td>1210.0</td>\n",
              "      <td>1287.0</td>\n",
              "      <td>781.0</td>\n",
              "      <td>902.0</td>\n",
              "      <td>1034.0</td>\n",
              "      <td>1210.0</td>\n",
              "      <td>9.5</td>\n",
              "      <td>995.386034</td>\n",
              "      <td>1008.302296</td>\n",
              "      <td>995.397017</td>\n",
              "      <td>1046.722621</td>\n",
              "      <td>1012.0</td>\n",
              "    </tr>\n",
              "    <tr>\n",
              "      <th>37052</th>\n",
              "      <td>21</td>\n",
              "      <td>1100.0</td>\n",
              "      <td>1221.0</td>\n",
              "      <td>902.0</td>\n",
              "      <td>1034.0</td>\n",
              "      <td>1012.0</td>\n",
              "      <td>924.0</td>\n",
              "      <td>9.0</td>\n",
              "      <td>1010.192900</td>\n",
              "      <td>1037.357400</td>\n",
              "      <td>1002.545917</td>\n",
              "      <td>1038.309772</td>\n",
              "      <td>957.0</td>\n",
              "    </tr>\n",
              "    <tr>\n",
              "      <th>37053</th>\n",
              "      <td>22</td>\n",
              "      <td>1210.0</td>\n",
              "      <td>1144.0</td>\n",
              "      <td>1034.0</td>\n",
              "      <td>1012.0</td>\n",
              "      <td>957.0</td>\n",
              "      <td>792.0</td>\n",
              "      <td>9.0</td>\n",
              "      <td>1018.744307</td>\n",
              "      <td>1044.368462</td>\n",
              "      <td>980.778717</td>\n",
              "      <td>1026.056546</td>\n",
              "      <td>924.0</td>\n",
              "    </tr>\n",
              "    <tr>\n",
              "      <th>37054</th>\n",
              "      <td>23</td>\n",
              "      <td>979.0</td>\n",
              "      <td>1133.0</td>\n",
              "      <td>1012.0</td>\n",
              "      <td>957.0</td>\n",
              "      <td>924.0</td>\n",
              "      <td>682.0</td>\n",
              "      <td>9.0</td>\n",
              "      <td>1004.719060</td>\n",
              "      <td>1028.409744</td>\n",
              "      <td>942.585880</td>\n",
              "      <td>992.459930</td>\n",
              "      <td>858.0</td>\n",
              "    </tr>\n",
              "    <tr>\n",
              "      <th>...</th>\n",
              "      <td>...</td>\n",
              "      <td>...</td>\n",
              "      <td>...</td>\n",
              "      <td>...</td>\n",
              "      <td>...</td>\n",
              "      <td>...</td>\n",
              "      <td>...</td>\n",
              "      <td>...</td>\n",
              "      <td>...</td>\n",
              "      <td>...</td>\n",
              "      <td>...</td>\n",
              "      <td>...</td>\n",
              "      <td>...</td>\n",
              "    </tr>\n",
              "    <tr>\n",
              "      <th>46268</th>\n",
              "      <td>21</td>\n",
              "      <td>1364.0</td>\n",
              "      <td>1342.0</td>\n",
              "      <td>1265.0</td>\n",
              "      <td>1386.0</td>\n",
              "      <td>1551.0</td>\n",
              "      <td>924.0</td>\n",
              "      <td>20.0</td>\n",
              "      <td>1512.344003</td>\n",
              "      <td>1631.317882</td>\n",
              "      <td>1628.666510</td>\n",
              "      <td>1687.082537</td>\n",
              "      <td>1496.0</td>\n",
              "    </tr>\n",
              "    <tr>\n",
              "      <th>46269</th>\n",
              "      <td>22</td>\n",
              "      <td>1243.0</td>\n",
              "      <td>1276.0</td>\n",
              "      <td>1386.0</td>\n",
              "      <td>1551.0</td>\n",
              "      <td>1496.0</td>\n",
              "      <td>770.0</td>\n",
              "      <td>20.0</td>\n",
              "      <td>1432.592258</td>\n",
              "      <td>1568.126053</td>\n",
              "      <td>1541.073158</td>\n",
              "      <td>1618.459490</td>\n",
              "      <td>1408.0</td>\n",
              "    </tr>\n",
              "    <tr>\n",
              "      <th>46270</th>\n",
              "      <td>23</td>\n",
              "      <td>891.0</td>\n",
              "      <td>1089.0</td>\n",
              "      <td>1551.0</td>\n",
              "      <td>1496.0</td>\n",
              "      <td>1408.0</td>\n",
              "      <td>539.0</td>\n",
              "      <td>19.0</td>\n",
              "      <td>1353.886833</td>\n",
              "      <td>1412.345120</td>\n",
              "      <td>1396.690324</td>\n",
              "      <td>1460.169697</td>\n",
              "      <td>1298.0</td>\n",
              "    </tr>\n",
              "    <tr>\n",
              "      <th>46271</th>\n",
              "      <td>0</td>\n",
              "      <td>770.0</td>\n",
              "      <td>825.0</td>\n",
              "      <td>1496.0</td>\n",
              "      <td>1408.0</td>\n",
              "      <td>1298.0</td>\n",
              "      <td>539.0</td>\n",
              "      <td>18.0</td>\n",
              "      <td>1222.959121</td>\n",
              "      <td>1209.653610</td>\n",
              "      <td>1130.254654</td>\n",
              "      <td>1186.476936</td>\n",
              "      <td>1210.0</td>\n",
              "    </tr>\n",
              "    <tr>\n",
              "      <th>46272</th>\n",
              "      <td>1</td>\n",
              "      <td>638.0</td>\n",
              "      <td>605.0</td>\n",
              "      <td>1408.0</td>\n",
              "      <td>1298.0</td>\n",
              "      <td>1210.0</td>\n",
              "      <td>539.0</td>\n",
              "      <td>22.0</td>\n",
              "      <td>933.592506</td>\n",
              "      <td>975.852454</td>\n",
              "      <td>916.273874</td>\n",
              "      <td>964.936008</td>\n",
              "      <td>990.0</td>\n",
              "    </tr>\n",
              "  </tbody>\n",
              "</table>\n",
              "<p>9223 rows × 13 columns</p>\n",
              "</div>\n",
              "      <button class=\"colab-df-convert\" onclick=\"convertToInteractive('df-70305986-c6e9-4eac-8a6e-e81a10187d88')\"\n",
              "              title=\"Convert this dataframe to an interactive table.\"\n",
              "              style=\"display:none;\">\n",
              "        \n",
              "  <svg xmlns=\"http://www.w3.org/2000/svg\" height=\"24px\"viewBox=\"0 0 24 24\"\n",
              "       width=\"24px\">\n",
              "    <path d=\"M0 0h24v24H0V0z\" fill=\"none\"/>\n",
              "    <path d=\"M18.56 5.44l.94 2.06.94-2.06 2.06-.94-2.06-.94-.94-2.06-.94 2.06-2.06.94zm-11 1L8.5 8.5l.94-2.06 2.06-.94-2.06-.94L8.5 2.5l-.94 2.06-2.06.94zm10 10l.94 2.06.94-2.06 2.06-.94-2.06-.94-.94-2.06-.94 2.06-2.06.94z\"/><path d=\"M17.41 7.96l-1.37-1.37c-.4-.4-.92-.59-1.43-.59-.52 0-1.04.2-1.43.59L10.3 9.45l-7.72 7.72c-.78.78-.78 2.05 0 2.83L4 21.41c.39.39.9.59 1.41.59.51 0 1.02-.2 1.41-.59l7.78-7.78 2.81-2.81c.8-.78.8-2.07 0-2.86zM5.41 20L4 18.59l7.72-7.72 1.47 1.35L5.41 20z\"/>\n",
              "  </svg>\n",
              "      </button>\n",
              "      \n",
              "  <style>\n",
              "    .colab-df-container {\n",
              "      display:flex;\n",
              "      flex-wrap:wrap;\n",
              "      gap: 12px;\n",
              "    }\n",
              "\n",
              "    .colab-df-convert {\n",
              "      background-color: #E8F0FE;\n",
              "      border: none;\n",
              "      border-radius: 50%;\n",
              "      cursor: pointer;\n",
              "      display: none;\n",
              "      fill: #1967D2;\n",
              "      height: 32px;\n",
              "      padding: 0 0 0 0;\n",
              "      width: 32px;\n",
              "    }\n",
              "\n",
              "    .colab-df-convert:hover {\n",
              "      background-color: #E2EBFA;\n",
              "      box-shadow: 0px 1px 2px rgba(60, 64, 67, 0.3), 0px 1px 3px 1px rgba(60, 64, 67, 0.15);\n",
              "      fill: #174EA6;\n",
              "    }\n",
              "\n",
              "    [theme=dark] .colab-df-convert {\n",
              "      background-color: #3B4455;\n",
              "      fill: #D2E3FC;\n",
              "    }\n",
              "\n",
              "    [theme=dark] .colab-df-convert:hover {\n",
              "      background-color: #434B5C;\n",
              "      box-shadow: 0px 1px 3px 1px rgba(0, 0, 0, 0.15);\n",
              "      filter: drop-shadow(0px 1px 2px rgba(0, 0, 0, 0.3));\n",
              "      fill: #FFFFFF;\n",
              "    }\n",
              "  </style>\n",
              "\n",
              "      <script>\n",
              "        const buttonEl =\n",
              "          document.querySelector('#df-70305986-c6e9-4eac-8a6e-e81a10187d88 button.colab-df-convert');\n",
              "        buttonEl.style.display =\n",
              "          google.colab.kernel.accessAllowed ? 'block' : 'none';\n",
              "\n",
              "        async function convertToInteractive(key) {\n",
              "          const element = document.querySelector('#df-70305986-c6e9-4eac-8a6e-e81a10187d88');\n",
              "          const dataTable =\n",
              "            await google.colab.kernel.invokeFunction('convertToInteractive',\n",
              "                                                     [key], {});\n",
              "          if (!dataTable) return;\n",
              "\n",
              "          const docLinkHtml = 'Like what you see? Visit the ' +\n",
              "            '<a target=\"_blank\" href=https://colab.research.google.com/notebooks/data_table.ipynb>data table notebook</a>'\n",
              "            + ' to learn more about interactive tables.';\n",
              "          element.innerHTML = '';\n",
              "          dataTable['output_type'] = 'display_data';\n",
              "          await google.colab.output.renderOutput(dataTable, element);\n",
              "          const docLink = document.createElement('div');\n",
              "          docLink.innerHTML = docLinkHtml;\n",
              "          element.appendChild(docLink);\n",
              "        }\n",
              "      </script>\n",
              "    </div>\n",
              "  </div>\n",
              "  "
            ]
          },
          "metadata": {},
          "execution_count": 117
        }
      ],
      "source": [
        "df_final"
      ]
    },
    {
      "cell_type": "code",
      "execution_count": 176,
      "metadata": {
        "id": "239eOICrv6Q1",
        "colab": {
          "base_uri": "https://localhost:8080/",
          "height": 485
        },
        "outputId": "46326b40-4094-4db1-a79c-9fff34161e18"
      },
      "outputs": [
        {
          "output_type": "display_data",
          "data": {
            "text/plain": [
              "<Figure size 1440x504 with 0 Axes>"
            ]
          },
          "metadata": {}
        },
        {
          "output_type": "display_data",
          "data": {
            "text/plain": [
              "<Figure size 1440x504 with 1 Axes>"
            ],
            "image/png": "[encoded data removed]"
          },
          "metadata": {}
        }
      ],
      "source": [
        "import matplotlib.pyplot as plt\n",
        "\n",
        "fig = plt.figure(figsize=(20, 7))\n",
        "ax = df_final[['kVA','GRU','LSTM','BiGRU','BiLSTM']].plot(figsize=(20, 7))\n",
        "ax.set_title('Overall Test Prediction', fontsize=18)\n",
        "plt.show()"
      ]
    },
    {
      "cell_type": "code",
      "execution_count": 119,
      "metadata": {
        "id": "ALbV6dBALQ2I",
        "colab": {
          "base_uri": "https://localhost:8080/",
          "height": 513
        },
        "outputId": "dfc39f54-ec11-4249-c9c3-d7ba4e72d908"
      },
      "outputs": [
        {
          "output_type": "display_data",
          "data": {
            "text/plain": [
              "<Figure size 720x576 with 1 Axes>"
            ],
            "image/png": "[encoded data removed]"
          },
          "metadata": {
            "needs_background": "light"
          }
        }
      ],
      "source": [
        "plt.plot(history.history['loss'], marker='o')\n",
        "plt.plot(history.history['val_loss'])\n",
        "plt.title('Model Loss GRU1')\n",
        "plt.ylabel('Loss')\n",
        "plt.xlabel('Epoch')\n",
        "plt.legend(['Train', 'Validation'], loc='upper left')\n",
        "plt.show()"
      ]
    },
    {
      "cell_type": "code",
      "execution_count": 120,
      "metadata": {
        "id": "ze39M-OXyRle"
      },
      "outputs": [],
      "source": [
        "df_final.to_csv('BidirectionalLSTM.csv', index=False)"
      ]
    },
    {
      "cell_type": "code",
      "execution_count": 121,
      "metadata": {
        "id": "mv7oTHKuIm2s",
        "colab": {
          "base_uri": "https://localhost:8080/"
        },
        "outputId": "b9e87162-cc30-4ad7-f603-ac829644681f"
      },
      "outputs": [
        {
          "output_type": "stream",
          "name": "stdout",
          "text": [
            "For Overall GRU:\n",
            "Mean Absolute Error: 93.04878713255277\n",
            "Root Mean Squared Error: 133.20405193155474\n",
            "MAPE: 8.861853462419226 %\n",
            "R-squared: 0.8912146479659426\n"
          ]
        }
      ],
      "source": [
        "import math\n",
        "from sklearn.metrics import mean_squared_error, r2_score\n",
        "from sklearn.metrics import mean_absolute_error , mean_absolute_percentage_error\n",
        "rmse=math.sqrt(mean_squared_error(df_final['kVA'], df_final['GRU']))\n",
        "# calculate mean absolute error\n",
        "mae = mean_absolute_error(df_final['kVA'], df_final['GRU'])\n",
        "print(\"For Overall GRU:\")\n",
        "print(\"Mean Absolute Error:\", mae)\n",
        "print(\"Root Mean Squared Error:\", rmse)\n",
        "print(\"MAPE:\", mean_absolute_percentage_error(df_final['kVA'], df_final['GRU'])*100,\"%\")\n",
        "r2 = r2_score(df_final['kVA'], df_final['GRU'])\n",
        "print(\"R-squared:\", r2)"
      ]
    },
    {
      "cell_type": "code",
      "source": [
        "models = ['GRU', 'LSTM', 'BiGRU', 'BiLSTM']\n",
        "training_times = [training_time1, training_time2, training_time3, training_time4]\n",
        "predictions = [df_final['GRU'], df_final['LSTM'], df_final['BiGRU'], df_final['BiLSTM']]\n",
        "\n",
        "metrics = {'metric': ['RMSE', 'MAE', 'MAPE', 'R2', 'Time']}\n",
        "for i, model in enumerate(models):\n",
        "    rmse = math.sqrt(mean_squared_error(df_final['kVA'], predictions[i]))\n",
        "    mae = mean_absolute_error(df_final['kVA'], predictions[i])\n",
        "    mape = mean_absolute_percentage_error(df_final['kVA'], predictions[i])\n",
        "    r2 = r2_score(df_final['kVA'], predictions[i])\n",
        "    training_time = training_times[i]\n",
        "    \n",
        "    metrics[model] = [rmse, mae, mape, r2, training_time]\n",
        "\n",
        "metrics_df = pd.DataFrame(metrics)\n",
        "metrics_df.to_csv('error.csv', index=False)"
      ],
      "metadata": {
        "id": "R3IQ2RSAp8uU"
      },
      "execution_count": 122,
      "outputs": []
    },
    {
      "cell_type": "code",
      "source": [
        "import matplotlib.pyplot as plt\n",
        "import numpy as np\n",
        "\n",
        "models = ['GRU', 'LSTM', 'BiGRU', 'BiLSTM']\n",
        "training_times = [training_time1, training_time2, training_time3, training_time4]\n",
        "predictions = [df_final['GRU'], df_final['LSTM'], df_final['BiGRU'], df_final['BiLSTM']]\n",
        "\n",
        "metrics = {'metric': ['RMSE', 'MAE', 'MAPE', 'R2', 'Time']}\n",
        "for i, model in enumerate(models):\n",
        "    rmse = math.sqrt(mean_squared_error(df_final['kVA'], predictions[i]))\n",
        "    mae = mean_absolute_error(df_final['kVA'], predictions[i])\n",
        "    mape = mean_absolute_percentage_error(df_final['kVA'], predictions[i])\n",
        "    r2 = r2_score(df_final['kVA'], predictions[i])\n",
        "    training_time = training_times[i]\n",
        "    \n",
        "    metrics[model] = [rmse, mae, mape, r2, training_time]\n",
        "\n",
        "mae_values = [metrics[model][1] for model in models]\n",
        "mape_values = [metrics[model][2] for model in models]\n",
        "r2_values = [metrics[model][3] for model in models]\n",
        "training_time_values = [metrics[model][4] for model in models]\n",
        "\n",
        "fig, axs = plt.subplots(2, 2, figsize=(10, 10))\n",
        "axs[0, 0].bar(models, mae_values)\n",
        "axs[0, 0].set_title('MAE')\n",
        "axs[0, 1].bar(models, mape_values)\n",
        "axs[0, 1].set_title('MAPE')\n",
        "axs[1, 0].bar(models, r2_values)\n",
        "axs[1, 0].set_title('R2')\n",
        "axs[1, 1].bar(models, training_time_values)\n",
        "axs[1, 1].set_title('Training Time')\n",
        "plt.show()"
      ],
      "metadata": {
        "colab": {
          "base_uri": "https://localhost:8080/",
          "height": 607
        },
        "id": "nNbsiOMW2b1D",
        "outputId": "59c7c252-ca6b-4f13-ba9a-be6860a58dfa"
      },
      "execution_count": 123,
      "outputs": [
        {
          "output_type": "display_data",
          "data": {
            "text/plain": [
              "<Figure size 720x720 with 4 Axes>"
            ],
            "image/png": "[encoded data removed]"
          },
          "metadata": {
            "needs_background": "light"
          }
        }
      ]
    },
    {
      "cell_type": "code",
      "source": [
        "import numpy as np\n",
        "import math\n",
        "import pandas as pd\n",
        "from sklearn.metrics import mean_squared_error, mean_absolute_error, mean_absolute_percentage_error, r2_score\n",
        "\n",
        "start_index = 7800\n",
        "end_index = start_index + 96\n",
        "section_data = df_final.iloc[start_index:end_index]\n",
        "\n",
        "models = {'GRU': section_data['GRU'], 'LSTM': section_data['LSTM'], 'BiGRU': section_data['BiGRU'], 'BiLSTM': section_data['LSTM']}\n",
        "metrics = {'MAE': mean_absolute_error, 'RMSE': lambda x,y: math.sqrt(mean_squared_error(x,y)), 'MAPE': mean_absolute_percentage_error, 'R2': r2_score}\n",
        "\n",
        "for model_name, model_data in models.items():\n",
        "    errors = np.abs((section_data['kVA'] - model_data) / section_data['kVA'])\n",
        "    mae = metrics['MAE'](section_data['kVA'], model_data)\n",
        "    rmse = metrics['RMSE'](section_data['kVA'], model_data)\n",
        "    mape = metrics['MAPE'](section_data['kVA'], model_data)\n",
        "    r2 = metrics['R2'](section_data['kVA'], model_data)\n",
        "    mape *= 100\n",
        "    print(f'{model_name}: MAE={mae:.3f}, RMSE={rmse:.3f}, MAPE={mape:.3f}%, R2={r2:.3f}')\n",
        "    \n",
        "    metrics_df = pd.DataFrame({'metric': ['RMSE', 'MAE', 'MAPE', 'R2', 'Time'],\n",
        "                           model_name: [rmse, mae, mape, r2, training_time]})\n",
        "    metrics_df.to_csv(f'{model_name}_error_for_section.csv', index=False)\n"
      ],
      "metadata": {
        "id": "vQEv1QRhZtvi",
        "colab": {
          "base_uri": "https://localhost:8080/"
        },
        "outputId": "ae15aa65-d64e-4fb3-fa8f-8b2e45974857"
      },
      "execution_count": 124,
      "outputs": [
        {
          "output_type": "stream",
          "name": "stdout",
          "text": [
            "GRU: MAE=75.748, RMSE=88.045, MAPE=7.618%, R2=0.937\n",
            "LSTM: MAE=100.149, RMSE=119.596, MAPE=11.396%, R2=0.883\n",
            "BiGRU: MAE=62.621, RMSE=82.896, MAPE=5.837%, R2=0.944\n",
            "BiLSTM: MAE=100.149, RMSE=119.596, MAPE=11.396%, R2=0.883\n"
          ]
        }
      ]
    },
    {
      "cell_type": "code",
      "source": [
        "import numpy as np\n",
        "# Extract the relevant section of data\n",
        "start_index = 7800\n",
        "end_index = start_index+ 96\n",
        "section_data = df_final.iloc[start_index:end_index]\n",
        "\n",
        "# Calculate the actual and predicted values for the section of data\n",
        "actual_values = section_data['kVA']\n",
        "predicted_values1 = section_data['GRU']\n",
        "predicted_values2 = section_data['LSTM']\n",
        "predicted_values3 = section_data['BiGRU']\n",
        "predicted_values4 = section_data['LSTM']\n",
        "# Calculate the absolute percentage error for each data point\n",
        "ape1 = np.abs((actual_values - predicted_values1) / actual_values)\n",
        "rmse1 = math.sqrt(mean_squared_error(actual_values, predicted_values1))\n",
        "mae1 = mean_absolute_error(actual_values, predicted_values1)\n",
        "mape1 = mean_absolute_percentage_error(actual_values, predicted_values1)\n",
        "r21 = r2_score(actual_values, predicted_values1)\n",
        "\n",
        "ape2 = np.abs((actual_values - predicted_values2) / actual_values)\n",
        "rmse2 = math.sqrt(mean_squared_error(actual_values, predicted_values2))\n",
        "mae2 = mean_absolute_error(actual_values, predicted_values2)\n",
        "mape2 = mean_absolute_percentage_error(actual_values, predicted_values2)\n",
        "r22 = r2_score(actual_values, predicted_values2)\n",
        "\n",
        "ape3 = np.abs((actual_values - predicted_values3) / actual_values)\n",
        "rmse3 = math.sqrt(mean_squared_error(actual_values, predicted_values3))\n",
        "mae3 = mean_absolute_error(actual_values, predicted_values3)\n",
        "mape3 = mean_absolute_percentage_error(actual_values, predicted_values3)\n",
        "r23 = r2_score(actual_values, predicted_values3)\n",
        "\n",
        "ape4 = np.abs((actual_values - predicted_values4) / actual_values)\n",
        "rmse4 = math.sqrt(mean_squared_error(actual_values, predicted_values4))\n",
        "mae4 = mean_absolute_error(actual_values, predicted_values4)\n",
        "mape4 = mean_absolute_percentage_error(actual_values, predicted_values4)\n",
        "r24 = r2_score(actual_values, predicted_values4)\n",
        "\n",
        "# Calculate the mean absolute percentage error (MAPE) for the section of data\n",
        "mape1 = np.mean(ape1) * 100\n",
        "mape2 = np.mean(ape2) * 100\n",
        "mape3 = np.mean(ape3) * 100\n",
        "mape4 = np.mean(ape4) * 100\n",
        "print(\"Mean Absolute Error:\", mae1, mae2 , mae3, mae4)\n",
        "print(\"Root Mean Squared Error:\", rmse1, rmse2, rmse3, rmse4)\n",
        "print(\"R-squared:\", r21, r22, r23,r24)\n",
        "print(\"MAPE(GRU,LSTM,BiGRU, BiLSTM) for the section of data from index\", start_index, \"to index\", end_index, \"is\", mape1,mape2,mape3,mape4, \"%\")\n",
        "metrics_df = pd.DataFrame({'metric': ['RMSE', 'MAE', 'MAPE', 'R2', 'Time'],\n",
        "                           'GRU': [rmse1, mae1, mape1, r21,training_time1],\n",
        "                           'LSTM':[rmse2, mae2, mape2, r22, training_time2],\n",
        "                           'BiGRU': [rmse3, mae3, mape3, r23,training_time3],\n",
        "                           'BiLSTM':[rmse4, mae4, mape4, r24,training_time4]})\n",
        "metrics_df.to_csv('error_for_section.csv', index=False)"
      ],
      "metadata": {
        "colab": {
          "base_uri": "https://localhost:8080/"
        },
        "id": "HJeKCovSH4gU",
        "outputId": "4e06d92c-fb33-4bdb-f790-d04b8c2a8cf1"
      },
      "execution_count": 125,
      "outputs": [
        {
          "output_type": "stream",
          "name": "stdout",
          "text": [
            "Mean Absolute Error: 75.74762479330667 100.14875784453186 62.620891343705864 100.14875784453186\n",
            "Root Mean Squared Error: 88.04451219588753 119.5963736389644 82.89641186767071 119.5963736389644\n",
            "R-squared: 0.936716660140113 0.8832328094903342 0.9439008509350179 0.8832328094903342\n",
            "MAPE(GRU,LSTM,BiGRU, BiLSTM) for the section of data from index 7800 to index 7896 is 7.617892870173602 11.396314387668953 5.836616342116965 11.396314387668953 %\n"
          ]
        }
      ]
    },
    {
      "cell_type": "code",
      "source": [
        "import matplotlib.pyplot as plt\n",
        "\n",
        "# Set the style of the plot\n",
        "plt.style.use('ggplot')\n",
        "\n",
        "# Create a horizontal bar graph for the MAPE metric\n",
        "fig, ax = plt.subplots(figsize=(8, 6))\n",
        "ax.barh(metrics_df['metric'], metrics_df['GRU'], label='GRU')\n",
        "ax.barh(metrics_df['metric'], metrics_df['LSTM'], label='LSTM')\n",
        "ax.barh(metrics_df['metric'], metrics_df['BiGRU'], label='BiGRU')\n",
        "ax.barh(metrics_df['metric'], metrics_df['BiLSTM'], label='BiLSTM')\n",
        "\n",
        "# Set the labels and legend\n",
        "ax.set_xlabel('Error')\n",
        "ax.set_ylabel('Metric')\n",
        "ax.set_title('Model Performance')\n",
        "ax.legend()\n",
        "\n",
        "# Display the plot\n",
        "plt.show()"
      ],
      "metadata": {
        "id": "A22Mo0Vl4Hms",
        "outputId": "07fed301-cd28-4611-e790-8ee0771fa772",
        "colab": {
          "base_uri": "https://localhost:8080/",
          "height": 408
        }
      },
      "execution_count": 126,
      "outputs": [
        {
          "output_type": "display_data",
          "data": {
            "text/plain": [
              "<Figure size 576x432 with 1 Axes>"
            ],
            "image/png": "[encoded data removed]"
          },
          "metadata": {}
        }
      ]
    },
    {
      "cell_type": "code",
      "source": [
        "import matplotlib.pyplot as plt\n",
        "import numpy as np\n",
        "\n",
        "# Define data\n",
        "mape_values = [mape1, mape2, mape3, mape4]\n",
        "models = ['GRU', 'LSTM', 'BiGRU', 'BiLSTM']\n",
        "\n",
        "# Create bar chart\n",
        "fig, ax = plt.subplots()\n",
        "ax.bar(models, mape_values, color='blue')\n",
        "\n",
        "# Add labels and title\n",
        "ax.set_xlabel('Models')\n",
        "ax.set_ylabel('Mean Absolute Percentage Error (%)')\n",
        "ax.set_title('MAPE for Different Models')\n",
        "\n",
        "# Add values to bars\n",
        "for i, v in enumerate(mape_values):\n",
        "    ax.text(i, v, str(round(v, 2)), ha='center', va='bottom', fontweight='bold')\n",
        "\n",
        "# Show the plot\n",
        "plt.show()"
      ],
      "metadata": {
        "colab": {
          "base_uri": "https://localhost:8080/",
          "height": 517
        },
        "id": "WXge0HyUz-eu",
        "outputId": "067fa7d6-0d42-42b7-8d2b-917cb42dfa44"
      },
      "execution_count": 127,
      "outputs": [
        {
          "output_type": "display_data",
          "data": {
            "text/plain": [
              "<Figure size 720x576 with 1 Axes>"
            ],
            "image/png": "[encoded data removed]"
          },
          "metadata": {}
        }
      ]
    },
    {
      "cell_type": "code",
      "source": [
        "index_values = section_data.index\n",
        "\n",
        "# Plot actual vs predicted values with index as x-axis and values as y-axis\n",
        "plt.plot(index_values, actual_values, color='blue', label='Actual')\n",
        "plt.plot(index_values, predicted_values1, color='red', label='GRU')\n",
        "plt.plot(index_values, predicted_values2, color='black', label='LSTM')\n",
        "plt.plot(index_values, predicted_values3, color='pink', label='BiGRU')\n",
        "plt.plot(index_values, predicted_values4, color='grey', label='BiLSTM')\n",
        "plt.xlabel('Index')\n",
        "plt.ylabel('Values')\n",
        "plt.title('Actual vs Predicted Values')\n",
        "plt.legend()\n",
        "plt.show()"
      ],
      "metadata": {
        "colab": {
          "base_uri": "https://localhost:8080/",
          "height": 517
        },
        "id": "Do5VQI2iK64_",
        "outputId": "0b9594d2-f630-482f-9706-3b22c480d9c8"
      },
      "execution_count": 128,
      "outputs": [
        {
          "output_type": "display_data",
          "data": {
            "text/plain": [
              "<Figure size 720x576 with 1 Axes>"
            ],
            "image/png": "[encoded data removed]"
          },
          "metadata": {}
        }
      ]
    },
    {
      "cell_type": "code",
      "source": [
        "from sklearn.preprocessing import StandardScaler\n",
        "\n",
        "# assume 'model' is your trained model object\n",
        "# assume 'df_input' is your input data\n",
        "# assume 'scaler1' is a StandardScaler object that was used to scale the data\n",
        "\n",
        "# Initialize the input sequence with the last 32 data points from your dataset\n",
        "input_sequence = df_input1[-64:-7]\n",
        "import numpy as np\n",
        "\n",
        "# Create a 2D array with 3 rows and 4 columns\n",
        "dataset = np.zeros((1,1))\n",
        "\n",
        "# Preprocess the input sequence using the scaler object\n",
        "data_scaled = scaler.fit_transform(input_sequence)\n",
        "\n",
        "# Predict the next value using the current input sequence\n",
        "pred = model1.predict(np.expand_dims(data_scaled, axis=0))\n",
        "\n",
        "# Invert the scaling operation on the predicted value\n",
        "#pred_unscaled = scaler1.inverse_transform(pred.reshape(-1, 1))\n",
        "\n",
        "# Print the predicted values\n",
        "print(pred)"
      ],
      "metadata": {
        "id": "BdqqdgsayoOv",
        "colab": {
          "base_uri": "https://localhost:8080/"
        },
        "outputId": "8999f1c4-8360-4bb4-919f-29e487006d4c"
      },
      "execution_count": 167,
      "outputs": [
        {
          "output_type": "stream",
          "name": "stdout",
          "text": [
            "1/1 [==============================] - 0s 38ms/step\n",
            "[[1.3430026]]\n"
          ]
        }
      ]
    },
    {
      "cell_type": "code",
      "source": [
        "input_sequence.head(5)"
      ],
      "metadata": {
        "colab": {
          "base_uri": "https://localhost:8080/",
          "height": 206
        },
        "id": "Ciz9fEmz9BQN",
        "outputId": "21e3a872-234f-4bb8-a621-cc9d2ac3ec75"
      },
      "execution_count": 168,
      "outputs": [
        {
          "output_type": "execute_result",
          "data": {
            "text/plain": [
              "       Hour  week-1  week-2     t-3     t-2    t-1    t-28  Temp\n",
              "46209     2   539.0   506.0  1320.0  1210.0  935.0   539.0  23.5\n",
              "46210     3   528.0   517.0  1210.0   935.0  737.0   539.0  22.0\n",
              "46211     4   517.0   517.0   935.0   737.0  616.0   660.0  25.0\n",
              "46212     5   572.0   539.0   737.0   616.0  572.0   858.0  28.0\n",
              "46213     6   616.0   539.0   616.0   572.0  561.0  1078.0  25.0"
            ],
            "text/html": [
              "\n",
              "  <div id=\"df-73423b80-7d9c-49a9-a25d-afc726c03d58\">\n",
              "    <div class=\"colab-df-container\">\n",
              "      <div>\n",
              "<style scoped>\n",
              "    .dataframe tbody tr th:only-of-type {\n",
              "        vertical-align: middle;\n",
              "    }\n",
              "\n",
              "    .dataframe tbody tr th {\n",
              "        vertical-align: top;\n",
              "    }\n",
              "\n",
              "    .dataframe thead th {\n",
              "        text-align: right;\n",
              "    }\n",
              "</style>\n",
              "<table border=\"1\" class=\"dataframe\">\n",
              "  <thead>\n",
              "    <tr style=\"text-align: right;\">\n",
              "      <th></th>\n",
              "      <th>Hour</th>\n",
              "      <th>week-1</th>\n",
              "      <th>week-2</th>\n",
              "      <th>t-3</th>\n",
              "      <th>t-2</th>\n",
              "      <th>t-1</th>\n",
              "      <th>t-28</th>\n",
              "      <th>Temp</th>\n",
              "    </tr>\n",
              "  </thead>\n",
              "  <tbody>\n",
              "    <tr>\n",
              "      <th>46209</th>\n",
              "      <td>2</td>\n",
              "      <td>539.0</td>\n",
              "      <td>506.0</td>\n",
              "      <td>1320.0</td>\n",
              "      <td>1210.0</td>\n",
              "      <td>935.0</td>\n",
              "      <td>539.0</td>\n",
              "      <td>23.5</td>\n",
              "    </tr>\n",
              "    <tr>\n",
              "      <th>46210</th>\n",
              "      <td>3</td>\n",
              "      <td>528.0</td>\n",
              "      <td>517.0</td>\n",
              "      <td>1210.0</td>\n",
              "      <td>935.0</td>\n",
              "      <td>737.0</td>\n",
              "      <td>539.0</td>\n",
              "      <td>22.0</td>\n",
              "    </tr>\n",
              "    <tr>\n",
              "      <th>46211</th>\n",
              "      <td>4</td>\n",
              "      <td>517.0</td>\n",
              "      <td>517.0</td>\n",
              "      <td>935.0</td>\n",
              "      <td>737.0</td>\n",
              "      <td>616.0</td>\n",
              "      <td>660.0</td>\n",
              "      <td>25.0</td>\n",
              "    </tr>\n",
              "    <tr>\n",
              "      <th>46212</th>\n",
              "      <td>5</td>\n",
              "      <td>572.0</td>\n",
              "      <td>539.0</td>\n",
              "      <td>737.0</td>\n",
              "      <td>616.0</td>\n",
              "      <td>572.0</td>\n",
              "      <td>858.0</td>\n",
              "      <td>28.0</td>\n",
              "    </tr>\n",
              "    <tr>\n",
              "      <th>46213</th>\n",
              "      <td>6</td>\n",
              "      <td>616.0</td>\n",
              "      <td>539.0</td>\n",
              "      <td>616.0</td>\n",
              "      <td>572.0</td>\n",
              "      <td>561.0</td>\n",
              "      <td>1078.0</td>\n",
              "      <td>25.0</td>\n",
              "    </tr>\n",
              "  </tbody>\n",
              "</table>\n",
              "</div>\n",
              "      <button class=\"colab-df-convert\" onclick=\"convertToInteractive('df-73423b80-7d9c-49a9-a25d-afc726c03d58')\"\n",
              "              title=\"Convert this dataframe to an interactive table.\"\n",
              "              style=\"display:none;\">\n",
              "        \n",
              "  <svg xmlns=\"http://www.w3.org/2000/svg\" height=\"24px\"viewBox=\"0 0 24 24\"\n",
              "       width=\"24px\">\n",
              "    <path d=\"M0 0h24v24H0V0z\" fill=\"none\"/>\n",
              "    <path d=\"M18.56 5.44l.94 2.06.94-2.06 2.06-.94-2.06-.94-.94-2.06-.94 2.06-2.06.94zm-11 1L8.5 8.5l.94-2.06 2.06-.94-2.06-.94L8.5 2.5l-.94 2.06-2.06.94zm10 10l.94 2.06.94-2.06 2.06-.94-2.06-.94-.94-2.06-.94 2.06-2.06.94z\"/><path d=\"M17.41 7.96l-1.37-1.37c-.4-.4-.92-.59-1.43-.59-.52 0-1.04.2-1.43.59L10.3 9.45l-7.72 7.72c-.78.78-.78 2.05 0 2.83L4 21.41c.39.39.9.59 1.41.59.51 0 1.02-.2 1.41-.59l7.78-7.78 2.81-2.81c.8-.78.8-2.07 0-2.86zM5.41 20L4 18.59l7.72-7.72 1.47 1.35L5.41 20z\"/>\n",
              "  </svg>\n",
              "      </button>\n",
              "      \n",
              "  <style>\n",
              "    .colab-df-container {\n",
              "      display:flex;\n",
              "      flex-wrap:wrap;\n",
              "      gap: 12px;\n",
              "    }\n",
              "\n",
              "    .colab-df-convert {\n",
              "      background-color: #E8F0FE;\n",
              "      border: none;\n",
              "      border-radius: 50%;\n",
              "      cursor: pointer;\n",
              "      display: none;\n",
              "      fill: #1967D2;\n",
              "      height: 32px;\n",
              "      padding: 0 0 0 0;\n",
              "      width: 32px;\n",
              "    }\n",
              "\n",
              "    .colab-df-convert:hover {\n",
              "      background-color: #E2EBFA;\n",
              "      box-shadow: 0px 1px 2px rgba(60, 64, 67, 0.3), 0px 1px 3px 1px rgba(60, 64, 67, 0.15);\n",
              "      fill: #174EA6;\n",
              "    }\n",
              "\n",
              "    [theme=dark] .colab-df-convert {\n",
              "      background-color: #3B4455;\n",
              "      fill: #D2E3FC;\n",
              "    }\n",
              "\n",
              "    [theme=dark] .colab-df-convert:hover {\n",
              "      background-color: #434B5C;\n",
              "      box-shadow: 0px 1px 3px 1px rgba(0, 0, 0, 0.15);\n",
              "      filter: drop-shadow(0px 1px 2px rgba(0, 0, 0, 0.3));\n",
              "      fill: #FFFFFF;\n",
              "    }\n",
              "  </style>\n",
              "\n",
              "      <script>\n",
              "        const buttonEl =\n",
              "          document.querySelector('#df-73423b80-7d9c-49a9-a25d-afc726c03d58 button.colab-df-convert');\n",
              "        buttonEl.style.display =\n",
              "          google.colab.kernel.accessAllowed ? 'block' : 'none';\n",
              "\n",
              "        async function convertToInteractive(key) {\n",
              "          const element = document.querySelector('#df-73423b80-7d9c-49a9-a25d-afc726c03d58');\n",
              "          const dataTable =\n",
              "            await google.colab.kernel.invokeFunction('convertToInteractive',\n",
              "                                                     [key], {});\n",
              "          if (!dataTable) return;\n",
              "\n",
              "          const docLinkHtml = 'Like what you see? Visit the ' +\n",
              "            '<a target=\"_blank\" href=https://colab.research.google.com/notebooks/data_table.ipynb>data table notebook</a>'\n",
              "            + ' to learn more about interactive tables.';\n",
              "          element.innerHTML = '';\n",
              "          dataTable['output_type'] = 'display_data';\n",
              "          await google.colab.output.renderOutput(dataTable, element);\n",
              "          const docLink = document.createElement('div');\n",
              "          docLink.innerHTML = docLinkHtml;\n",
              "          element.appendChild(docLink);\n",
              "        }\n",
              "      </script>\n",
              "    </div>\n",
              "  </div>\n",
              "  "
            ]
          },
          "metadata": {},
          "execution_count": 168
        }
      ]
    },
    {
      "cell_type": "code",
      "source": [
        "input_sequence.tail(5)"
      ],
      "metadata": {
        "colab": {
          "base_uri": "https://localhost:8080/",
          "height": 206
        },
        "id": "c3U5vPcd9FcE",
        "outputId": "a7f71aeb-fe51-4cd2-bcf5-53771203799c"
      },
      "execution_count": 169,
      "outputs": [
        {
          "output_type": "execute_result",
          "data": {
            "text/plain": [
              "       Hour  week-1  week-2     t-3     t-2     t-1    t-28  Temp\n",
              "46261    17  1265.0  1727.0  1254.0  1518.0  1210.0  1331.0  27.0\n",
              "46262    18  1309.0  1100.0  1518.0  1210.0  1243.0  1441.0  22.0\n",
              "46263    18  1430.0   110.0  1210.0  1243.0  1243.0  1573.0  27.0\n",
              "46264    19  1562.0  1210.0  1243.0  1243.0  1232.0  1573.0  23.5\n",
              "46265    19  1683.0  1309.0  1243.0  1232.0  1221.0  1430.0  20.0"
            ],
            "text/html": [
              "\n",
              "  <div id=\"df-7de94aca-4442-47fc-b297-1ac2e9acf0d5\">\n",
              "    <div class=\"colab-df-container\">\n",
              "      <div>\n",
              "<style scoped>\n",
              "    .dataframe tbody tr th:only-of-type {\n",
              "        vertical-align: middle;\n",
              "    }\n",
              "\n",
              "    .dataframe tbody tr th {\n",
              "        vertical-align: top;\n",
              "    }\n",
              "\n",
              "    .dataframe thead th {\n",
              "        text-align: right;\n",
              "    }\n",
              "</style>\n",
              "<table border=\"1\" class=\"dataframe\">\n",
              "  <thead>\n",
              "    <tr style=\"text-align: right;\">\n",
              "      <th></th>\n",
              "      <th>Hour</th>\n",
              "      <th>week-1</th>\n",
              "      <th>week-2</th>\n",
              "      <th>t-3</th>\n",
              "      <th>t-2</th>\n",
              "      <th>t-1</th>\n",
              "      <th>t-28</th>\n",
              "      <th>Temp</th>\n",
              "    </tr>\n",
              "  </thead>\n",
              "  <tbody>\n",
              "    <tr>\n",
              "      <th>46261</th>\n",
              "      <td>17</td>\n",
              "      <td>1265.0</td>\n",
              "      <td>1727.0</td>\n",
              "      <td>1254.0</td>\n",
              "      <td>1518.0</td>\n",
              "      <td>1210.0</td>\n",
              "      <td>1331.0</td>\n",
              "      <td>27.0</td>\n",
              "    </tr>\n",
              "    <tr>\n",
              "      <th>46262</th>\n",
              "      <td>18</td>\n",
              "      <td>1309.0</td>\n",
              "      <td>1100.0</td>\n",
              "      <td>1518.0</td>\n",
              "      <td>1210.0</td>\n",
              "      <td>1243.0</td>\n",
              "      <td>1441.0</td>\n",
              "      <td>22.0</td>\n",
              "    </tr>\n",
              "    <tr>\n",
              "      <th>46263</th>\n",
              "      <td>18</td>\n",
              "      <td>1430.0</td>\n",
              "      <td>110.0</td>\n",
              "      <td>1210.0</td>\n",
              "      <td>1243.0</td>\n",
              "      <td>1243.0</td>\n",
              "      <td>1573.0</td>\n",
              "      <td>27.0</td>\n",
              "    </tr>\n",
              "    <tr>\n",
              "      <th>46264</th>\n",
              "      <td>19</td>\n",
              "      <td>1562.0</td>\n",
              "      <td>1210.0</td>\n",
              "      <td>1243.0</td>\n",
              "      <td>1243.0</td>\n",
              "      <td>1232.0</td>\n",
              "      <td>1573.0</td>\n",
              "      <td>23.5</td>\n",
              "    </tr>\n",
              "    <tr>\n",
              "      <th>46265</th>\n",
              "      <td>19</td>\n",
              "      <td>1683.0</td>\n",
              "      <td>1309.0</td>\n",
              "      <td>1243.0</td>\n",
              "      <td>1232.0</td>\n",
              "      <td>1221.0</td>\n",
              "      <td>1430.0</td>\n",
              "      <td>20.0</td>\n",
              "    </tr>\n",
              "  </tbody>\n",
              "</table>\n",
              "</div>\n",
              "      <button class=\"colab-df-convert\" onclick=\"convertToInteractive('df-7de94aca-4442-47fc-b297-1ac2e9acf0d5')\"\n",
              "              title=\"Convert this dataframe to an interactive table.\"\n",
              "              style=\"display:none;\">\n",
              "        \n",
              "  <svg xmlns=\"http://www.w3.org/2000/svg\" height=\"24px\"viewBox=\"0 0 24 24\"\n",
              "       width=\"24px\">\n",
              "    <path d=\"M0 0h24v24H0V0z\" fill=\"none\"/>\n",
              "    <path d=\"M18.56 5.44l.94 2.06.94-2.06 2.06-.94-2.06-.94-.94-2.06-.94 2.06-2.06.94zm-11 1L8.5 8.5l.94-2.06 2.06-.94-2.06-.94L8.5 2.5l-.94 2.06-2.06.94zm10 10l.94 2.06.94-2.06 2.06-.94-2.06-.94-.94-2.06-.94 2.06-2.06.94z\"/><path d=\"M17.41 7.96l-1.37-1.37c-.4-.4-.92-.59-1.43-.59-.52 0-1.04.2-1.43.59L10.3 9.45l-7.72 7.72c-.78.78-.78 2.05 0 2.83L4 21.41c.39.39.9.59 1.41.59.51 0 1.02-.2 1.41-.59l7.78-7.78 2.81-2.81c.8-.78.8-2.07 0-2.86zM5.41 20L4 18.59l7.72-7.72 1.47 1.35L5.41 20z\"/>\n",
              "  </svg>\n",
              "      </button>\n",
              "      \n",
              "  <style>\n",
              "    .colab-df-container {\n",
              "      display:flex;\n",
              "      flex-wrap:wrap;\n",
              "      gap: 12px;\n",
              "    }\n",
              "\n",
              "    .colab-df-convert {\n",
              "      background-color: #E8F0FE;\n",
              "      border: none;\n",
              "      border-radius: 50%;\n",
              "      cursor: pointer;\n",
              "      display: none;\n",
              "      fill: #1967D2;\n",
              "      height: 32px;\n",
              "      padding: 0 0 0 0;\n",
              "      width: 32px;\n",
              "    }\n",
              "\n",
              "    .colab-df-convert:hover {\n",
              "      background-color: #E2EBFA;\n",
              "      box-shadow: 0px 1px 2px rgba(60, 64, 67, 0.3), 0px 1px 3px 1px rgba(60, 64, 67, 0.15);\n",
              "      fill: #174EA6;\n",
              "    }\n",
              "\n",
              "    [theme=dark] .colab-df-convert {\n",
              "      background-color: #3B4455;\n",
              "      fill: #D2E3FC;\n",
              "    }\n",
              "\n",
              "    [theme=dark] .colab-df-convert:hover {\n",
              "      background-color: #434B5C;\n",
              "      box-shadow: 0px 1px 3px 1px rgba(0, 0, 0, 0.15);\n",
              "      filter: drop-shadow(0px 1px 2px rgba(0, 0, 0, 0.3));\n",
              "      fill: #FFFFFF;\n",
              "    }\n",
              "  </style>\n",
              "\n",
              "      <script>\n",
              "        const buttonEl =\n",
              "          document.querySelector('#df-7de94aca-4442-47fc-b297-1ac2e9acf0d5 button.colab-df-convert');\n",
              "        buttonEl.style.display =\n",
              "          google.colab.kernel.accessAllowed ? 'block' : 'none';\n",
              "\n",
              "        async function convertToInteractive(key) {\n",
              "          const element = document.querySelector('#df-7de94aca-4442-47fc-b297-1ac2e9acf0d5');\n",
              "          const dataTable =\n",
              "            await google.colab.kernel.invokeFunction('convertToInteractive',\n",
              "                                                     [key], {});\n",
              "          if (!dataTable) return;\n",
              "\n",
              "          const docLinkHtml = 'Like what you see? Visit the ' +\n",
              "            '<a target=\"_blank\" href=https://colab.research.google.com/notebooks/data_table.ipynb>data table notebook</a>'\n",
              "            + ' to learn more about interactive tables.';\n",
              "          element.innerHTML = '';\n",
              "          dataTable['output_type'] = 'display_data';\n",
              "          await google.colab.output.renderOutput(dataTable, element);\n",
              "          const docLink = document.createElement('div');\n",
              "          docLink.innerHTML = docLinkHtml;\n",
              "          element.appendChild(docLink);\n",
              "        }\n",
              "      </script>\n",
              "    </div>\n",
              "  </div>\n",
              "  "
            ]
          },
          "metadata": {},
          "execution_count": 169
        }
      ]
    },
    {
      "cell_type": "code",
      "source": [
        "print(\"Means:\", means1)\n",
        "print(\"Standard deviations:\", stds1)"
      ],
      "metadata": {
        "colab": {
          "base_uri": "https://localhost:8080/"
        },
        "id": "N00djIwD20JF",
        "outputId": "32a6dbdf-e531-4bc8-dafa-ab744682d56c"
      },
      "execution_count": 170,
      "outputs": [
        {
          "output_type": "stream",
          "name": "stdout",
          "text": [
            "Means: [1588.52696137]\n",
            "Standard deviations: [575.83073855]\n"
          ]
        }
      ]
    },
    {
      "cell_type": "code",
      "source": [
        "df_final.tail(10)"
      ],
      "metadata": {
        "colab": {
          "base_uri": "https://localhost:8080/",
          "height": 363
        },
        "id": "L5-osTQm9qU1",
        "outputId": "61be5874-7d03-4339-a4fa-af2d9c319966"
      },
      "execution_count": 175,
      "outputs": [
        {
          "output_type": "execute_result",
          "data": {
            "text/plain": [
              "       Hour  week-1  week-2     t-3     t-2     t-1    t-28  Temp  \\\n",
              "46263    18  1430.0   110.0  1210.0  1243.0  1243.0  1573.0  27.0   \n",
              "46264    19  1562.0  1210.0  1243.0  1243.0  1232.0  1573.0  23.5   \n",
              "46265    19  1683.0  1309.0  1243.0  1232.0  1221.0  1430.0  20.0   \n",
              "46266    20  1562.0  1496.0  1232.0  1221.0  1265.0  1364.0  20.0   \n",
              "46267    20  1430.0  1452.0  1221.0  1265.0  1386.0  1254.0  20.0   \n",
              "46268    21  1364.0  1342.0  1265.0  1386.0  1551.0   924.0  20.0   \n",
              "46269    22  1243.0  1276.0  1386.0  1551.0  1496.0   770.0  20.0   \n",
              "46270    23   891.0  1089.0  1551.0  1496.0  1408.0   539.0  19.0   \n",
              "46271     0   770.0   825.0  1496.0  1408.0  1298.0   539.0  18.0   \n",
              "46272     1   638.0   605.0  1408.0  1298.0  1210.0   539.0  22.0   \n",
              "\n",
              "               GRU         LSTM        BiGRU       BiLSTM     kVA  \n",
              "46263  1335.592816  1368.801866  1417.196269  1509.513092  1232.0  \n",
              "46264  1270.994668  1421.209579  1356.123010  1415.182861  1221.0  \n",
              "46265  1452.038900  1490.605068  1519.820396  1529.604974  1265.0  \n",
              "46266  1593.942831  1561.750029  1613.459344  1636.271122  1386.0  \n",
              "46267  1626.147888  1617.149880  1674.276363  1704.202212  1551.0  \n",
              "46268  1512.344003  1631.317882  1628.666510  1687.082537  1496.0  \n",
              "46269  1432.592258  1568.126053  1541.073158  1618.459490  1408.0  \n",
              "46270  1353.886833  1412.345120  1396.690324  1460.169697  1298.0  \n",
              "46271  1222.959121  1209.653610  1130.254654  1186.476936  1210.0  \n",
              "46272   933.592506   975.852454   916.273874   964.936008   990.0  "
            ],
            "text/html": [
              "\n",
              "  <div id=\"df-697c0deb-676a-4349-b150-676415284070\">\n",
              "    <div class=\"colab-df-container\">\n",
              "      <div>\n",
              "<style scoped>\n",
              "    .dataframe tbody tr th:only-of-type {\n",
              "        vertical-align: middle;\n",
              "    }\n",
              "\n",
              "    .dataframe tbody tr th {\n",
              "        vertical-align: top;\n",
              "    }\n",
              "\n",
              "    .dataframe thead th {\n",
              "        text-align: right;\n",
              "    }\n",
              "</style>\n",
              "<table border=\"1\" class=\"dataframe\">\n",
              "  <thead>\n",
              "    <tr style=\"text-align: right;\">\n",
              "      <th></th>\n",
              "      <th>Hour</th>\n",
              "      <th>week-1</th>\n",
              "      <th>week-2</th>\n",
              "      <th>t-3</th>\n",
              "      <th>t-2</th>\n",
              "      <th>t-1</th>\n",
              "      <th>t-28</th>\n",
              "      <th>Temp</th>\n",
              "      <th>GRU</th>\n",
              "      <th>LSTM</th>\n",
              "      <th>BiGRU</th>\n",
              "      <th>BiLSTM</th>\n",
              "      <th>kVA</th>\n",
              "    </tr>\n",
              "  </thead>\n",
              "  <tbody>\n",
              "    <tr>\n",
              "      <th>46263</th>\n",
              "      <td>18</td>\n",
              "      <td>1430.0</td>\n",
              "      <td>110.0</td>\n",
              "      <td>1210.0</td>\n",
              "      <td>1243.0</td>\n",
              "      <td>1243.0</td>\n",
              "      <td>1573.0</td>\n",
              "      <td>27.0</td>\n",
              "      <td>1335.592816</td>\n",
              "      <td>1368.801866</td>\n",
              "      <td>1417.196269</td>\n",
              "      <td>1509.513092</td>\n",
              "      <td>1232.0</td>\n",
              "    </tr>\n",
              "    <tr>\n",
              "      <th>46264</th>\n",
              "      <td>19</td>\n",
              "      <td>1562.0</td>\n",
              "      <td>1210.0</td>\n",
              "      <td>1243.0</td>\n",
              "      <td>1243.0</td>\n",
              "      <td>1232.0</td>\n",
              "      <td>1573.0</td>\n",
              "      <td>23.5</td>\n",
              "      <td>1270.994668</td>\n",
              "      <td>1421.209579</td>\n",
              "      <td>1356.123010</td>\n",
              "      <td>1415.182861</td>\n",
              "      <td>1221.0</td>\n",
              "    </tr>\n",
              "    <tr>\n",
              "      <th>46265</th>\n",
              "      <td>19</td>\n",
              "      <td>1683.0</td>\n",
              "      <td>1309.0</td>\n",
              "      <td>1243.0</td>\n",
              "      <td>1232.0</td>\n",
              "      <td>1221.0</td>\n",
              "      <td>1430.0</td>\n",
              "      <td>20.0</td>\n",
              "      <td>1452.038900</td>\n",
              "      <td>1490.605068</td>\n",
              "      <td>1519.820396</td>\n",
              "      <td>1529.604974</td>\n",
              "      <td>1265.0</td>\n",
              "    </tr>\n",
              "    <tr>\n",
              "      <th>46266</th>\n",
              "      <td>20</td>\n",
              "      <td>1562.0</td>\n",
              "      <td>1496.0</td>\n",
              "      <td>1232.0</td>\n",
              "      <td>1221.0</td>\n",
              "      <td>1265.0</td>\n",
              "      <td>1364.0</td>\n",
              "      <td>20.0</td>\n",
              "      <td>1593.942831</td>\n",
              "      <td>1561.750029</td>\n",
              "      <td>1613.459344</td>\n",
              "      <td>1636.271122</td>\n",
              "      <td>1386.0</td>\n",
              "    </tr>\n",
              "    <tr>\n",
              "      <th>46267</th>\n",
              "      <td>20</td>\n",
              "      <td>1430.0</td>\n",
              "      <td>1452.0</td>\n",
              "      <td>1221.0</td>\n",
              "      <td>1265.0</td>\n",
              "      <td>1386.0</td>\n",
              "      <td>1254.0</td>\n",
              "      <td>20.0</td>\n",
              "      <td>1626.147888</td>\n",
              "      <td>1617.149880</td>\n",
              "      <td>1674.276363</td>\n",
              "      <td>1704.202212</td>\n",
              "      <td>1551.0</td>\n",
              "    </tr>\n",
              "    <tr>\n",
              "      <th>46268</th>\n",
              "      <td>21</td>\n",
              "      <td>1364.0</td>\n",
              "      <td>1342.0</td>\n",
              "      <td>1265.0</td>\n",
              "      <td>1386.0</td>\n",
              "      <td>1551.0</td>\n",
              "      <td>924.0</td>\n",
              "      <td>20.0</td>\n",
              "      <td>1512.344003</td>\n",
              "      <td>1631.317882</td>\n",
              "      <td>1628.666510</td>\n",
              "      <td>1687.082537</td>\n",
              "      <td>1496.0</td>\n",
              "    </tr>\n",
              "    <tr>\n",
              "      <th>46269</th>\n",
              "      <td>22</td>\n",
              "      <td>1243.0</td>\n",
              "      <td>1276.0</td>\n",
              "      <td>1386.0</td>\n",
              "      <td>1551.0</td>\n",
              "      <td>1496.0</td>\n",
              "      <td>770.0</td>\n",
              "      <td>20.0</td>\n",
              "      <td>1432.592258</td>\n",
              "      <td>1568.126053</td>\n",
              "      <td>1541.073158</td>\n",
              "      <td>1618.459490</td>\n",
              "      <td>1408.0</td>\n",
              "    </tr>\n",
              "    <tr>\n",
              "      <th>46270</th>\n",
              "      <td>23</td>\n",
              "      <td>891.0</td>\n",
              "      <td>1089.0</td>\n",
              "      <td>1551.0</td>\n",
              "      <td>1496.0</td>\n",
              "      <td>1408.0</td>\n",
              "      <td>539.0</td>\n",
              "      <td>19.0</td>\n",
              "      <td>1353.886833</td>\n",
              "      <td>1412.345120</td>\n",
              "      <td>1396.690324</td>\n",
              "      <td>1460.169697</td>\n",
              "      <td>1298.0</td>\n",
              "    </tr>\n",
              "    <tr>\n",
              "      <th>46271</th>\n",
              "      <td>0</td>\n",
              "      <td>770.0</td>\n",
              "      <td>825.0</td>\n",
              "      <td>1496.0</td>\n",
              "      <td>1408.0</td>\n",
              "      <td>1298.0</td>\n",
              "      <td>539.0</td>\n",
              "      <td>18.0</td>\n",
              "      <td>1222.959121</td>\n",
              "      <td>1209.653610</td>\n",
              "      <td>1130.254654</td>\n",
              "      <td>1186.476936</td>\n",
              "      <td>1210.0</td>\n",
              "    </tr>\n",
              "    <tr>\n",
              "      <th>46272</th>\n",
              "      <td>1</td>\n",
              "      <td>638.0</td>\n",
              "      <td>605.0</td>\n",
              "      <td>1408.0</td>\n",
              "      <td>1298.0</td>\n",
              "      <td>1210.0</td>\n",
              "      <td>539.0</td>\n",
              "      <td>22.0</td>\n",
              "      <td>933.592506</td>\n",
              "      <td>975.852454</td>\n",
              "      <td>916.273874</td>\n",
              "      <td>964.936008</td>\n",
              "      <td>990.0</td>\n",
              "    </tr>\n",
              "  </tbody>\n",
              "</table>\n",
              "</div>\n",
              "      <button class=\"colab-df-convert\" onclick=\"convertToInteractive('df-697c0deb-676a-4349-b150-676415284070')\"\n",
              "              title=\"Convert this dataframe to an interactive table.\"\n",
              "              style=\"display:none;\">\n",
              "        \n",
              "  <svg xmlns=\"http://www.w3.org/2000/svg\" height=\"24px\"viewBox=\"0 0 24 24\"\n",
              "       width=\"24px\">\n",
              "    <path d=\"M0 0h24v24H0V0z\" fill=\"none\"/>\n",
              "    <path d=\"M18.56 5.44l.94 2.06.94-2.06 2.06-.94-2.06-.94-.94-2.06-.94 2.06-2.06.94zm-11 1L8.5 8.5l.94-2.06 2.06-.94-2.06-.94L8.5 2.5l-.94 2.06-2.06.94zm10 10l.94 2.06.94-2.06 2.06-.94-2.06-.94-.94-2.06-.94 2.06-2.06.94z\"/><path d=\"M17.41 7.96l-1.37-1.37c-.4-.4-.92-.59-1.43-.59-.52 0-1.04.2-1.43.59L10.3 9.45l-7.72 7.72c-.78.78-.78 2.05 0 2.83L4 21.41c.39.39.9.59 1.41.59.51 0 1.02-.2 1.41-.59l7.78-7.78 2.81-2.81c.8-.78.8-2.07 0-2.86zM5.41 20L4 18.59l7.72-7.72 1.47 1.35L5.41 20z\"/>\n",
              "  </svg>\n",
              "      </button>\n",
              "      \n",
              "  <style>\n",
              "    .colab-df-container {\n",
              "      display:flex;\n",
              "      flex-wrap:wrap;\n",
              "      gap: 12px;\n",
              "    }\n",
              "\n",
              "    .colab-df-convert {\n",
              "      background-color: #E8F0FE;\n",
              "      border: none;\n",
              "      border-radius: 50%;\n",
              "      cursor: pointer;\n",
              "      display: none;\n",
              "      fill: #1967D2;\n",
              "      height: 32px;\n",
              "      padding: 0 0 0 0;\n",
              "      width: 32px;\n",
              "    }\n",
              "\n",
              "    .colab-df-convert:hover {\n",
              "      background-color: #E2EBFA;\n",
              "      box-shadow: 0px 1px 2px rgba(60, 64, 67, 0.3), 0px 1px 3px 1px rgba(60, 64, 67, 0.15);\n",
              "      fill: #174EA6;\n",
              "    }\n",
              "\n",
              "    [theme=dark] .colab-df-convert {\n",
              "      background-color: #3B4455;\n",
              "      fill: #D2E3FC;\n",
              "    }\n",
              "\n",
              "    [theme=dark] .colab-df-convert:hover {\n",
              "      background-color: #434B5C;\n",
              "      box-shadow: 0px 1px 3px 1px rgba(0, 0, 0, 0.15);\n",
              "      filter: drop-shadow(0px 1px 2px rgba(0, 0, 0, 0.3));\n",
              "      fill: #FFFFFF;\n",
              "    }\n",
              "  </style>\n",
              "\n",
              "      <script>\n",
              "        const buttonEl =\n",
              "          document.querySelector('#df-697c0deb-676a-4349-b150-676415284070 button.colab-df-convert');\n",
              "        buttonEl.style.display =\n",
              "          google.colab.kernel.accessAllowed ? 'block' : 'none';\n",
              "\n",
              "        async function convertToInteractive(key) {\n",
              "          const element = document.querySelector('#df-697c0deb-676a-4349-b150-676415284070');\n",
              "          const dataTable =\n",
              "            await google.colab.kernel.invokeFunction('convertToInteractive',\n",
              "                                                     [key], {});\n",
              "          if (!dataTable) return;\n",
              "\n",
              "          const docLinkHtml = 'Like what you see? Visit the ' +\n",
              "            '<a target=\"_blank\" href=https://colab.research.google.com/notebooks/data_table.ipynb>data table notebook</a>'\n",
              "            + ' to learn more about interactive tables.';\n",
              "          element.innerHTML = '';\n",
              "          dataTable['output_type'] = 'display_data';\n",
              "          await google.colab.output.renderOutput(dataTable, element);\n",
              "          const docLink = document.createElement('div');\n",
              "          docLink.innerHTML = docLinkHtml;\n",
              "          element.appendChild(docLink);\n",
              "        }\n",
              "      </script>\n",
              "    </div>\n",
              "  </div>\n",
              "  "
            ]
          },
          "metadata": {},
          "execution_count": 175
        }
      ]
    },
    {
      "cell_type": "code",
      "source": [
        "m1 = means1\n",
        "s1 = stds1\n",
        "value = pred"
      ],
      "metadata": {
        "id": "rGQ1ou_C3KAl"
      },
      "execution_count": 172,
      "outputs": []
    },
    {
      "cell_type": "code",
      "source": [
        "inverse_value = (value * s1) + m1"
      ],
      "metadata": {
        "id": "rmG7_B443PRE"
      },
      "execution_count": 173,
      "outputs": []
    },
    {
      "cell_type": "code",
      "source": [
        "print(\"The next hour load will be:\",inverse_value)"
      ],
      "metadata": {
        "colab": {
          "base_uri": "https://localhost:8080/"
        },
        "id": "rWsHK5mK3eAl",
        "outputId": "7deda369-d478-4ade-9b97-285dd3a2808c"
      },
      "execution_count": 174,
      "outputs": [
        {
          "output_type": "stream",
          "name": "stdout",
          "text": [
            "The next hour load will be: [[2361.86911608]]\n"
          ]
        }
      ]
    }
  ],
  "metadata": {
    "accelerator": "GPU",
    "colab": {
      "provenance": []
    },
    "gpuClass": "standard",
    "kernelspec": {
      "display_name": "Python 3",
      "name": "python3"
    },
    "language_info": {
      "name": "python"
    }
  },
  "nbformat": 4,
  "nbformat_minor": 0
}