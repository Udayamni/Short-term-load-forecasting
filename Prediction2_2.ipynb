{
  "cells": [
    {
      "cell_type": "code",
      "execution_count": 11,
      "metadata": {
        "id": "8CusTQnDWD40"
      },
      "outputs": [],
      "source": [
        "import pandas as pd\n",
        "import matplotlib as mpl\n",
        "from sklearn.model_selection import train_test_split\n",
        "from keras.preprocessing.sequence import TimeseriesGenerator\n",
        "from sklearn.preprocessing import MinMaxScaler, StandardScaler\n",
        "import tensorflow as tf\n",
        "import seaborn as sns\n",
        "from matplotlib import style\n",
        "from sklearn.model_selection import KFold\n",
        "from sklearn.metrics import accuracy_score\n",
        "import seaborn as sns\n",
        "import matplotlib.pyplot as plt\n",
        "\n",
        "mpl.rcParams['figure.figsize']= (10,8)\n",
        "mpl.rcParams['axes.grid']= False"
      ]
    },
    {
      "cell_type": "code",
      "execution_count": 12,
      "metadata": {
        "id": "p98iePcqJFfC"
      },
      "outputs": [],
      "source": [
        "#df=pd.read_csv('/content/peakhour.csv')"
      ]
    },
    {
      "cell_type": "code",
      "execution_count": 13,
      "metadata": {
        "id": "5BEd0kJAf8HY"
      },
      "outputs": [],
      "source": [
        "df = pd.read_csv('/content/Dataset_2.2.csv')"
      ]
    },
    {
      "cell_type": "code",
      "execution_count": 14,
      "metadata": {
        "id": "78cCdc4iiVGM",
        "colab": {
          "base_uri": "https://localhost:8080/"
        },
        "outputId": "8385595f-9e89-4811-b906-6fd71ea1a2b9"
      },
      "outputs": [
        {
          "output_type": "stream",
          "name": "stdout",
          "text": [
            "<class 'pandas.core.frame.DataFrame'>\n",
            "RangeIndex: 46528 entries, 0 to 46527\n",
            "Data columns (total 7 columns):\n",
            " #   Column    Non-Null Count  Dtype  \n",
            "---  ------    --------------  -----  \n",
            " 0   DateTime  46528 non-null  object \n",
            " 1   kVA       46528 non-null  float64\n",
            " 2   Min Temp  46528 non-null  float64\n",
            " 3   Max Temp  46528 non-null  float64\n",
            " 4   rainfall  46528 non-null  float64\n",
            " 5   Temp      46528 non-null  float64\n",
            " 6   week-1    46528 non-null  float64\n",
            "dtypes: float64(6), object(1)\n",
            "memory usage: 2.5+ MB\n"
          ]
        }
      ],
      "source": [
        "df.info()"
      ]
    },
    {
      "cell_type": "code",
      "execution_count": 15,
      "metadata": {
        "id": "R7SUkhFjjJy0"
      },
      "outputs": [],
      "source": [
        "df['date'] = pd.to_datetime(df['DateTime'], infer_datetime_format = True)  "
      ]
    },
    {
      "cell_type": "code",
      "execution_count": 16,
      "metadata": {
        "id": "B9pYB0PtQLv7",
        "colab": {
          "base_uri": "https://localhost:8080/",
          "height": 440
        },
        "outputId": "344d81e1-4eaf-425d-cbbb-6e3301f9e7a0"
      },
      "outputs": [
        {
          "output_type": "stream",
          "name": "stderr",
          "text": [
            "<ipython-input-16-60210504cef4>:7: FutureWarning: Series.dt.weekofyear and Series.dt.week have been deprecated.  Please use Series.dt.isocalendar().week instead.\n",
            "  dataset[\"Week\"] = pd.to_datetime(df[\"DateTime\"]).dt.week\n"
          ]
        },
        {
          "output_type": "execute_result",
          "data": {
            "text/plain": [
              "                            kVA  Min Temp  Max Temp  rainfall  Temp  week-1  \\\n",
              "DateTime                                                                      \n",
              "2017-04-21 00:00:00  968.000000      16.5      27.5      12.2  20.0   770.0   \n",
              "2017-04-21 01:00:00  798.589713      16.5      27.5      12.2  18.0   726.0   \n",
              "2017-04-21 02:00:00  682.000000      16.5      27.5      12.2  17.0   704.0   \n",
              "2017-04-21 03:00:00  682.000000      16.5      27.5      12.2  15.0   704.0   \n",
              "2017-04-21 04:00:00  682.000000      16.5      27.5      12.2  16.0   748.0   \n",
              "\n",
              "                                   date  Month  Year        Date      Time  \\\n",
              "DateTime                                                                     \n",
              "2017-04-21 00:00:00 2017-04-21 00:00:00      4  2017  2017-04-21  00:00:00   \n",
              "2017-04-21 01:00:00 2017-04-21 01:00:00      4  2017  2017-04-21  01:00:00   \n",
              "2017-04-21 02:00:00 2017-04-21 02:00:00      4  2017  2017-04-21  02:00:00   \n",
              "2017-04-21 03:00:00 2017-04-21 03:00:00      4  2017  2017-04-21  03:00:00   \n",
              "2017-04-21 04:00:00 2017-04-21 04:00:00      4  2017  2017-04-21  04:00:00   \n",
              "\n",
              "                     Week  Hour  day           timestamp  day_of_week  \n",
              "DateTime                                                               \n",
              "2017-04-21 00:00:00    16     0   21 2017-04-21 00:00:00            6  \n",
              "2017-04-21 01:00:00    16     1   21 2017-04-21 01:00:00            6  \n",
              "2017-04-21 02:00:00    16     2   21 2017-04-21 02:00:00            6  \n",
              "2017-04-21 03:00:00    16     3   21 2017-04-21 03:00:00            6  \n",
              "2017-04-21 04:00:00    16     4   21 2017-04-21 04:00:00            6  "
            ],
            "text/html": [
              "\n",
              "  <div id=\"df-c26544a6-7209-46d7-9abf-7c802f59a589\">\n",
              "    <div class=\"colab-df-container\">\n",
              "      <div>\n",
              "<style scoped>\n",
              "    .dataframe tbody tr th:only-of-type {\n",
              "        vertical-align: middle;\n",
              "    }\n",
              "\n",
              "    .dataframe tbody tr th {\n",
              "        vertical-align: top;\n",
              "    }\n",
              "\n",
              "    .dataframe thead th {\n",
              "        text-align: right;\n",
              "    }\n",
              "</style>\n",
              "<table border=\"1\" class=\"dataframe\">\n",
              "  <thead>\n",
              "    <tr style=\"text-align: right;\">\n",
              "      <th></th>\n",
              "      <th>kVA</th>\n",
              "      <th>Min Temp</th>\n",
              "      <th>Max Temp</th>\n",
              "      <th>rainfall</th>\n",
              "      <th>Temp</th>\n",
              "      <th>week-1</th>\n",
              "      <th>date</th>\n",
              "      <th>Month</th>\n",
              "      <th>Year</th>\n",
              "      <th>Date</th>\n",
              "      <th>Time</th>\n",
              "      <th>Week</th>\n",
              "      <th>Hour</th>\n",
              "      <th>day</th>\n",
              "      <th>timestamp</th>\n",
              "      <th>day_of_week</th>\n",
              "    </tr>\n",
              "    <tr>\n",
              "      <th>DateTime</th>\n",
              "      <th></th>\n",
              "      <th></th>\n",
              "      <th></th>\n",
              "      <th></th>\n",
              "      <th></th>\n",
              "      <th></th>\n",
              "      <th></th>\n",
              "      <th></th>\n",
              "      <th></th>\n",
              "      <th></th>\n",
              "      <th></th>\n",
              "      <th></th>\n",
              "      <th></th>\n",
              "      <th></th>\n",
              "      <th></th>\n",
              "      <th></th>\n",
              "    </tr>\n",
              "  </thead>\n",
              "  <tbody>\n",
              "    <tr>\n",
              "      <th>2017-04-21 00:00:00</th>\n",
              "      <td>968.000000</td>\n",
              "      <td>16.5</td>\n",
              "      <td>27.5</td>\n",
              "      <td>12.2</td>\n",
              "      <td>20.0</td>\n",
              "      <td>770.0</td>\n",
              "      <td>2017-04-21 00:00:00</td>\n",
              "      <td>4</td>\n",
              "      <td>2017</td>\n",
              "      <td>2017-04-21</td>\n",
              "      <td>00:00:00</td>\n",
              "      <td>16</td>\n",
              "      <td>0</td>\n",
              "      <td>21</td>\n",
              "      <td>2017-04-21 00:00:00</td>\n",
              "      <td>6</td>\n",
              "    </tr>\n",
              "    <tr>\n",
              "      <th>2017-04-21 01:00:00</th>\n",
              "      <td>798.589713</td>\n",
              "      <td>16.5</td>\n",
              "      <td>27.5</td>\n",
              "      <td>12.2</td>\n",
              "      <td>18.0</td>\n",
              "      <td>726.0</td>\n",
              "      <td>2017-04-21 01:00:00</td>\n",
              "      <td>4</td>\n",
              "      <td>2017</td>\n",
              "      <td>2017-04-21</td>\n",
              "      <td>01:00:00</td>\n",
              "      <td>16</td>\n",
              "      <td>1</td>\n",
              "      <td>21</td>\n",
              "      <td>2017-04-21 01:00:00</td>\n",
              "      <td>6</td>\n",
              "    </tr>\n",
              "    <tr>\n",
              "      <th>2017-04-21 02:00:00</th>\n",
              "      <td>682.000000</td>\n",
              "      <td>16.5</td>\n",
              "      <td>27.5</td>\n",
              "      <td>12.2</td>\n",
              "      <td>17.0</td>\n",
              "      <td>704.0</td>\n",
              "      <td>2017-04-21 02:00:00</td>\n",
              "      <td>4</td>\n",
              "      <td>2017</td>\n",
              "      <td>2017-04-21</td>\n",
              "      <td>02:00:00</td>\n",
              "      <td>16</td>\n",
              "      <td>2</td>\n",
              "      <td>21</td>\n",
              "      <td>2017-04-21 02:00:00</td>\n",
              "      <td>6</td>\n",
              "    </tr>\n",
              "    <tr>\n",
              "      <th>2017-04-21 03:00:00</th>\n",
              "      <td>682.000000</td>\n",
              "      <td>16.5</td>\n",
              "      <td>27.5</td>\n",
              "      <td>12.2</td>\n",
              "      <td>15.0</td>\n",
              "      <td>704.0</td>\n",
              "      <td>2017-04-21 03:00:00</td>\n",
              "      <td>4</td>\n",
              "      <td>2017</td>\n",
              "      <td>2017-04-21</td>\n",
              "      <td>03:00:00</td>\n",
              "      <td>16</td>\n",
              "      <td>3</td>\n",
              "      <td>21</td>\n",
              "      <td>2017-04-21 03:00:00</td>\n",
              "      <td>6</td>\n",
              "    </tr>\n",
              "    <tr>\n",
              "      <th>2017-04-21 04:00:00</th>\n",
              "      <td>682.000000</td>\n",
              "      <td>16.5</td>\n",
              "      <td>27.5</td>\n",
              "      <td>12.2</td>\n",
              "      <td>16.0</td>\n",
              "      <td>748.0</td>\n",
              "      <td>2017-04-21 04:00:00</td>\n",
              "      <td>4</td>\n",
              "      <td>2017</td>\n",
              "      <td>2017-04-21</td>\n",
              "      <td>04:00:00</td>\n",
              "      <td>16</td>\n",
              "      <td>4</td>\n",
              "      <td>21</td>\n",
              "      <td>2017-04-21 04:00:00</td>\n",
              "      <td>6</td>\n",
              "    </tr>\n",
              "  </tbody>\n",
              "</table>\n",
              "</div>\n",
              "      <button class=\"colab-df-convert\" onclick=\"convertToInteractive('df-c26544a6-7209-46d7-9abf-7c802f59a589')\"\n",
              "              title=\"Convert this dataframe to an interactive table.\"\n",
              "              style=\"display:none;\">\n",
              "        \n",
              "  <svg xmlns=\"http://www.w3.org/2000/svg\" height=\"24px\"viewBox=\"0 0 24 24\"\n",
              "       width=\"24px\">\n",
              "    <path d=\"M0 0h24v24H0V0z\" fill=\"none\"/>\n",
              "    <path d=\"M18.56 5.44l.94 2.06.94-2.06 2.06-.94-2.06-.94-.94-2.06-.94 2.06-2.06.94zm-11 1L8.5 8.5l.94-2.06 2.06-.94-2.06-.94L8.5 2.5l-.94 2.06-2.06.94zm10 10l.94 2.06.94-2.06 2.06-.94-2.06-.94-.94-2.06-.94 2.06-2.06.94z\"/><path d=\"M17.41 7.96l-1.37-1.37c-.4-.4-.92-.59-1.43-.59-.52 0-1.04.2-1.43.59L10.3 9.45l-7.72 7.72c-.78.78-.78 2.05 0 2.83L4 21.41c.39.39.9.59 1.41.59.51 0 1.02-.2 1.41-.59l7.78-7.78 2.81-2.81c.8-.78.8-2.07 0-2.86zM5.41 20L4 18.59l7.72-7.72 1.47 1.35L5.41 20z\"/>\n",
              "  </svg>\n",
              "      </button>\n",
              "      \n",
              "  <style>\n",
              "    .colab-df-container {\n",
              "      display:flex;\n",
              "      flex-wrap:wrap;\n",
              "      gap: 12px;\n",
              "    }\n",
              "\n",
              "    .colab-df-convert {\n",
              "      background-color: #E8F0FE;\n",
              "      border: none;\n",
              "      border-radius: 50%;\n",
              "      cursor: pointer;\n",
              "      display: none;\n",
              "      fill: #1967D2;\n",
              "      height: 32px;\n",
              "      padding: 0 0 0 0;\n",
              "      width: 32px;\n",
              "    }\n",
              "\n",
              "    .colab-df-convert:hover {\n",
              "      background-color: #E2EBFA;\n",
              "      box-shadow: 0px 1px 2px rgba(60, 64, 67, 0.3), 0px 1px 3px 1px rgba(60, 64, 67, 0.15);\n",
              "      fill: #174EA6;\n",
              "    }\n",
              "\n",
              "    [theme=dark] .colab-df-convert {\n",
              "      background-color: #3B4455;\n",
              "      fill: #D2E3FC;\n",
              "    }\n",
              "\n",
              "    [theme=dark] .colab-df-convert:hover {\n",
              "      background-color: #434B5C;\n",
              "      box-shadow: 0px 1px 3px 1px rgba(0, 0, 0, 0.15);\n",
              "      filter: drop-shadow(0px 1px 2px rgba(0, 0, 0, 0.3));\n",
              "      fill: #FFFFFF;\n",
              "    }\n",
              "  </style>\n",
              "\n",
              "      <script>\n",
              "        const buttonEl =\n",
              "          document.querySelector('#df-c26544a6-7209-46d7-9abf-7c802f59a589 button.colab-df-convert');\n",
              "        buttonEl.style.display =\n",
              "          google.colab.kernel.accessAllowed ? 'block' : 'none';\n",
              "\n",
              "        async function convertToInteractive(key) {\n",
              "          const element = document.querySelector('#df-c26544a6-7209-46d7-9abf-7c802f59a589');\n",
              "          const dataTable =\n",
              "            await google.colab.kernel.invokeFunction('convertToInteractive',\n",
              "                                                     [key], {});\n",
              "          if (!dataTable) return;\n",
              "\n",
              "          const docLinkHtml = 'Like what you see? Visit the ' +\n",
              "            '<a target=\"_blank\" href=https://colab.research.google.com/notebooks/data_table.ipynb>data table notebook</a>'\n",
              "            + ' to learn more about interactive tables.';\n",
              "          element.innerHTML = '';\n",
              "          dataTable['output_type'] = 'display_data';\n",
              "          await google.colab.output.renderOutput(dataTable, element);\n",
              "          const docLink = document.createElement('div');\n",
              "          docLink.innerHTML = docLinkHtml;\n",
              "          element.appendChild(docLink);\n",
              "        }\n",
              "      </script>\n",
              "    </div>\n",
              "  </div>\n",
              "  "
            ]
          },
          "metadata": {},
          "execution_count": 16
        }
      ],
      "source": [
        "#extracting date and time\n",
        "dataset = df\n",
        "dataset[\"Month\"] = pd.to_datetime(df[\"DateTime\"]).dt.month\n",
        "dataset[\"Year\"] = pd.to_datetime(df[\"DateTime\"]).dt.year\n",
        "dataset[\"Date\"] = pd.to_datetime(df[\"DateTime\"]).dt.date\n",
        "dataset[\"Time\"] = pd.to_datetime(df[\"DateTime\"]).dt.time\n",
        "dataset[\"Week\"] = pd.to_datetime(df[\"DateTime\"]).dt.week\n",
        "dataset[\"Hour\"] = pd.to_datetime(df[\"DateTime\"]).dt.hour\n",
        "dataset[\"day\"] = pd.to_datetime(df[\"DateTime\"]).dt.day\n",
        "dataset['timestamp'] = pd.to_datetime(df['DateTime'])\n",
        "\n",
        "# Create a dictionary to map the days of the week to numerical values\n",
        "day_map = {\n",
        "    'Sunday': 1,\n",
        "    'Monday': 2,\n",
        "    'Tuesday': 3,\n",
        "    'Wednesday': 4,\n",
        "    'Thursday': 5,\n",
        "    'Friday': 6,\n",
        "    'Saturday': 7\n",
        "}\n",
        "\n",
        "# Extract the day of the week from the timestamp column and map it to a numerical value\n",
        "df['day_of_week'] = df['timestamp'].dt.day_name().map(day_map)\n",
        "dataset = df.set_index(\"DateTime\")\n",
        "dataset.index = pd.to_datetime(dataset.index)\n",
        "dataset.head(5)"
      ]
    },
    {
      "cell_type": "code",
      "execution_count": 17,
      "metadata": {
        "id": "qzNFPbWxjk-N",
        "colab": {
          "base_uri": "https://localhost:8080/",
          "height": 542
        },
        "outputId": "19eec698-a47f-4f1c-df9e-872c6144a46a"
      },
      "outputs": [
        {
          "output_type": "execute_result",
          "data": {
            "text/plain": [
              "array([<matplotlib.axes._subplots.AxesSubplot object at 0x7f4c31fe3d00>,\n",
              "       <matplotlib.axes._subplots.AxesSubplot object at 0x7f4c2bfe8880>,\n",
              "       <matplotlib.axes._subplots.AxesSubplot object at 0x7f4c2bf89a90>],\n",
              "      dtype=object)"
            ]
          },
          "metadata": {},
          "execution_count": 17
        },
        {
          "output_type": "display_data",
          "data": {
            "text/plain": [
              "<Figure size 720x576 with 3 Axes>"
            ],
            "image/png": "[encoded data removed]"
          },
          "metadata": {
            "needs_background": "light"
          }
        }
      ],
      "source": [
        "df.set_index('date')[['Max Temp','rainfall','kVA']].plot(subplots = True)"
      ]
    },
    {
      "cell_type": "code",
      "execution_count": 18,
      "metadata": {
        "id": "a02sICnJKxCr"
      },
      "outputs": [],
      "source": [
        "result = df\n",
        "#result = df.loc[df['Value'] == 0]\n",
        "new_kva = df['kVA']\n",
        "new_kva.replace(to_replace = 0, value = new_kva.std(), inplace=True)"
      ]
    },
    {
      "cell_type": "code",
      "execution_count": 19,
      "metadata": {
        "id": "sEXzXkhEMqg2"
      },
      "outputs": [],
      "source": [
        "df_input = result"
      ]
    },
    {
      "cell_type": "code",
      "execution_count": 20,
      "metadata": {
        "id": "r8URsWrBkRaY"
      },
      "outputs": [],
      "source": [
        "df_input = result[['kVA','Max Temp','Week','Hour', 'Min Temp','week-1']]"
      ]
    },
    {
      "cell_type": "code",
      "execution_count": 21,
      "metadata": {
        "id": "5X0T1rZhs3Mz"
      },
      "outputs": [],
      "source": [
        "q3 = df_input['kVA'].quantile(0.75)\n",
        "iqr = df_input['kVA'].quantile(0.75) - df_input['kVA'].quantile(0.25)\n",
        "threshold = q3 + 1.5 * iqr"
      ]
    },
    {
      "cell_type": "code",
      "execution_count": 22,
      "metadata": {
        "id": "iZfqIldLUNfi"
      },
      "outputs": [],
      "source": [
        "q1 = df_input['kVA'].quantile(0.25)\n",
        "iqr = df_input['kVA'].quantile(0.75) - df_input['kVA'].quantile(0.25)\n",
        "thresholdL = q1 - 1 * iqr"
      ]
    },
    {
      "cell_type": "code",
      "execution_count": 23,
      "metadata": {
        "id": "NKjXyXKyUpcH",
        "colab": {
          "base_uri": "https://localhost:8080/"
        },
        "outputId": "8c7bfe9d-fd55-4392-cab8-c773c6c65cb1"
      },
      "outputs": [
        {
          "output_type": "execute_result",
          "data": {
            "text/plain": [
              "(832.1500000000001, 1166.0)"
            ]
          },
          "metadata": {},
          "execution_count": 23
        }
      ],
      "source": [
        "iqr,q1"
      ]
    },
    {
      "cell_type": "code",
      "execution_count": 24,
      "metadata": {
        "id": "wTCt6kE4iSVG",
        "colab": {
          "base_uri": "https://localhost:8080/"
        },
        "outputId": "1306b7ba-bb55-4b5c-e0e6-e4a703ca8f43"
      },
      "outputs": [
        {
          "output_type": "execute_result",
          "data": {
            "text/plain": [
              "3246.375"
            ]
          },
          "metadata": {},
          "execution_count": 24
        }
      ],
      "source": [
        "threshold"
      ]
    },
    {
      "cell_type": "code",
      "execution_count": 25,
      "metadata": {
        "id": "HxzMVFoyI-Ds",
        "colab": {
          "base_uri": "https://localhost:8080/"
        },
        "outputId": "efc8d235-8769-49f6-b998-c1dc2bd756cd"
      },
      "outputs": [
        {
          "output_type": "stream",
          "name": "stderr",
          "text": [
            "<ipython-input-25-57fd93b5e8a7>:1: SettingWithCopyWarning: \n",
            "A value is trying to be set on a copy of a slice from a DataFrame.\n",
            "Try using .loc[row_indexer,col_indexer] = value instead\n",
            "\n",
            "See the caveats in the documentation: https://pandas.pydata.org/pandas-docs/stable/user_guide/indexing.html#returning-a-view-versus-a-copy\n",
            "  df_input['kVA'] = df_input['kVA'].clip(upper=threshold)\n",
            "<ipython-input-25-57fd93b5e8a7>:2: SettingWithCopyWarning: \n",
            "A value is trying to be set on a copy of a slice from a DataFrame.\n",
            "Try using .loc[row_indexer,col_indexer] = value instead\n",
            "\n",
            "See the caveats in the documentation: https://pandas.pydata.org/pandas-docs/stable/user_guide/indexing.html#returning-a-view-versus-a-copy\n",
            "  df_input['kVA'] = df_input['kVA'].clip(lower=thresholdL)\n"
          ]
        }
      ],
      "source": [
        "df_input['kVA'] = df_input['kVA'].clip(upper=threshold)\n",
        "df_input['kVA'] = df_input['kVA'].clip(lower=thresholdL)"
      ]
    },
    {
      "cell_type": "code",
      "execution_count": 26,
      "metadata": {
        "id": "E-HHP9xZUkME",
        "colab": {
          "base_uri": "https://localhost:8080/"
        },
        "outputId": "cff94290-5084-4627-93fa-6df8944419d5"
      },
      "outputs": [
        {
          "output_type": "execute_result",
          "data": {
            "text/plain": [
              "333.8499999999999"
            ]
          },
          "metadata": {},
          "execution_count": 26
        }
      ],
      "source": [
        "thresholdL"
      ]
    },
    {
      "cell_type": "code",
      "execution_count": 27,
      "metadata": {
        "id": "5rM2GIo4kiWB",
        "colab": {
          "base_uri": "https://localhost:8080/",
          "height": 423
        },
        "outputId": "cf423065-12b1-4a98-da6e-328c96942a6b"
      },
      "outputs": [
        {
          "output_type": "execute_result",
          "data": {
            "text/plain": [
              "               kVA  Max Temp  Week  Hour  Min Temp  week-1\n",
              "0       968.000000      27.5    16     0      16.5   770.0\n",
              "1       798.589713      27.5    16     1      16.5   726.0\n",
              "2       682.000000      27.5    16     2      16.5   704.0\n",
              "3       682.000000      27.5    16     3      16.5   704.0\n",
              "4       682.000000      27.5    16     4      16.5   748.0\n",
              "...            ...       ...   ...   ...       ...     ...\n",
              "46523  1496.000000      30.2    15    20      13.0  1331.0\n",
              "46524  1408.000000      30.2    15    21      13.0  1254.0\n",
              "46525  1298.000000      30.2    15    22      13.0  1144.0\n",
              "46526  1210.000000      30.2    15    23      13.0   825.0\n",
              "46527   990.000000      30.2    15     0      13.0   726.0\n",
              "\n",
              "[46528 rows x 6 columns]"
            ],
            "text/html": [
              "\n",
              "  <div id=\"df-4d104960-1969-4d74-b264-14c6dec4351c\">\n",
              "    <div class=\"colab-df-container\">\n",
              "      <div>\n",
              "<style scoped>\n",
              "    .dataframe tbody tr th:only-of-type {\n",
              "        vertical-align: middle;\n",
              "    }\n",
              "\n",
              "    .dataframe tbody tr th {\n",
              "        vertical-align: top;\n",
              "    }\n",
              "\n",
              "    .dataframe thead th {\n",
              "        text-align: right;\n",
              "    }\n",
              "</style>\n",
              "<table border=\"1\" class=\"dataframe\">\n",
              "  <thead>\n",
              "    <tr style=\"text-align: right;\">\n",
              "      <th></th>\n",
              "      <th>kVA</th>\n",
              "      <th>Max Temp</th>\n",
              "      <th>Week</th>\n",
              "      <th>Hour</th>\n",
              "      <th>Min Temp</th>\n",
              "      <th>week-1</th>\n",
              "    </tr>\n",
              "  </thead>\n",
              "  <tbody>\n",
              "    <tr>\n",
              "      <th>0</th>\n",
              "      <td>968.000000</td>\n",
              "      <td>27.5</td>\n",
              "      <td>16</td>\n",
              "      <td>0</td>\n",
              "      <td>16.5</td>\n",
              "      <td>770.0</td>\n",
              "    </tr>\n",
              "    <tr>\n",
              "      <th>1</th>\n",
              "      <td>798.589713</td>\n",
              "      <td>27.5</td>\n",
              "      <td>16</td>\n",
              "      <td>1</td>\n",
              "      <td>16.5</td>\n",
              "      <td>726.0</td>\n",
              "    </tr>\n",
              "    <tr>\n",
              "      <th>2</th>\n",
              "      <td>682.000000</td>\n",
              "      <td>27.5</td>\n",
              "      <td>16</td>\n",
              "      <td>2</td>\n",
              "      <td>16.5</td>\n",
              "      <td>704.0</td>\n",
              "    </tr>\n",
              "    <tr>\n",
              "      <th>3</th>\n",
              "      <td>682.000000</td>\n",
              "      <td>27.5</td>\n",
              "      <td>16</td>\n",
              "      <td>3</td>\n",
              "      <td>16.5</td>\n",
              "      <td>704.0</td>\n",
              "    </tr>\n",
              "    <tr>\n",
              "      <th>4</th>\n",
              "      <td>682.000000</td>\n",
              "      <td>27.5</td>\n",
              "      <td>16</td>\n",
              "      <td>4</td>\n",
              "      <td>16.5</td>\n",
              "      <td>748.0</td>\n",
              "    </tr>\n",
              "    <tr>\n",
              "      <th>...</th>\n",
              "      <td>...</td>\n",
              "      <td>...</td>\n",
              "      <td>...</td>\n",
              "      <td>...</td>\n",
              "      <td>...</td>\n",
              "      <td>...</td>\n",
              "    </tr>\n",
              "    <tr>\n",
              "      <th>46523</th>\n",
              "      <td>1496.000000</td>\n",
              "      <td>30.2</td>\n",
              "      <td>15</td>\n",
              "      <td>20</td>\n",
              "      <td>13.0</td>\n",
              "      <td>1331.0</td>\n",
              "    </tr>\n",
              "    <tr>\n",
              "      <th>46524</th>\n",
              "      <td>1408.000000</td>\n",
              "      <td>30.2</td>\n",
              "      <td>15</td>\n",
              "      <td>21</td>\n",
              "      <td>13.0</td>\n",
              "      <td>1254.0</td>\n",
              "    </tr>\n",
              "    <tr>\n",
              "      <th>46525</th>\n",
              "      <td>1298.000000</td>\n",
              "      <td>30.2</td>\n",
              "      <td>15</td>\n",
              "      <td>22</td>\n",
              "      <td>13.0</td>\n",
              "      <td>1144.0</td>\n",
              "    </tr>\n",
              "    <tr>\n",
              "      <th>46526</th>\n",
              "      <td>1210.000000</td>\n",
              "      <td>30.2</td>\n",
              "      <td>15</td>\n",
              "      <td>23</td>\n",
              "      <td>13.0</td>\n",
              "      <td>825.0</td>\n",
              "    </tr>\n",
              "    <tr>\n",
              "      <th>46527</th>\n",
              "      <td>990.000000</td>\n",
              "      <td>30.2</td>\n",
              "      <td>15</td>\n",
              "      <td>0</td>\n",
              "      <td>13.0</td>\n",
              "      <td>726.0</td>\n",
              "    </tr>\n",
              "  </tbody>\n",
              "</table>\n",
              "<p>46528 rows × 6 columns</p>\n",
              "</div>\n",
              "      <button class=\"colab-df-convert\" onclick=\"convertToInteractive('df-4d104960-1969-4d74-b264-14c6dec4351c')\"\n",
              "              title=\"Convert this dataframe to an interactive table.\"\n",
              "              style=\"display:none;\">\n",
              "        \n",
              "  <svg xmlns=\"http://www.w3.org/2000/svg\" height=\"24px\"viewBox=\"0 0 24 24\"\n",
              "       width=\"24px\">\n",
              "    <path d=\"M0 0h24v24H0V0z\" fill=\"none\"/>\n",
              "    <path d=\"M18.56 5.44l.94 2.06.94-2.06 2.06-.94-2.06-.94-.94-2.06-.94 2.06-2.06.94zm-11 1L8.5 8.5l.94-2.06 2.06-.94-2.06-.94L8.5 2.5l-.94 2.06-2.06.94zm10 10l.94 2.06.94-2.06 2.06-.94-2.06-.94-.94-2.06-.94 2.06-2.06.94z\"/><path d=\"M17.41 7.96l-1.37-1.37c-.4-.4-.92-.59-1.43-.59-.52 0-1.04.2-1.43.59L10.3 9.45l-7.72 7.72c-.78.78-.78 2.05 0 2.83L4 21.41c.39.39.9.59 1.41.59.51 0 1.02-.2 1.41-.59l7.78-7.78 2.81-2.81c.8-.78.8-2.07 0-2.86zM5.41 20L4 18.59l7.72-7.72 1.47 1.35L5.41 20z\"/>\n",
              "  </svg>\n",
              "      </button>\n",
              "      \n",
              "  <style>\n",
              "    .colab-df-container {\n",
              "      display:flex;\n",
              "      flex-wrap:wrap;\n",
              "      gap: 12px;\n",
              "    }\n",
              "\n",
              "    .colab-df-convert {\n",
              "      background-color: #E8F0FE;\n",
              "      border: none;\n",
              "      border-radius: 50%;\n",
              "      cursor: pointer;\n",
              "      display: none;\n",
              "      fill: #1967D2;\n",
              "      height: 32px;\n",
              "      padding: 0 0 0 0;\n",
              "      width: 32px;\n",
              "    }\n",
              "\n",
              "    .colab-df-convert:hover {\n",
              "      background-color: #E2EBFA;\n",
              "      box-shadow: 0px 1px 2px rgba(60, 64, 67, 0.3), 0px 1px 3px 1px rgba(60, 64, 67, 0.15);\n",
              "      fill: #174EA6;\n",
              "    }\n",
              "\n",
              "    [theme=dark] .colab-df-convert {\n",
              "      background-color: #3B4455;\n",
              "      fill: #D2E3FC;\n",
              "    }\n",
              "\n",
              "    [theme=dark] .colab-df-convert:hover {\n",
              "      background-color: #434B5C;\n",
              "      box-shadow: 0px 1px 3px 1px rgba(0, 0, 0, 0.15);\n",
              "      filter: drop-shadow(0px 1px 2px rgba(0, 0, 0, 0.3));\n",
              "      fill: #FFFFFF;\n",
              "    }\n",
              "  </style>\n",
              "\n",
              "      <script>\n",
              "        const buttonEl =\n",
              "          document.querySelector('#df-4d104960-1969-4d74-b264-14c6dec4351c button.colab-df-convert');\n",
              "        buttonEl.style.display =\n",
              "          google.colab.kernel.accessAllowed ? 'block' : 'none';\n",
              "\n",
              "        async function convertToInteractive(key) {\n",
              "          const element = document.querySelector('#df-4d104960-1969-4d74-b264-14c6dec4351c');\n",
              "          const dataTable =\n",
              "            await google.colab.kernel.invokeFunction('convertToInteractive',\n",
              "                                                     [key], {});\n",
              "          if (!dataTable) return;\n",
              "\n",
              "          const docLinkHtml = 'Like what you see? Visit the ' +\n",
              "            '<a target=\"_blank\" href=https://colab.research.google.com/notebooks/data_table.ipynb>data table notebook</a>'\n",
              "            + ' to learn more about interactive tables.';\n",
              "          element.innerHTML = '';\n",
              "          dataTable['output_type'] = 'display_data';\n",
              "          await google.colab.output.renderOutput(dataTable, element);\n",
              "          const docLink = document.createElement('div');\n",
              "          docLink.innerHTML = docLinkHtml;\n",
              "          element.appendChild(docLink);\n",
              "        }\n",
              "      </script>\n",
              "    </div>\n",
              "  </div>\n",
              "  "
            ]
          },
          "metadata": {},
          "execution_count": 27
        }
      ],
      "source": [
        "df_input"
      ]
    },
    {
      "cell_type": "code",
      "execution_count": 28,
      "metadata": {
        "id": "zmxkvCbrldFj",
        "colab": {
          "base_uri": "https://localhost:8080/",
          "height": 300
        },
        "outputId": "45ddb528-141f-49e5-93bc-6368e6625492"
      },
      "outputs": [
        {
          "output_type": "execute_result",
          "data": {
            "text/plain": [
              "                kVA      Max Temp          Week          Hour      Min Temp  \\\n",
              "count  46528.000000  46528.000000  46528.000000  46528.000000  46528.000000   \n",
              "mean    1588.449201     25.688607     26.696011     11.875000     13.106671   \n",
              "std      575.268169      4.517785     15.104605      6.650964      6.294455   \n",
              "min      333.850000      9.700000      1.000000      0.000000      0.000000   \n",
              "25%     1166.000000     22.000000     13.000000      6.750000      7.500000   \n",
              "50%     1570.800000     26.950000     27.000000     11.500000     13.600000   \n",
              "75%     1998.150000     29.500000     40.000000     18.000000     19.500000   \n",
              "max     3246.375000     33.500000     53.000000     23.000000     23.500000   \n",
              "\n",
              "             week-1  \n",
              "count  46528.000000  \n",
              "mean    1590.400300  \n",
              "std      576.434043  \n",
              "min      110.000000  \n",
              "25%     1166.000000  \n",
              "50%     1573.000000  \n",
              "75%     2002.000000  \n",
              "max     3927.000000  "
            ],
            "text/html": [
              "\n",
              "  <div id=\"df-b38fd74a-2a48-4b15-a6a4-ae94d084f7da\">\n",
              "    <div class=\"colab-df-container\">\n",
              "      <div>\n",
              "<style scoped>\n",
              "    .dataframe tbody tr th:only-of-type {\n",
              "        vertical-align: middle;\n",
              "    }\n",
              "\n",
              "    .dataframe tbody tr th {\n",
              "        vertical-align: top;\n",
              "    }\n",
              "\n",
              "    .dataframe thead th {\n",
              "        text-align: right;\n",
              "    }\n",
              "</style>\n",
              "<table border=\"1\" class=\"dataframe\">\n",
              "  <thead>\n",
              "    <tr style=\"text-align: right;\">\n",
              "      <th></th>\n",
              "      <th>kVA</th>\n",
              "      <th>Max Temp</th>\n",
              "      <th>Week</th>\n",
              "      <th>Hour</th>\n",
              "      <th>Min Temp</th>\n",
              "      <th>week-1</th>\n",
              "    </tr>\n",
              "  </thead>\n",
              "  <tbody>\n",
              "    <tr>\n",
              "      <th>count</th>\n",
              "      <td>46528.000000</td>\n",
              "      <td>46528.000000</td>\n",
              "      <td>46528.000000</td>\n",
              "      <td>46528.000000</td>\n",
              "      <td>46528.000000</td>\n",
              "      <td>46528.000000</td>\n",
              "    </tr>\n",
              "    <tr>\n",
              "      <th>mean</th>\n",
              "      <td>1588.449201</td>\n",
              "      <td>25.688607</td>\n",
              "      <td>26.696011</td>\n",
              "      <td>11.875000</td>\n",
              "      <td>13.106671</td>\n",
              "      <td>1590.400300</td>\n",
              "    </tr>\n",
              "    <tr>\n",
              "      <th>std</th>\n",
              "      <td>575.268169</td>\n",
              "      <td>4.517785</td>\n",
              "      <td>15.104605</td>\n",
              "      <td>6.650964</td>\n",
              "      <td>6.294455</td>\n",
              "      <td>576.434043</td>\n",
              "    </tr>\n",
              "    <tr>\n",
              "      <th>min</th>\n",
              "      <td>333.850000</td>\n",
              "      <td>9.700000</td>\n",
              "      <td>1.000000</td>\n",
              "      <td>0.000000</td>\n",
              "      <td>0.000000</td>\n",
              "      <td>110.000000</td>\n",
              "    </tr>\n",
              "    <tr>\n",
              "      <th>25%</th>\n",
              "      <td>1166.000000</td>\n",
              "      <td>22.000000</td>\n",
              "      <td>13.000000</td>\n",
              "      <td>6.750000</td>\n",
              "      <td>7.500000</td>\n",
              "      <td>1166.000000</td>\n",
              "    </tr>\n",
              "    <tr>\n",
              "      <th>50%</th>\n",
              "      <td>1570.800000</td>\n",
              "      <td>26.950000</td>\n",
              "      <td>27.000000</td>\n",
              "      <td>11.500000</td>\n",
              "      <td>13.600000</td>\n",
              "      <td>1573.000000</td>\n",
              "    </tr>\n",
              "    <tr>\n",
              "      <th>75%</th>\n",
              "      <td>1998.150000</td>\n",
              "      <td>29.500000</td>\n",
              "      <td>40.000000</td>\n",
              "      <td>18.000000</td>\n",
              "      <td>19.500000</td>\n",
              "      <td>2002.000000</td>\n",
              "    </tr>\n",
              "    <tr>\n",
              "      <th>max</th>\n",
              "      <td>3246.375000</td>\n",
              "      <td>33.500000</td>\n",
              "      <td>53.000000</td>\n",
              "      <td>23.000000</td>\n",
              "      <td>23.500000</td>\n",
              "      <td>3927.000000</td>\n",
              "    </tr>\n",
              "  </tbody>\n",
              "</table>\n",
              "</div>\n",
              "      <button class=\"colab-df-convert\" onclick=\"convertToInteractive('df-b38fd74a-2a48-4b15-a6a4-ae94d084f7da')\"\n",
              "              title=\"Convert this dataframe to an interactive table.\"\n",
              "              style=\"display:none;\">\n",
              "        \n",
              "  <svg xmlns=\"http://www.w3.org/2000/svg\" height=\"24px\"viewBox=\"0 0 24 24\"\n",
              "       width=\"24px\">\n",
              "    <path d=\"M0 0h24v24H0V0z\" fill=\"none\"/>\n",
              "    <path d=\"M18.56 5.44l.94 2.06.94-2.06 2.06-.94-2.06-.94-.94-2.06-.94 2.06-2.06.94zm-11 1L8.5 8.5l.94-2.06 2.06-.94-2.06-.94L8.5 2.5l-.94 2.06-2.06.94zm10 10l.94 2.06.94-2.06 2.06-.94-2.06-.94-.94-2.06-.94 2.06-2.06.94z\"/><path d=\"M17.41 7.96l-1.37-1.37c-.4-.4-.92-.59-1.43-.59-.52 0-1.04.2-1.43.59L10.3 9.45l-7.72 7.72c-.78.78-.78 2.05 0 2.83L4 21.41c.39.39.9.59 1.41.59.51 0 1.02-.2 1.41-.59l7.78-7.78 2.81-2.81c.8-.78.8-2.07 0-2.86zM5.41 20L4 18.59l7.72-7.72 1.47 1.35L5.41 20z\"/>\n",
              "  </svg>\n",
              "      </button>\n",
              "      \n",
              "  <style>\n",
              "    .colab-df-container {\n",
              "      display:flex;\n",
              "      flex-wrap:wrap;\n",
              "      gap: 12px;\n",
              "    }\n",
              "\n",
              "    .colab-df-convert {\n",
              "      background-color: #E8F0FE;\n",
              "      border: none;\n",
              "      border-radius: 50%;\n",
              "      cursor: pointer;\n",
              "      display: none;\n",
              "      fill: #1967D2;\n",
              "      height: 32px;\n",
              "      padding: 0 0 0 0;\n",
              "      width: 32px;\n",
              "    }\n",
              "\n",
              "    .colab-df-convert:hover {\n",
              "      background-color: #E2EBFA;\n",
              "      box-shadow: 0px 1px 2px rgba(60, 64, 67, 0.3), 0px 1px 3px 1px rgba(60, 64, 67, 0.15);\n",
              "      fill: #174EA6;\n",
              "    }\n",
              "\n",
              "    [theme=dark] .colab-df-convert {\n",
              "      background-color: #3B4455;\n",
              "      fill: #D2E3FC;\n",
              "    }\n",
              "\n",
              "    [theme=dark] .colab-df-convert:hover {\n",
              "      background-color: #434B5C;\n",
              "      box-shadow: 0px 1px 3px 1px rgba(0, 0, 0, 0.15);\n",
              "      filter: drop-shadow(0px 1px 2px rgba(0, 0, 0, 0.3));\n",
              "      fill: #FFFFFF;\n",
              "    }\n",
              "  </style>\n",
              "\n",
              "      <script>\n",
              "        const buttonEl =\n",
              "          document.querySelector('#df-b38fd74a-2a48-4b15-a6a4-ae94d084f7da button.colab-df-convert');\n",
              "        buttonEl.style.display =\n",
              "          google.colab.kernel.accessAllowed ? 'block' : 'none';\n",
              "\n",
              "        async function convertToInteractive(key) {\n",
              "          const element = document.querySelector('#df-b38fd74a-2a48-4b15-a6a4-ae94d084f7da');\n",
              "          const dataTable =\n",
              "            await google.colab.kernel.invokeFunction('convertToInteractive',\n",
              "                                                     [key], {});\n",
              "          if (!dataTable) return;\n",
              "\n",
              "          const docLinkHtml = 'Like what you see? Visit the ' +\n",
              "            '<a target=\"_blank\" href=https://colab.research.google.com/notebooks/data_table.ipynb>data table notebook</a>'\n",
              "            + ' to learn more about interactive tables.';\n",
              "          element.innerHTML = '';\n",
              "          dataTable['output_type'] = 'display_data';\n",
              "          await google.colab.output.renderOutput(dataTable, element);\n",
              "          const docLink = document.createElement('div');\n",
              "          docLink.innerHTML = docLinkHtml;\n",
              "          element.appendChild(docLink);\n",
              "        }\n",
              "      </script>\n",
              "    </div>\n",
              "  </div>\n",
              "  "
            ]
          },
          "metadata": {},
          "execution_count": 28
        }
      ],
      "source": [
        "df_input.describe()"
      ]
    },
    {
      "cell_type": "code",
      "execution_count": 29,
      "metadata": {
        "id": "N1Avg_fgN7rB",
        "colab": {
          "base_uri": "https://localhost:8080/"
        },
        "outputId": "956abe09-0cec-4b44-b74c-effdcfe15465"
      },
      "outputs": [
        {
          "output_type": "stream",
          "name": "stderr",
          "text": [
            "/usr/local/lib/python3.8/dist-packages/pandas/core/generic.py:6619: SettingWithCopyWarning: \n",
            "A value is trying to be set on a copy of a slice from a DataFrame\n",
            "\n",
            "See the caveats in the documentation: https://pandas.pydata.org/pandas-docs/stable/user_guide/indexing.html#returning-a-view-versus-a-copy\n",
            "  return self._update_inplace(result)\n"
          ]
        }
      ],
      "source": [
        "new_kva = df_input['kVA']\n",
        "new_kva.replace(to_replace = 0, value = new_kva.std(), inplace=True)"
      ]
    },
    {
      "cell_type": "code",
      "execution_count": 30,
      "metadata": {
        "id": "jrABKEFdPW-k",
        "colab": {
          "base_uri": "https://localhost:8080/",
          "height": 300
        },
        "outputId": "982b912b-ac9f-4ab9-ee58-c16802723007"
      },
      "outputs": [
        {
          "output_type": "execute_result",
          "data": {
            "text/plain": [
              "                kVA      Max Temp          Week          Hour      Min Temp  \\\n",
              "count  46528.000000  46528.000000  46528.000000  46528.000000  46528.000000   \n",
              "mean    1588.449201     25.688607     26.696011     11.875000     13.106671   \n",
              "std      575.268169      4.517785     15.104605      6.650964      6.294455   \n",
              "min      333.850000      9.700000      1.000000      0.000000      0.000000   \n",
              "25%     1166.000000     22.000000     13.000000      6.750000      7.500000   \n",
              "50%     1570.800000     26.950000     27.000000     11.500000     13.600000   \n",
              "75%     1998.150000     29.500000     40.000000     18.000000     19.500000   \n",
              "max     3246.375000     33.500000     53.000000     23.000000     23.500000   \n",
              "\n",
              "             week-1  \n",
              "count  46528.000000  \n",
              "mean    1590.400300  \n",
              "std      576.434043  \n",
              "min      110.000000  \n",
              "25%     1166.000000  \n",
              "50%     1573.000000  \n",
              "75%     2002.000000  \n",
              "max     3927.000000  "
            ],
            "text/html": [
              "\n",
              "  <div id=\"df-1b662e7a-bdbd-4302-8c94-7493ca7b14d4\">\n",
              "    <div class=\"colab-df-container\">\n",
              "      <div>\n",
              "<style scoped>\n",
              "    .dataframe tbody tr th:only-of-type {\n",
              "        vertical-align: middle;\n",
              "    }\n",
              "\n",
              "    .dataframe tbody tr th {\n",
              "        vertical-align: top;\n",
              "    }\n",
              "\n",
              "    .dataframe thead th {\n",
              "        text-align: right;\n",
              "    }\n",
              "</style>\n",
              "<table border=\"1\" class=\"dataframe\">\n",
              "  <thead>\n",
              "    <tr style=\"text-align: right;\">\n",
              "      <th></th>\n",
              "      <th>kVA</th>\n",
              "      <th>Max Temp</th>\n",
              "      <th>Week</th>\n",
              "      <th>Hour</th>\n",
              "      <th>Min Temp</th>\n",
              "      <th>week-1</th>\n",
              "    </tr>\n",
              "  </thead>\n",
              "  <tbody>\n",
              "    <tr>\n",
              "      <th>count</th>\n",
              "      <td>46528.000000</td>\n",
              "      <td>46528.000000</td>\n",
              "      <td>46528.000000</td>\n",
              "      <td>46528.000000</td>\n",
              "      <td>46528.000000</td>\n",
              "      <td>46528.000000</td>\n",
              "    </tr>\n",
              "    <tr>\n",
              "      <th>mean</th>\n",
              "      <td>1588.449201</td>\n",
              "      <td>25.688607</td>\n",
              "      <td>26.696011</td>\n",
              "      <td>11.875000</td>\n",
              "      <td>13.106671</td>\n",
              "      <td>1590.400300</td>\n",
              "    </tr>\n",
              "    <tr>\n",
              "      <th>std</th>\n",
              "      <td>575.268169</td>\n",
              "      <td>4.517785</td>\n",
              "      <td>15.104605</td>\n",
              "      <td>6.650964</td>\n",
              "      <td>6.294455</td>\n",
              "      <td>576.434043</td>\n",
              "    </tr>\n",
              "    <tr>\n",
              "      <th>min</th>\n",
              "      <td>333.850000</td>\n",
              "      <td>9.700000</td>\n",
              "      <td>1.000000</td>\n",
              "      <td>0.000000</td>\n",
              "      <td>0.000000</td>\n",
              "      <td>110.000000</td>\n",
              "    </tr>\n",
              "    <tr>\n",
              "      <th>25%</th>\n",
              "      <td>1166.000000</td>\n",
              "      <td>22.000000</td>\n",
              "      <td>13.000000</td>\n",
              "      <td>6.750000</td>\n",
              "      <td>7.500000</td>\n",
              "      <td>1166.000000</td>\n",
              "    </tr>\n",
              "    <tr>\n",
              "      <th>50%</th>\n",
              "      <td>1570.800000</td>\n",
              "      <td>26.950000</td>\n",
              "      <td>27.000000</td>\n",
              "      <td>11.500000</td>\n",
              "      <td>13.600000</td>\n",
              "      <td>1573.000000</td>\n",
              "    </tr>\n",
              "    <tr>\n",
              "      <th>75%</th>\n",
              "      <td>1998.150000</td>\n",
              "      <td>29.500000</td>\n",
              "      <td>40.000000</td>\n",
              "      <td>18.000000</td>\n",
              "      <td>19.500000</td>\n",
              "      <td>2002.000000</td>\n",
              "    </tr>\n",
              "    <tr>\n",
              "      <th>max</th>\n",
              "      <td>3246.375000</td>\n",
              "      <td>33.500000</td>\n",
              "      <td>53.000000</td>\n",
              "      <td>23.000000</td>\n",
              "      <td>23.500000</td>\n",
              "      <td>3927.000000</td>\n",
              "    </tr>\n",
              "  </tbody>\n",
              "</table>\n",
              "</div>\n",
              "      <button class=\"colab-df-convert\" onclick=\"convertToInteractive('df-1b662e7a-bdbd-4302-8c94-7493ca7b14d4')\"\n",
              "              title=\"Convert this dataframe to an interactive table.\"\n",
              "              style=\"display:none;\">\n",
              "        \n",
              "  <svg xmlns=\"http://www.w3.org/2000/svg\" height=\"24px\"viewBox=\"0 0 24 24\"\n",
              "       width=\"24px\">\n",
              "    <path d=\"M0 0h24v24H0V0z\" fill=\"none\"/>\n",
              "    <path d=\"M18.56 5.44l.94 2.06.94-2.06 2.06-.94-2.06-.94-.94-2.06-.94 2.06-2.06.94zm-11 1L8.5 8.5l.94-2.06 2.06-.94-2.06-.94L8.5 2.5l-.94 2.06-2.06.94zm10 10l.94 2.06.94-2.06 2.06-.94-2.06-.94-.94-2.06-.94 2.06-2.06.94z\"/><path d=\"M17.41 7.96l-1.37-1.37c-.4-.4-.92-.59-1.43-.59-.52 0-1.04.2-1.43.59L10.3 9.45l-7.72 7.72c-.78.78-.78 2.05 0 2.83L4 21.41c.39.39.9.59 1.41.59.51 0 1.02-.2 1.41-.59l7.78-7.78 2.81-2.81c.8-.78.8-2.07 0-2.86zM5.41 20L4 18.59l7.72-7.72 1.47 1.35L5.41 20z\"/>\n",
              "  </svg>\n",
              "      </button>\n",
              "      \n",
              "  <style>\n",
              "    .colab-df-container {\n",
              "      display:flex;\n",
              "      flex-wrap:wrap;\n",
              "      gap: 12px;\n",
              "    }\n",
              "\n",
              "    .colab-df-convert {\n",
              "      background-color: #E8F0FE;\n",
              "      border: none;\n",
              "      border-radius: 50%;\n",
              "      cursor: pointer;\n",
              "      display: none;\n",
              "      fill: #1967D2;\n",
              "      height: 32px;\n",
              "      padding: 0 0 0 0;\n",
              "      width: 32px;\n",
              "    }\n",
              "\n",
              "    .colab-df-convert:hover {\n",
              "      background-color: #E2EBFA;\n",
              "      box-shadow: 0px 1px 2px rgba(60, 64, 67, 0.3), 0px 1px 3px 1px rgba(60, 64, 67, 0.15);\n",
              "      fill: #174EA6;\n",
              "    }\n",
              "\n",
              "    [theme=dark] .colab-df-convert {\n",
              "      background-color: #3B4455;\n",
              "      fill: #D2E3FC;\n",
              "    }\n",
              "\n",
              "    [theme=dark] .colab-df-convert:hover {\n",
              "      background-color: #434B5C;\n",
              "      box-shadow: 0px 1px 3px 1px rgba(0, 0, 0, 0.15);\n",
              "      filter: drop-shadow(0px 1px 2px rgba(0, 0, 0, 0.3));\n",
              "      fill: #FFFFFF;\n",
              "    }\n",
              "  </style>\n",
              "\n",
              "      <script>\n",
              "        const buttonEl =\n",
              "          document.querySelector('#df-1b662e7a-bdbd-4302-8c94-7493ca7b14d4 button.colab-df-convert');\n",
              "        buttonEl.style.display =\n",
              "          google.colab.kernel.accessAllowed ? 'block' : 'none';\n",
              "\n",
              "        async function convertToInteractive(key) {\n",
              "          const element = document.querySelector('#df-1b662e7a-bdbd-4302-8c94-7493ca7b14d4');\n",
              "          const dataTable =\n",
              "            await google.colab.kernel.invokeFunction('convertToInteractive',\n",
              "                                                     [key], {});\n",
              "          if (!dataTable) return;\n",
              "\n",
              "          const docLinkHtml = 'Like what you see? Visit the ' +\n",
              "            '<a target=\"_blank\" href=https://colab.research.google.com/notebooks/data_table.ipynb>data table notebook</a>'\n",
              "            + ' to learn more about interactive tables.';\n",
              "          element.innerHTML = '';\n",
              "          dataTable['output_type'] = 'display_data';\n",
              "          await google.colab.output.renderOutput(dataTable, element);\n",
              "          const docLink = document.createElement('div');\n",
              "          docLink.innerHTML = docLinkHtml;\n",
              "          element.appendChild(docLink);\n",
              "        }\n",
              "      </script>\n",
              "    </div>\n",
              "  </div>\n",
              "  "
            ]
          },
          "metadata": {},
          "execution_count": 30
        }
      ],
      "source": [
        "df_input.describe()"
      ]
    },
    {
      "cell_type": "code",
      "execution_count": 31,
      "metadata": {
        "id": "RkwqBmSMOtGZ",
        "colab": {
          "base_uri": "https://localhost:8080/",
          "height": 784
        },
        "outputId": "a54cdade-fafe-4ce4-82aa-506bdf666405"
      },
      "outputs": [
        {
          "output_type": "stream",
          "name": "stderr",
          "text": [
            "/usr/local/lib/python3.8/dist-packages/seaborn/axisgrid.py:337: UserWarning: The `size` parameter has been renamed to `height`; please update your code.\n",
            "  warnings.warn(msg, UserWarning)\n"
          ]
        },
        {
          "output_type": "display_data",
          "data": {
            "text/plain": [
              "<Figure size 720x720 with 2 Axes>"
            ],
            "image/png": "[encoded data removed]"
          },
          "metadata": {
            "needs_background": "light"
          }
        }
      ],
      "source": [
        "# Create a FacetGrid object with the desired height\n",
        "g = sns.FacetGrid(df, size = 10)\n",
        "\n",
        "# Load a sample dataset\n",
        "\n",
        "\n",
        "# Compute the correlation matrix\n",
        "corr = df_input.corr()\n",
        "\n",
        "# Generate a heatmap from the correlation matrix\n",
        "sns.heatmap(corr, annot=True, cmap=\"coolwarm\")\n",
        "\n",
        "# Show the plot\n",
        "plt.show()"
      ]
    },
    {
      "cell_type": "code",
      "execution_count": 32,
      "metadata": {
        "id": "36izIG709mqw",
        "colab": {
          "base_uri": "https://localhost:8080/",
          "height": 419
        },
        "outputId": "4e674293-f2f7-4365-e75e-cf8ea2788ece"
      },
      "outputs": [
        {
          "output_type": "display_data",
          "data": {
            "text/plain": [
              "<Figure size 1440x504 with 1 Axes>"
            ],
            "image/png": "[encoded data removed]"
          },
          "metadata": {
            "needs_background": "light"
          }
        }
      ],
      "source": [
        "fig = plt.figure(figsize=(20, 7))\n",
        "sns.boxplot(x=\"Hour\", y=\"kVA\", data=df_input)\n",
        "plt.xlabel(\"Hour\") # set the font size for the x-axis label\n",
        "plt.show()"
      ]
    },
    {
      "cell_type": "code",
      "execution_count": 33,
      "metadata": {
        "id": "BZGtOBcsli8r"
      },
      "outputs": [],
      "source": [
        "scaler = MinMaxScaler()\n",
        "data_scaled = scaler.fit_transform(df_input)"
      ]
    },
    {
      "cell_type": "code",
      "execution_count": 34,
      "metadata": {
        "id": "kNTwpO6rl9CW"
      },
      "outputs": [],
      "source": [
        "features= data_scaled\n",
        "target = data_scaled[:,0]"
      ]
    },
    {
      "cell_type": "code",
      "execution_count": 35,
      "metadata": {
        "id": "Y5atoeFHmDP2",
        "colab": {
          "base_uri": "https://localhost:8080/"
        },
        "outputId": "85e35885-a837-4ebb-a3e7-193183bf55ef"
      },
      "outputs": [
        {
          "output_type": "execute_result",
          "data": {
            "text/plain": [
              "(array([[[0.21773204, 0.74789916, 0.28846154, 0.        , 0.70212766,\n",
              "          0.17291066],\n",
              "         [0.11953545, 0.74789916, 0.28846154, 0.08695652, 0.70212766,\n",
              "          0.1556196 ],\n",
              "         [0.11953545, 0.74789916, 0.28846154, 0.17391304, 0.70212766,\n",
              "          0.16714697],\n",
              "         ...,\n",
              "         [0.66339345, 0.57983193, 0.28846154, 0.82608696, 0.65106383,\n",
              "          0.55907781],\n",
              "         [0.71626853, 0.57983193, 0.28846154, 0.86956522, 0.65106383,\n",
              "          0.49567723],\n",
              "         [0.61807195, 0.57983193, 0.28846154, 0.95652174, 0.65106383,\n",
              "          0.3573487 ]],\n",
              " \n",
              "        [[0.15956591, 0.74789916, 0.28846154, 0.04347826, 0.70212766,\n",
              "          0.16138329],\n",
              "         [0.11953545, 0.74789916, 0.28846154, 0.13043478, 0.70212766,\n",
              "          0.1556196 ],\n",
              "         [0.1421962 , 0.74789916, 0.28846154, 0.2173913 , 0.70212766,\n",
              "          0.18443804],\n",
              "         ...,\n",
              "         [0.75403645, 0.57983193, 0.28846154, 0.86956522, 0.65106383,\n",
              "          0.54755043],\n",
              "         [0.66339345, 0.57983193, 0.28846154, 0.91304348, 0.65106383,\n",
              "          0.47838617],\n",
              "         [0.43678595, 0.57983193, 0.28846154, 1.        , 0.65106383,\n",
              "          0.25936599]],\n",
              " \n",
              "        [[0.11953545, 0.74789916, 0.28846154, 0.08695652, 0.70212766,\n",
              "          0.1556196 ],\n",
              "         [0.11953545, 0.74789916, 0.28846154, 0.17391304, 0.70212766,\n",
              "          0.16714697],\n",
              "         [0.21017845, 0.74789916, 0.28846154, 0.26086957, 0.70212766,\n",
              "          0.27089337],\n",
              "         ...,\n",
              "         [0.71626853, 0.57983193, 0.28846154, 0.86956522, 0.65106383,\n",
              "          0.49567723],\n",
              "         [0.61807195, 0.57983193, 0.28846154, 0.95652174, 0.65106383,\n",
              "          0.3573487 ],\n",
              "         [0.27060712, 0.76890756, 0.30769231, 0.        , 0.57446809,\n",
              "          0.16714697]],\n",
              " \n",
              "        ...,\n",
              " \n",
              "        [[0.49721462, 0.56722689, 0.28846154, 0.91304348, 0.76595745,\n",
              "          0.43227666],\n",
              "         [0.21773204, 0.56722689, 0.28846154, 1.        , 0.76595745,\n",
              "          0.25936599],\n",
              "         [0.20262487, 0.57983193, 0.28846154, 0.04347826, 0.65106383,\n",
              "          0.13256484],\n",
              "         ...,\n",
              "         [0.4594467 , 0.81932773, 0.30769231, 0.7826087 , 0.65531915,\n",
              "          0.40345821],\n",
              "         [0.49721462, 0.81932773, 0.30769231, 0.82608696, 0.65531915,\n",
              "          0.52449568],\n",
              "         [0.71626853, 0.81932773, 0.30769231, 0.86956522, 0.65531915,\n",
              "          0.52449568]],\n",
              " \n",
              "        [[0.35369653, 0.56722689, 0.28846154, 0.95652174, 0.76595745,\n",
              "          0.32276657],\n",
              "         [0.14974979, 0.57983193, 0.28846154, 0.        , 0.65106383,\n",
              "          0.17867435],\n",
              "         [0.11198187, 0.57983193, 0.28846154, 0.08695652, 0.65106383,\n",
              "          0.13256484],\n",
              "         ...,\n",
              "         [0.45189312, 0.81932773, 0.30769231, 0.7826087 , 0.65531915,\n",
              "          0.44380403],\n",
              "         [0.61051836, 0.81932773, 0.30769231, 0.82608696, 0.65531915,\n",
              "          0.5648415 ],\n",
              "         [0.67850061, 0.81932773, 0.30769231, 0.86956522, 0.65531915,\n",
              "          0.49567723]],\n",
              " \n",
              "        [[0.21773204, 0.56722689, 0.28846154, 1.        , 0.76595745,\n",
              "          0.25936599],\n",
              "         [0.20262487, 0.57983193, 0.28846154, 0.04347826, 0.65106383,\n",
              "          0.13256484],\n",
              "         [0.11198187, 0.57983193, 0.28846154, 0.13043478, 0.65106383,\n",
              "          0.13256484],\n",
              "         ...,\n",
              "         [0.49721462, 0.81932773, 0.30769231, 0.82608696, 0.65531915,\n",
              "          0.52449568],\n",
              "         [0.71626853, 0.81932773, 0.30769231, 0.86956522, 0.65531915,\n",
              "          0.52449568],\n",
              "         [0.63317911, 0.81932773, 0.30769231, 0.91304348, 0.65531915,\n",
              "          0.44380403]]]),\n",
              " array([0.27060712, 0.17241054, 0.17996412, 0.17996412, 0.17996412,\n",
              "        0.17996412, 0.24794637, 0.39146445, 0.57275045, 0.4141252 ,\n",
              "        0.44433953, 0.46700028, 0.49721462, 0.4594467 , 0.50236918,\n",
              "        0.5047682 , 0.44433953, 0.42923237, 0.45189312, 0.44433953,\n",
              "        0.44433953, 0.45189312, 0.45189312, 0.4594467 , 0.47455387,\n",
              "        0.51232178, 0.62562553, 0.71626853, 0.64828628, 0.63317911,\n",
              "        0.55764328, 0.4141252 , 0.21773204, 0.17996412, 0.11953545,\n",
              "        0.11953545, 0.11953545, 0.1875177 , 0.26305354, 0.3234822 ,\n",
              "        0.38391087, 0.42167878, 0.48210745, 0.5047682 , 0.5047682 ,\n",
              "        0.46700028, 0.47455387, 0.46700028, 0.4594467 , 0.43678595,\n",
              "        0.45189312, 0.42167878, 0.4141252 , 0.45189312, 0.4594467 ,\n",
              "        0.4594467 , 0.45189312, 0.49721462, 0.61051836, 0.71626853,\n",
              "        0.67850061, 0.63317911, 0.56519687, 0.4141252 ]))"
            ]
          },
          "metadata": {},
          "execution_count": 35
        }
      ],
      "source": [
        "TimeseriesGenerator(features, target , length= 96 , sampling_rate =2 , batch_size=64)[0]"
      ]
    },
    {
      "cell_type": "code",
      "execution_count": 36,
      "metadata": {
        "id": "brIQQE1HnFd0"
      },
      "outputs": [],
      "source": [
        "x_train , x_test , y_train, y_test = train_test_split(features, target, test_size= 0.20 , random_state= 123, shuffle = False)"
      ]
    },
    {
      "cell_type": "code",
      "execution_count": 37,
      "metadata": {
        "id": "YXBeS5bdniq0",
        "colab": {
          "base_uri": "https://localhost:8080/"
        },
        "outputId": "2c494431-a4ca-4453-ad6e-ef8b39e76a03"
      },
      "outputs": [
        {
          "output_type": "execute_result",
          "data": {
            "text/plain": [
              "(37222, 6)"
            ]
          },
          "metadata": {},
          "execution_count": 37
        }
      ],
      "source": [
        "x_train.shape"
      ]
    },
    {
      "cell_type": "code",
      "execution_count": 38,
      "metadata": {
        "id": "JKczuXCKnmUs",
        "colab": {
          "base_uri": "https://localhost:8080/"
        },
        "outputId": "5053459f-4388-4a25-e8bd-b9daa374a2b5"
      },
      "outputs": [
        {
          "output_type": "execute_result",
          "data": {
            "text/plain": [
              "(9306, 6)"
            ]
          },
          "metadata": {},
          "execution_count": 38
        }
      ],
      "source": [
        "x_test.shape"
      ]
    },
    {
      "cell_type": "code",
      "execution_count": 43,
      "metadata": {
        "id": "O6f30y3Fnpek"
      },
      "outputs": [],
      "source": [
        "win_length = 32\n",
        "batch_size =32\n",
        "sr = 1\n",
        "num_features = 6\n",
        "train_generator = TimeseriesGenerator(x_train , y_train, length = win_length , sampling_rate =sr , batch_size = batch_size)\n",
        "test_generator = TimeseriesGenerator(x_test , y_test, length = win_length , sampling_rate =sr , batch_size = batch_size)"
      ]
    },
    {
      "cell_type": "code",
      "execution_count": 44,
      "metadata": {
        "id": "gRuS7Rcyom_I",
        "colab": {
          "base_uri": "https://localhost:8080/"
        },
        "outputId": "28b5f988-468b-4f9d-c508-71d619975f58"
      },
      "outputs": [
        {
          "output_type": "execute_result",
          "data": {
            "text/plain": [
              "(array([[[0.21773204, 0.74789916, 0.28846154, 0.        , 0.70212766,\n",
              "          0.17291066],\n",
              "         [0.15956591, 0.74789916, 0.28846154, 0.04347826, 0.70212766,\n",
              "          0.16138329],\n",
              "         [0.11953545, 0.74789916, 0.28846154, 0.08695652, 0.70212766,\n",
              "          0.1556196 ],\n",
              "         ...,\n",
              "         [0.58030403, 0.74789916, 0.28846154, 0.91304348, 0.70212766,\n",
              "          0.43227666],\n",
              "         [0.51987537, 0.74789916, 0.28846154, 0.95652174, 0.70212766,\n",
              "          0.31700288],\n",
              "         [0.38391087, 0.74789916, 0.28846154, 1.        , 0.70212766,\n",
              "          0.21325648]],\n",
              " \n",
              "        [[0.15956591, 0.74789916, 0.28846154, 0.04347826, 0.70212766,\n",
              "          0.16138329],\n",
              "         [0.11953545, 0.74789916, 0.28846154, 0.08695652, 0.70212766,\n",
              "          0.1556196 ],\n",
              "         [0.11953545, 0.74789916, 0.28846154, 0.13043478, 0.70212766,\n",
              "          0.1556196 ],\n",
              "         ...,\n",
              "         [0.51987537, 0.74789916, 0.28846154, 0.95652174, 0.70212766,\n",
              "          0.31700288],\n",
              "         [0.38391087, 0.74789916, 0.28846154, 1.        , 0.70212766,\n",
              "          0.21325648],\n",
              "         [0.17241054, 0.56722689, 0.28846154, 0.        , 0.76595745,\n",
              "          0.20172911]],\n",
              " \n",
              "        [[0.11953545, 0.74789916, 0.28846154, 0.08695652, 0.70212766,\n",
              "          0.1556196 ],\n",
              "         [0.11953545, 0.74789916, 0.28846154, 0.13043478, 0.70212766,\n",
              "          0.1556196 ],\n",
              "         [0.11953545, 0.74789916, 0.28846154, 0.17391304, 0.70212766,\n",
              "          0.16714697],\n",
              "         ...,\n",
              "         [0.38391087, 0.74789916, 0.28846154, 1.        , 0.70212766,\n",
              "          0.21325648],\n",
              "         [0.17241054, 0.56722689, 0.28846154, 0.        , 0.76595745,\n",
              "          0.20172911],\n",
              "         [0.13086583, 0.56722689, 0.28846154, 0.04347826, 0.76595745,\n",
              "          0.16714697]],\n",
              " \n",
              "        ...,\n",
              " \n",
              "        [[0.58030403, 0.74789916, 0.28846154, 0.91304348, 0.70212766,\n",
              "          0.43227666],\n",
              "         [0.51987537, 0.74789916, 0.28846154, 0.95652174, 0.70212766,\n",
              "          0.31700288],\n",
              "         [0.38391087, 0.74789916, 0.28846154, 1.        , 0.70212766,\n",
              "          0.21325648],\n",
              "         ...,\n",
              "         [0.56519687, 0.56722689, 0.28846154, 0.82608696, 0.76595745,\n",
              "          0.47262248],\n",
              "         [0.6407327 , 0.56722689, 0.28846154, 0.86956522, 0.76595745,\n",
              "          0.5129683 ],\n",
              "         [0.60296478, 0.56722689, 0.28846154, 0.86956522, 0.76595745,\n",
              "          0.47838617]],\n",
              " \n",
              "        [[0.51987537, 0.74789916, 0.28846154, 0.95652174, 0.70212766,\n",
              "          0.31700288],\n",
              "         [0.38391087, 0.74789916, 0.28846154, 1.        , 0.70212766,\n",
              "          0.21325648],\n",
              "         [0.17241054, 0.56722689, 0.28846154, 0.        , 0.76595745,\n",
              "          0.20172911],\n",
              "         ...,\n",
              "         [0.6407327 , 0.56722689, 0.28846154, 0.86956522, 0.76595745,\n",
              "          0.5129683 ],\n",
              "         [0.60296478, 0.56722689, 0.28846154, 0.86956522, 0.76595745,\n",
              "          0.47838617],\n",
              "         [0.49721462, 0.56722689, 0.28846154, 0.91304348, 0.76595745,\n",
              "          0.43227666]],\n",
              " \n",
              "        [[0.38391087, 0.74789916, 0.28846154, 1.        , 0.70212766,\n",
              "          0.21325648],\n",
              "         [0.17241054, 0.56722689, 0.28846154, 0.        , 0.76595745,\n",
              "          0.20172911],\n",
              "         [0.13086583, 0.56722689, 0.28846154, 0.04347826, 0.76595745,\n",
              "          0.16714697],\n",
              "         ...,\n",
              "         [0.60296478, 0.56722689, 0.28846154, 0.86956522, 0.76595745,\n",
              "          0.47838617],\n",
              "         [0.49721462, 0.56722689, 0.28846154, 0.91304348, 0.76595745,\n",
              "          0.43227666],\n",
              "         [0.35369653, 0.56722689, 0.28846154, 0.95652174, 0.76595745,\n",
              "          0.32276657]]]),\n",
              " array([0.17241054, 0.13086583, 0.16485695, 0.16485695, 0.16485695,\n",
              "        0.17241054, 0.17241054, 0.25549995, 0.30837504, 0.35369653,\n",
              "        0.39901803, 0.43678595, 0.46700028, 0.50236918, 0.52742895,\n",
              "        0.5047682 , 0.44433953, 0.38391087, 0.36125012, 0.33858937,\n",
              "        0.35369653, 0.33858937, 0.35369653, 0.33858937, 0.34614295,\n",
              "        0.4141252 , 0.56519687, 0.6407327 , 0.60296478, 0.49721462,\n",
              "        0.35369653, 0.21773204]))"
            ]
          },
          "metadata": {},
          "execution_count": 44
        }
      ],
      "source": [
        "train_generator[0]"
      ]
    },
    {
      "cell_type": "code",
      "execution_count": null,
      "metadata": {
        "id": "2cZEii9FpNDy"
      },
      "outputs": [],
      "source": [
        "model = tf.keras.Sequential()\n",
        "model.add(tf.keras.layers.Bidirectional(tf.keras.layers.LSTM(128, input_shape = (win_length, num_features), return_sequences =True)))\n",
        "model.add(tf.keras.layers.Bidirectional(tf.keras.layers.LSTM(128, return_sequences= True)))\n",
        "model.add(tf.keras.layers.Bidirectional(tf.keras.layers.LSTM(64, return_sequences= False)))\n",
        "model.add(tf.keras.layers.Dropout(0.3))\n",
        "model.add(tf.keras.layers.Dense(1))"
      ]
    },
    {
      "cell_type": "code",
      "execution_count": null,
      "metadata": {
        "id": "SYG6e3EkqSre"
      },
      "outputs": [],
      "source": [
        "from tensorflow.python import losses\n",
        "early_Stopping = tf.keras.callbacks.EarlyStopping(monitor = 'val_loss',\n",
        "                                                  patience =10, \n",
        "                                                  mode ='min')\n",
        "model.compile(loss= tf.losses.MeanSquaredError(), \n",
        "              optimizer = tf.optimizers.Adamax(),\n",
        "                             metrics=[tf.keras.metrics.BinaryAccuracy(),\n",
        "                       tf.keras.metrics.FalseNegatives()],\n",
        "              metrics = [tf.metrics.MeanAbsoluteError()] )\n",
        "\n",
        "history = model.fit_generator(train_generator, epochs = 50,\n",
        "                              validation_data = test_generator,\n",
        "                              shuffle = False,\n",
        "                              callbacks= [early_Stopping])"
      ]
    },
    {
      "cell_type": "code",
      "execution_count": null,
      "metadata": {
        "id": "JWcIu94Or_fd"
      },
      "outputs": [],
      "source": [
        "model.evaluate_generator(test_generator, verbose =0)"
      ]
    },
    {
      "cell_type": "code",
      "execution_count": null,
      "metadata": {
        "id": "eXfsjsgJsHIF"
      },
      "outputs": [],
      "source": [
        "predictions = model.predict_generator(test_generator)"
      ]
    },
    {
      "cell_type": "code",
      "execution_count": null,
      "metadata": {
        "id": "lZhVnXTX0mG5"
      },
      "outputs": [],
      "source": [
        "predictions.shape[0]"
      ]
    },
    {
      "cell_type": "code",
      "execution_count": null,
      "metadata": {
        "id": "D8gg10Fk0zXZ"
      },
      "outputs": [],
      "source": [
        "predictions"
      ]
    },
    {
      "cell_type": "code",
      "execution_count": null,
      "metadata": {
        "id": "TICW59-k07M5"
      },
      "outputs": [],
      "source": [
        "y_test"
      ]
    },
    {
      "cell_type": "code",
      "execution_count": null,
      "metadata": {
        "id": "Msk-7SFH09ry"
      },
      "outputs": [],
      "source": [
        "x_test"
      ]
    },
    {
      "cell_type": "code",
      "execution_count": null,
      "metadata": {
        "id": "TxhG7UL20_8i"
      },
      "outputs": [],
      "source": [
        "x_test[:,1:][win_length:]"
      ]
    },
    {
      "cell_type": "code",
      "execution_count": null,
      "metadata": {
        "id": "A7_WNHz3t2tv"
      },
      "outputs": [],
      "source": [
        "df_pred = pd.concat([pd.DataFrame(predictions), pd.DataFrame(x_test[:,1:][win_length:])],axis = 1)"
      ]
    },
    {
      "cell_type": "code",
      "execution_count": null,
      "metadata": {
        "id": "QiPCl8KOuQXS"
      },
      "outputs": [],
      "source": [
        "rev_trans = scaler.inverse_transform(df_pred)"
      ]
    },
    {
      "cell_type": "code",
      "execution_count": null,
      "metadata": {
        "id": "RFAnagHhuX3J"
      },
      "outputs": [],
      "source": [
        "rev_trans"
      ]
    },
    {
      "cell_type": "code",
      "execution_count": null,
      "metadata": {
        "id": "3v9tfCUgudzq"
      },
      "outputs": [],
      "source": [
        "df_final = df_input[predictions.shape[0]*-1:]"
      ]
    },
    {
      "cell_type": "code",
      "execution_count": null,
      "metadata": {
        "id": "Oo85XkGMuuaD"
      },
      "outputs": [],
      "source": [
        "df_final.count()"
      ]
    },
    {
      "cell_type": "code",
      "execution_count": null,
      "metadata": {
        "id": "dqqZP4Tduyk6"
      },
      "outputs": [],
      "source": [
        "df_final['App_Pred']= rev_trans[:,0]"
      ]
    },
    {
      "cell_type": "code",
      "execution_count": null,
      "metadata": {
        "id": "peRfwUH1u-Lk"
      },
      "outputs": [],
      "source": [
        "df_final"
      ]
    },
    {
      "cell_type": "code",
      "execution_count": null,
      "metadata": {
        "id": "239eOICrv6Q1"
      },
      "outputs": [],
      "source": [
        "fig = plt.figure(figsize=(20, 7))\n",
        "df_final[['kVA','App_Pred']].plot(figsize=(20, 7))"
      ]
    },
    {
      "cell_type": "code",
      "execution_count": null,
      "metadata": {
        "id": "ALbV6dBALQ2I"
      },
      "outputs": [],
      "source": [
        "plt.plot(history.history['loss'])\n",
        "plt.plot(history.history['val_loss'])\n",
        "plt.title('model loss')\n",
        "plt.ylabel('loss')\n",
        "plt.xlabel('epoch')\n",
        "plt.legend(['train', 'val'], loc='upper left')\n",
        "plt.show()"
      ]
    },
    {
      "cell_type": "code",
      "execution_count": null,
      "metadata": {
        "id": "ze39M-OXyRle"
      },
      "outputs": [],
      "source": [
        "df_final.to_csv('BiLSTM3hiddenlayerMax.csv', index=False)"
      ]
    },
    {
      "cell_type": "code",
      "execution_count": null,
      "metadata": {
        "id": "mv7oTHKuIm2s"
      },
      "outputs": [],
      "source": [
        "import math\n",
        "from sklearn.metrics import mean_squared_error\n",
        "from sklearn.metrics import mean_absolute_error , mean_absolute_percentage_error\n",
        "rmse=math.sqrt(mean_squared_error(df_final['kVA'], df_final['App_Pred']))\n",
        "# calculate mean absolute error\n",
        "mae = mean_absolute_error(df_final['kVA'], df_final['App_Pred'])\n",
        "print(\"Mean Absolute Error:\", mae)\n",
        "print(\"Root Mean Squared Error:\", rmse)\n",
        "print(\"MAPE:\", mean_absolute_percentage_error(df_final['kVA'], df_final['App_Pred'])*100, \"%\")"
      ]
    }
  ],
  "metadata": {
    "accelerator": "GPU",
    "colab": {
      "provenance": []
    },
    "gpuClass": "standard",
    "kernelspec": {
      "display_name": "Python 3",
      "name": "python3"
    },
    "language_info": {
      "name": "python"
    }
  },
  "nbformat": 4,
  "nbformat_minor": 0
}