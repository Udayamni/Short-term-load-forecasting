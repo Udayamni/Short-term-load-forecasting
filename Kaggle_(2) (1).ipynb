{
  "cells": [
    {
      "cell_type": "code",
      "execution_count": null,
      "metadata": {
        "id": "8CusTQnDWD40"
      },
      "outputs": [],
      "source": [
        "import pandas as pd\n",
        "import matplotlib as mpl\n",
        "from sklearn.model_selection import train_test_split\n",
        "from keras.preprocessing.sequence import TimeseriesGenerator\n",
        "from sklearn.preprocessing import MinMaxScaler, StandardScaler\n",
        "import tensorflow as tf\n",
        "import seaborn as sns\n",
        "from matplotlib import style\n",
        "from sklearn.model_selection import KFold\n",
        "from sklearn.metrics import accuracy_score\n",
        "import seaborn as sns\n",
        "import matplotlib.pyplot as plt\n",
        "\n",
        "mpl.rcParams['figure.figsize']= (10,8)\n",
        "mpl.rcParams['axes.grid']= False"
      ]
    },
    {
      "cell_type": "code",
      "execution_count": null,
      "metadata": {
        "id": "p98iePcqJFfC"
      },
      "outputs": [],
      "source": [
        "df=pd.read_csv('/content/train_dataframes.csv')"
      ]
    },
    {
      "cell_type": "code",
      "execution_count": null,
      "metadata": {
        "id": "5BEd0kJAf8HY"
      },
      "outputs": [],
      "source": [
        "#df = pd.read_csv('/content/Dataset_2.2.csv')"
      ]
    },
    {
      "cell_type": "code",
      "execution_count": null,
      "metadata": {
        "id": "78cCdc4iiVGM",
        "colab": {
          "base_uri": "https://localhost:8080/"
        },
        "outputId": "18af8ea8-4c59-4763-8d87-d8149fadde2c"
      },
      "outputs": [
        {
          "output_type": "stream",
          "name": "stdout",
          "text": [
            "<class 'pandas.core.frame.DataFrame'>\n",
            "RangeIndex: 39072 entries, 0 to 39071\n",
            "Data columns (total 12 columns):\n",
            " #   Column      Non-Null Count  Dtype  \n",
            "---  ------      --------------  -----  \n",
            " 0   datetime    39072 non-null  object \n",
            " 1   DEMAND      39072 non-null  float64\n",
            " 2   week_X-2    39072 non-null  float64\n",
            " 3   week_X-3    39072 non-null  float64\n",
            " 4   week_X-4    39072 non-null  float64\n",
            " 5   MA_X-4      39072 non-null  float64\n",
            " 6   dayOfWeek   39072 non-null  int64  \n",
            " 7   weekend     39072 non-null  int64  \n",
            " 8   holiday     39072 non-null  int64  \n",
            " 9   Holiday_ID  39072 non-null  int64  \n",
            " 10  hourOfDay   39072 non-null  int64  \n",
            " 11  T2M_toc     39072 non-null  float64\n",
            "dtypes: float64(6), int64(5), object(1)\n",
            "memory usage: 3.6+ MB\n"
          ]
        }
      ],
      "source": [
        "df.info()"
      ]
    },
    {
      "cell_type": "code",
      "execution_count": null,
      "metadata": {
        "id": "R7SUkhFjjJy0"
      },
      "outputs": [],
      "source": [
        "df['date'] = pd.to_datetime(df['datetime'], infer_datetime_format = True)  "
      ]
    },
    {
      "cell_type": "code",
      "execution_count": null,
      "metadata": {
        "id": "B9pYB0PtQLv7",
        "colab": {
          "base_uri": "https://localhost:8080/",
          "height": 556
        },
        "outputId": "bc59df5d-be53-4c53-c4c8-10da28fd98e5"
      },
      "outputs": [
        {
          "output_type": "stream",
          "name": "stderr",
          "text": [
            "<ipython-input-6-799103cc83e7>:7: FutureWarning: Series.dt.weekofyear and Series.dt.week have been deprecated.  Please use Series.dt.isocalendar().week instead.\n",
            "  dataset[\"Week\"] = pd.to_datetime(df[\"datetime\"]).dt.week\n"
          ]
        },
        {
          "output_type": "execute_result",
          "data": {
            "text/plain": [
              "                       DEMAND  week_X-2  week_X-3  week_X-4      MA_X-4  \\\n",
              "datetime                                                                  \n",
              "2015-01-31 01:00:00  954.2018  962.2865  906.9580  970.3450  938.004850   \n",
              "2015-01-31 02:00:00  913.8660  933.3221  863.5135  912.1755  900.284075   \n",
              "2015-01-31 03:00:00  903.3637  903.9817  848.4447  900.2688  881.704325   \n",
              "2015-01-31 04:00:00  889.0806  900.9995  839.8821  889.9538  876.458825   \n",
              "2015-01-31 05:00:00  910.1472  904.3481  847.1073  893.6865  879.190775   \n",
              "\n",
              "                     dayOfWeek  weekend  holiday  Holiday_ID  hourOfDay  ...  \\\n",
              "datetime                                                                 ...   \n",
              "2015-01-31 01:00:00          1        1        0           0          1  ...   \n",
              "2015-01-31 02:00:00          1        1        0           0          2  ...   \n",
              "2015-01-31 03:00:00          1        1        0           0          3  ...   \n",
              "2015-01-31 04:00:00          1        1        0           0          4  ...   \n",
              "2015-01-31 05:00:00          1        1        0           0          5  ...   \n",
              "\n",
              "                                   date Month  Year        Date      Time  \\\n",
              "datetime                                                                    \n",
              "2015-01-31 01:00:00 2015-01-31 01:00:00     1  2015  2015-01-31  01:00:00   \n",
              "2015-01-31 02:00:00 2015-01-31 02:00:00     1  2015  2015-01-31  02:00:00   \n",
              "2015-01-31 03:00:00 2015-01-31 03:00:00     1  2015  2015-01-31  03:00:00   \n",
              "2015-01-31 04:00:00 2015-01-31 04:00:00     1  2015  2015-01-31  04:00:00   \n",
              "2015-01-31 05:00:00 2015-01-31 05:00:00     1  2015  2015-01-31  05:00:00   \n",
              "\n",
              "                    Week  Hour  day           timestamp day_of_week  \n",
              "datetime                                                             \n",
              "2015-01-31 01:00:00    5     1   31 2015-01-31 01:00:00           7  \n",
              "2015-01-31 02:00:00    5     2   31 2015-01-31 02:00:00           7  \n",
              "2015-01-31 03:00:00    5     3   31 2015-01-31 03:00:00           7  \n",
              "2015-01-31 04:00:00    5     4   31 2015-01-31 04:00:00           7  \n",
              "2015-01-31 05:00:00    5     5   31 2015-01-31 05:00:00           7  \n",
              "\n",
              "[5 rows x 21 columns]"
            ],
            "text/html": [
              "\n",
              "  <div id=\"df-e6de3f80-6302-4bd4-ad37-2371a9861057\">\n",
              "    <div class=\"colab-df-container\">\n",
              "      <div>\n",
              "<style scoped>\n",
              "    .dataframe tbody tr th:only-of-type {\n",
              "        vertical-align: middle;\n",
              "    }\n",
              "\n",
              "    .dataframe tbody tr th {\n",
              "        vertical-align: top;\n",
              "    }\n",
              "\n",
              "    .dataframe thead th {\n",
              "        text-align: right;\n",
              "    }\n",
              "</style>\n",
              "<table border=\"1\" class=\"dataframe\">\n",
              "  <thead>\n",
              "    <tr style=\"text-align: right;\">\n",
              "      <th></th>\n",
              "      <th>DEMAND</th>\n",
              "      <th>week_X-2</th>\n",
              "      <th>week_X-3</th>\n",
              "      <th>week_X-4</th>\n",
              "      <th>MA_X-4</th>\n",
              "      <th>dayOfWeek</th>\n",
              "      <th>weekend</th>\n",
              "      <th>holiday</th>\n",
              "      <th>Holiday_ID</th>\n",
              "      <th>hourOfDay</th>\n",
              "      <th>...</th>\n",
              "      <th>date</th>\n",
              "      <th>Month</th>\n",
              "      <th>Year</th>\n",
              "      <th>Date</th>\n",
              "      <th>Time</th>\n",
              "      <th>Week</th>\n",
              "      <th>Hour</th>\n",
              "      <th>day</th>\n",
              "      <th>timestamp</th>\n",
              "      <th>day_of_week</th>\n",
              "    </tr>\n",
              "    <tr>\n",
              "      <th>datetime</th>\n",
              "      <th></th>\n",
              "      <th></th>\n",
              "      <th></th>\n",
              "      <th></th>\n",
              "      <th></th>\n",
              "      <th></th>\n",
              "      <th></th>\n",
              "      <th></th>\n",
              "      <th></th>\n",
              "      <th></th>\n",
              "      <th></th>\n",
              "      <th></th>\n",
              "      <th></th>\n",
              "      <th></th>\n",
              "      <th></th>\n",
              "      <th></th>\n",
              "      <th></th>\n",
              "      <th></th>\n",
              "      <th></th>\n",
              "      <th></th>\n",
              "      <th></th>\n",
              "    </tr>\n",
              "  </thead>\n",
              "  <tbody>\n",
              "    <tr>\n",
              "      <th>2015-01-31 01:00:00</th>\n",
              "      <td>954.2018</td>\n",
              "      <td>962.2865</td>\n",
              "      <td>906.9580</td>\n",
              "      <td>970.3450</td>\n",
              "      <td>938.004850</td>\n",
              "      <td>1</td>\n",
              "      <td>1</td>\n",
              "      <td>0</td>\n",
              "      <td>0</td>\n",
              "      <td>1</td>\n",
              "      <td>...</td>\n",
              "      <td>2015-01-31 01:00:00</td>\n",
              "      <td>1</td>\n",
              "      <td>2015</td>\n",
              "      <td>2015-01-31</td>\n",
              "      <td>01:00:00</td>\n",
              "      <td>5</td>\n",
              "      <td>1</td>\n",
              "      <td>31</td>\n",
              "      <td>2015-01-31 01:00:00</td>\n",
              "      <td>7</td>\n",
              "    </tr>\n",
              "    <tr>\n",
              "      <th>2015-01-31 02:00:00</th>\n",
              "      <td>913.8660</td>\n",
              "      <td>933.3221</td>\n",
              "      <td>863.5135</td>\n",
              "      <td>912.1755</td>\n",
              "      <td>900.284075</td>\n",
              "      <td>1</td>\n",
              "      <td>1</td>\n",
              "      <td>0</td>\n",
              "      <td>0</td>\n",
              "      <td>2</td>\n",
              "      <td>...</td>\n",
              "      <td>2015-01-31 02:00:00</td>\n",
              "      <td>1</td>\n",
              "      <td>2015</td>\n",
              "      <td>2015-01-31</td>\n",
              "      <td>02:00:00</td>\n",
              "      <td>5</td>\n",
              "      <td>2</td>\n",
              "      <td>31</td>\n",
              "      <td>2015-01-31 02:00:00</td>\n",
              "      <td>7</td>\n",
              "    </tr>\n",
              "    <tr>\n",
              "      <th>2015-01-31 03:00:00</th>\n",
              "      <td>903.3637</td>\n",
              "      <td>903.9817</td>\n",
              "      <td>848.4447</td>\n",
              "      <td>900.2688</td>\n",
              "      <td>881.704325</td>\n",
              "      <td>1</td>\n",
              "      <td>1</td>\n",
              "      <td>0</td>\n",
              "      <td>0</td>\n",
              "      <td>3</td>\n",
              "      <td>...</td>\n",
              "      <td>2015-01-31 03:00:00</td>\n",
              "      <td>1</td>\n",
              "      <td>2015</td>\n",
              "      <td>2015-01-31</td>\n",
              "      <td>03:00:00</td>\n",
              "      <td>5</td>\n",
              "      <td>3</td>\n",
              "      <td>31</td>\n",
              "      <td>2015-01-31 03:00:00</td>\n",
              "      <td>7</td>\n",
              "    </tr>\n",
              "    <tr>\n",
              "      <th>2015-01-31 04:00:00</th>\n",
              "      <td>889.0806</td>\n",
              "      <td>900.9995</td>\n",
              "      <td>839.8821</td>\n",
              "      <td>889.9538</td>\n",
              "      <td>876.458825</td>\n",
              "      <td>1</td>\n",
              "      <td>1</td>\n",
              "      <td>0</td>\n",
              "      <td>0</td>\n",
              "      <td>4</td>\n",
              "      <td>...</td>\n",
              "      <td>2015-01-31 04:00:00</td>\n",
              "      <td>1</td>\n",
              "      <td>2015</td>\n",
              "      <td>2015-01-31</td>\n",
              "      <td>04:00:00</td>\n",
              "      <td>5</td>\n",
              "      <td>4</td>\n",
              "      <td>31</td>\n",
              "      <td>2015-01-31 04:00:00</td>\n",
              "      <td>7</td>\n",
              "    </tr>\n",
              "    <tr>\n",
              "      <th>2015-01-31 05:00:00</th>\n",
              "      <td>910.1472</td>\n",
              "      <td>904.3481</td>\n",
              "      <td>847.1073</td>\n",
              "      <td>893.6865</td>\n",
              "      <td>879.190775</td>\n",
              "      <td>1</td>\n",
              "      <td>1</td>\n",
              "      <td>0</td>\n",
              "      <td>0</td>\n",
              "      <td>5</td>\n",
              "      <td>...</td>\n",
              "      <td>2015-01-31 05:00:00</td>\n",
              "      <td>1</td>\n",
              "      <td>2015</td>\n",
              "      <td>2015-01-31</td>\n",
              "      <td>05:00:00</td>\n",
              "      <td>5</td>\n",
              "      <td>5</td>\n",
              "      <td>31</td>\n",
              "      <td>2015-01-31 05:00:00</td>\n",
              "      <td>7</td>\n",
              "    </tr>\n",
              "  </tbody>\n",
              "</table>\n",
              "<p>5 rows × 21 columns</p>\n",
              "</div>\n",
              "      <button class=\"colab-df-convert\" onclick=\"convertToInteractive('df-e6de3f80-6302-4bd4-ad37-2371a9861057')\"\n",
              "              title=\"Convert this dataframe to an interactive table.\"\n",
              "              style=\"display:none;\">\n",
              "        \n",
              "  <svg xmlns=\"http://www.w3.org/2000/svg\" height=\"24px\"viewBox=\"0 0 24 24\"\n",
              "       width=\"24px\">\n",
              "    <path d=\"M0 0h24v24H0V0z\" fill=\"none\"/>\n",
              "    <path d=\"M18.56 5.44l.94 2.06.94-2.06 2.06-.94-2.06-.94-.94-2.06-.94 2.06-2.06.94zm-11 1L8.5 8.5l.94-2.06 2.06-.94-2.06-.94L8.5 2.5l-.94 2.06-2.06.94zm10 10l.94 2.06.94-2.06 2.06-.94-2.06-.94-.94-2.06-.94 2.06-2.06.94z\"/><path d=\"M17.41 7.96l-1.37-1.37c-.4-.4-.92-.59-1.43-.59-.52 0-1.04.2-1.43.59L10.3 9.45l-7.72 7.72c-.78.78-.78 2.05 0 2.83L4 21.41c.39.39.9.59 1.41.59.51 0 1.02-.2 1.41-.59l7.78-7.78 2.81-2.81c.8-.78.8-2.07 0-2.86zM5.41 20L4 18.59l7.72-7.72 1.47 1.35L5.41 20z\"/>\n",
              "  </svg>\n",
              "      </button>\n",
              "      \n",
              "  <style>\n",
              "    .colab-df-container {\n",
              "      display:flex;\n",
              "      flex-wrap:wrap;\n",
              "      gap: 12px;\n",
              "    }\n",
              "\n",
              "    .colab-df-convert {\n",
              "      background-color: #E8F0FE;\n",
              "      border: none;\n",
              "      border-radius: 50%;\n",
              "      cursor: pointer;\n",
              "      display: none;\n",
              "      fill: #1967D2;\n",
              "      height: 32px;\n",
              "      padding: 0 0 0 0;\n",
              "      width: 32px;\n",
              "    }\n",
              "\n",
              "    .colab-df-convert:hover {\n",
              "      background-color: #E2EBFA;\n",
              "      box-shadow: 0px 1px 2px rgba(60, 64, 67, 0.3), 0px 1px 3px 1px rgba(60, 64, 67, 0.15);\n",
              "      fill: #174EA6;\n",
              "    }\n",
              "\n",
              "    [theme=dark] .colab-df-convert {\n",
              "      background-color: #3B4455;\n",
              "      fill: #D2E3FC;\n",
              "    }\n",
              "\n",
              "    [theme=dark] .colab-df-convert:hover {\n",
              "      background-color: #434B5C;\n",
              "      box-shadow: 0px 1px 3px 1px rgba(0, 0, 0, 0.15);\n",
              "      filter: drop-shadow(0px 1px 2px rgba(0, 0, 0, 0.3));\n",
              "      fill: #FFFFFF;\n",
              "    }\n",
              "  </style>\n",
              "\n",
              "      <script>\n",
              "        const buttonEl =\n",
              "          document.querySelector('#df-e6de3f80-6302-4bd4-ad37-2371a9861057 button.colab-df-convert');\n",
              "        buttonEl.style.display =\n",
              "          google.colab.kernel.accessAllowed ? 'block' : 'none';\n",
              "\n",
              "        async function convertToInteractive(key) {\n",
              "          const element = document.querySelector('#df-e6de3f80-6302-4bd4-ad37-2371a9861057');\n",
              "          const dataTable =\n",
              "            await google.colab.kernel.invokeFunction('convertToInteractive',\n",
              "                                                     [key], {});\n",
              "          if (!dataTable) return;\n",
              "\n",
              "          const docLinkHtml = 'Like what you see? Visit the ' +\n",
              "            '<a target=\"_blank\" href=https://colab.research.google.com/notebooks/data_table.ipynb>data table notebook</a>'\n",
              "            + ' to learn more about interactive tables.';\n",
              "          element.innerHTML = '';\n",
              "          dataTable['output_type'] = 'display_data';\n",
              "          await google.colab.output.renderOutput(dataTable, element);\n",
              "          const docLink = document.createElement('div');\n",
              "          docLink.innerHTML = docLinkHtml;\n",
              "          element.appendChild(docLink);\n",
              "        }\n",
              "      </script>\n",
              "    </div>\n",
              "  </div>\n",
              "  "
            ]
          },
          "metadata": {},
          "execution_count": 6
        }
      ],
      "source": [
        "#extracting date and time\n",
        "dataset = df\n",
        "dataset[\"Month\"] = pd.to_datetime(df[\"datetime\"]).dt.month\n",
        "dataset[\"Year\"] = pd.to_datetime(df[\"datetime\"]).dt.year\n",
        "dataset[\"Date\"] = pd.to_datetime(df[\"datetime\"]).dt.date\n",
        "dataset[\"Time\"] = pd.to_datetime(df[\"datetime\"]).dt.time\n",
        "dataset[\"Week\"] = pd.to_datetime(df[\"datetime\"]).dt.week\n",
        "dataset[\"Hour\"] = pd.to_datetime(df[\"datetime\"]).dt.hour\n",
        "dataset[\"day\"] = pd.to_datetime(df[\"datetime\"]).dt.day\n",
        "dataset['timestamp'] = pd.to_datetime(df['datetime'])\n",
        "\n",
        "# Create a dictionary to map the days of the week to numerical values\n",
        "day_map = {\n",
        "    'Sunday': 1,\n",
        "    'Monday': 2,\n",
        "    'Tuesday': 3,\n",
        "    'Wednesday': 4,\n",
        "    'Thursday': 5,\n",
        "    'Friday': 6,\n",
        "    'Saturday': 7\n",
        "}\n",
        "\n",
        "# Extract the day of the week from the timestamp column and map it to a numerical value\n",
        "df['day_of_week'] = df['timestamp'].dt.day_name().map(day_map)\n",
        "dataset = df.set_index(\"datetime\")\n",
        "dataset.index = pd.to_datetime(dataset.index)\n",
        "dataset.head(5)"
      ]
    },
    {
      "cell_type": "code",
      "execution_count": null,
      "metadata": {
        "id": "qzNFPbWxjk-N",
        "colab": {
          "base_uri": "https://localhost:8080/",
          "height": 532
        },
        "outputId": "1378f743-de16-40a2-df78-e48cd510a315"
      },
      "outputs": [
        {
          "output_type": "execute_result",
          "data": {
            "text/plain": [
              "array([<AxesSubplot:xlabel='date'>, <AxesSubplot:xlabel='date'>],\n",
              "      dtype=object)"
            ]
          },
          "metadata": {},
          "execution_count": 7
        },
        {
          "output_type": "display_data",
          "data": {
            "text/plain": [
              "<Figure size 720x576 with 2 Axes>"
            ],
            "image/png": "[encoded data removed]"
          },
          "metadata": {
            "needs_background": "light"
          }
        }
      ],
      "source": [
        "df.set_index('date')[['T2M_toc','DEMAND']].plot(subplots = True)"
      ]
    },
    {
      "cell_type": "code",
      "execution_count": null,
      "metadata": {
        "id": "a02sICnJKxCr"
      },
      "outputs": [],
      "source": [
        "result = df\n",
        "#result = df.loc[df['Value'] == 0]\n",
        "new_kva = df['DEMAND']\n",
        "new_kva.replace(to_replace = 0, value = new_kva.std(), inplace=True)"
      ]
    },
    {
      "cell_type": "code",
      "execution_count": null,
      "metadata": {
        "id": "sEXzXkhEMqg2"
      },
      "outputs": [],
      "source": [
        "df_input = result"
      ]
    },
    {
      "cell_type": "code",
      "execution_count": null,
      "metadata": {
        "id": "r8URsWrBkRaY"
      },
      "outputs": [],
      "source": [
        "df_input = result[['DEMAND','T2M_toc', 'Hour','week_X-4','week_X-3','week_X-2','weekend','holiday']]"
      ]
    },
    {
      "cell_type": "code",
      "execution_count": null,
      "metadata": {
        "id": "5X0T1rZhs3Mz"
      },
      "outputs": [],
      "source": [
        "q3 = df_input['DEMAND'].quantile(0.75)\n",
        "iqr = df_input['DEMAND'].quantile(0.75) - df_input['DEMAND'].quantile(0.25)\n",
        "threshold = q3 + 1.5 * iqr"
      ]
    },
    {
      "cell_type": "code",
      "execution_count": null,
      "metadata": {
        "id": "iZfqIldLUNfi"
      },
      "outputs": [],
      "source": [
        "q1 = df_input['DEMAND'].quantile(0.25)\n",
        "iqr = df_input['DEMAND'].quantile(0.75) - df_input['DEMAND'].quantile(0.25)\n",
        "thresholdL = q1 - 1 * iqr"
      ]
    },
    {
      "cell_type": "code",
      "execution_count": null,
      "metadata": {
        "id": "NKjXyXKyUpcH",
        "colab": {
          "base_uri": "https://localhost:8080/"
        },
        "outputId": "ed7133f0-75b1-400b-ff16-b6329a8de005"
      },
      "outputs": [
        {
          "output_type": "execute_result",
          "data": {
            "text/plain": [
              "(314.82040000000006, 1012.635925)"
            ]
          },
          "metadata": {},
          "execution_count": 13
        }
      ],
      "source": [
        "iqr,q1"
      ]
    },
    {
      "cell_type": "code",
      "execution_count": null,
      "metadata": {
        "id": "wTCt6kE4iSVG",
        "colab": {
          "base_uri": "https://localhost:8080/"
        },
        "outputId": "a8ba2fab-3143-4d00-e8c9-e2d1bf4f7e3e"
      },
      "outputs": [
        {
          "output_type": "execute_result",
          "data": {
            "text/plain": [
              "1799.6869250000002"
            ]
          },
          "metadata": {},
          "execution_count": 14
        }
      ],
      "source": [
        "threshold"
      ]
    },
    {
      "cell_type": "code",
      "execution_count": null,
      "metadata": {
        "id": "HxzMVFoyI-Ds",
        "colab": {
          "base_uri": "https://localhost:8080/"
        },
        "outputId": "8ea2dabf-5702-4601-a088-1268c60244c4"
      },
      "outputs": [
        {
          "output_type": "stream",
          "name": "stderr",
          "text": [
            "<ipython-input-15-a96fdbc66ec3>:1: SettingWithCopyWarning: \n",
            "A value is trying to be set on a copy of a slice from a DataFrame.\n",
            "Try using .loc[row_indexer,col_indexer] = value instead\n",
            "\n",
            "See the caveats in the documentation: https://pandas.pydata.org/pandas-docs/stable/user_guide/indexing.html#returning-a-view-versus-a-copy\n",
            "  df_input['DEMAND'] = df_input['DEMAND'].clip(upper=threshold)\n",
            "<ipython-input-15-a96fdbc66ec3>:2: SettingWithCopyWarning: \n",
            "A value is trying to be set on a copy of a slice from a DataFrame.\n",
            "Try using .loc[row_indexer,col_indexer] = value instead\n",
            "\n",
            "See the caveats in the documentation: https://pandas.pydata.org/pandas-docs/stable/user_guide/indexing.html#returning-a-view-versus-a-copy\n",
            "  df_input['DEMAND'] = df_input['DEMAND'].clip(lower=thresholdL)\n"
          ]
        }
      ],
      "source": [
        "df_input['DEMAND'] = df_input['DEMAND'].clip(upper=threshold)\n",
        "df_input['DEMAND'] = df_input['DEMAND'].clip(lower=thresholdL)"
      ]
    },
    {
      "cell_type": "code",
      "execution_count": null,
      "metadata": {
        "id": "E-HHP9xZUkME",
        "colab": {
          "base_uri": "https://localhost:8080/"
        },
        "outputId": "9ed21303-aeee-4453-8150-f802dae0b6a9"
      },
      "outputs": [
        {
          "output_type": "execute_result",
          "data": {
            "text/plain": [
              "697.815525"
            ]
          },
          "metadata": {},
          "execution_count": 16
        }
      ],
      "source": [
        "thresholdL"
      ]
    },
    {
      "cell_type": "code",
      "execution_count": null,
      "metadata": {
        "id": "5rM2GIo4kiWB",
        "colab": {
          "base_uri": "https://localhost:8080/",
          "height": 423
        },
        "outputId": "828b03a4-d181-42b9-e0af-34be85f98311"
      },
      "outputs": [
        {
          "output_type": "execute_result",
          "data": {
            "text/plain": [
              "          DEMAND    T2M_toc  Hour   week_X-4   week_X-3   week_X-2  weekend  \\\n",
              "0       954.2018  25.308496     1   970.3450   906.9580   962.2865        1   \n",
              "1       913.8660  25.141443     2   912.1755   863.5135   933.3221        1   \n",
              "2       903.3637  25.006738     3   900.2688   848.4447   903.9817        1   \n",
              "3       889.0806  24.899713     4   889.9538   839.8821   900.9995        1   \n",
              "4       910.1472  24.821558     5   893.6865   847.1073   904.3481        1   \n",
              "...          ...        ...   ...        ...        ...        ...      ...   \n",
              "39067  1328.6012  26.826990    20  1513.6304  1252.4212  1328.7539        0   \n",
              "39068  1305.1523  26.533838    21  1468.9324  1205.0356  1298.7222        0   \n",
              "39069  1236.2234  26.349878    22  1410.0446  1148.6463  1232.6149        0   \n",
              "39070  1153.1672  26.210352    23  1339.3879  1101.7972  1173.4053        0   \n",
              "39071  1090.3623  26.110712     0  1259.1849  1013.3293  1104.6586        0   \n",
              "\n",
              "       holiday  \n",
              "0            0  \n",
              "1            0  \n",
              "2            0  \n",
              "3            0  \n",
              "4            0  \n",
              "...        ...  \n",
              "39067        0  \n",
              "39068        0  \n",
              "39069        0  \n",
              "39070        0  \n",
              "39071        0  \n",
              "\n",
              "[39072 rows x 8 columns]"
            ],
            "text/html": [
              "\n",
              "  <div id=\"df-2dfff05e-15dd-4059-ac91-ce91c3c6ebba\">\n",
              "    <div class=\"colab-df-container\">\n",
              "      <div>\n",
              "<style scoped>\n",
              "    .dataframe tbody tr th:only-of-type {\n",
              "        vertical-align: middle;\n",
              "    }\n",
              "\n",
              "    .dataframe tbody tr th {\n",
              "        vertical-align: top;\n",
              "    }\n",
              "\n",
              "    .dataframe thead th {\n",
              "        text-align: right;\n",
              "    }\n",
              "</style>\n",
              "<table border=\"1\" class=\"dataframe\">\n",
              "  <thead>\n",
              "    <tr style=\"text-align: right;\">\n",
              "      <th></th>\n",
              "      <th>DEMAND</th>\n",
              "      <th>T2M_toc</th>\n",
              "      <th>Hour</th>\n",
              "      <th>week_X-4</th>\n",
              "      <th>week_X-3</th>\n",
              "      <th>week_X-2</th>\n",
              "      <th>weekend</th>\n",
              "      <th>holiday</th>\n",
              "    </tr>\n",
              "  </thead>\n",
              "  <tbody>\n",
              "    <tr>\n",
              "      <th>0</th>\n",
              "      <td>954.2018</td>\n",
              "      <td>25.308496</td>\n",
              "      <td>1</td>\n",
              "      <td>970.3450</td>\n",
              "      <td>906.9580</td>\n",
              "      <td>962.2865</td>\n",
              "      <td>1</td>\n",
              "      <td>0</td>\n",
              "    </tr>\n",
              "    <tr>\n",
              "      <th>1</th>\n",
              "      <td>913.8660</td>\n",
              "      <td>25.141443</td>\n",
              "      <td>2</td>\n",
              "      <td>912.1755</td>\n",
              "      <td>863.5135</td>\n",
              "      <td>933.3221</td>\n",
              "      <td>1</td>\n",
              "      <td>0</td>\n",
              "    </tr>\n",
              "    <tr>\n",
              "      <th>2</th>\n",
              "      <td>903.3637</td>\n",
              "      <td>25.006738</td>\n",
              "      <td>3</td>\n",
              "      <td>900.2688</td>\n",
              "      <td>848.4447</td>\n",
              "      <td>903.9817</td>\n",
              "      <td>1</td>\n",
              "      <td>0</td>\n",
              "    </tr>\n",
              "    <tr>\n",
              "      <th>3</th>\n",
              "      <td>889.0806</td>\n",
              "      <td>24.899713</td>\n",
              "      <td>4</td>\n",
              "      <td>889.9538</td>\n",
              "      <td>839.8821</td>\n",
              "      <td>900.9995</td>\n",
              "      <td>1</td>\n",
              "      <td>0</td>\n",
              "    </tr>\n",
              "    <tr>\n",
              "      <th>4</th>\n",
              "      <td>910.1472</td>\n",
              "      <td>24.821558</td>\n",
              "      <td>5</td>\n",
              "      <td>893.6865</td>\n",
              "      <td>847.1073</td>\n",
              "      <td>904.3481</td>\n",
              "      <td>1</td>\n",
              "      <td>0</td>\n",
              "    </tr>\n",
              "    <tr>\n",
              "      <th>...</th>\n",
              "      <td>...</td>\n",
              "      <td>...</td>\n",
              "      <td>...</td>\n",
              "      <td>...</td>\n",
              "      <td>...</td>\n",
              "      <td>...</td>\n",
              "      <td>...</td>\n",
              "      <td>...</td>\n",
              "    </tr>\n",
              "    <tr>\n",
              "      <th>39067</th>\n",
              "      <td>1328.6012</td>\n",
              "      <td>26.826990</td>\n",
              "      <td>20</td>\n",
              "      <td>1513.6304</td>\n",
              "      <td>1252.4212</td>\n",
              "      <td>1328.7539</td>\n",
              "      <td>0</td>\n",
              "      <td>0</td>\n",
              "    </tr>\n",
              "    <tr>\n",
              "      <th>39068</th>\n",
              "      <td>1305.1523</td>\n",
              "      <td>26.533838</td>\n",
              "      <td>21</td>\n",
              "      <td>1468.9324</td>\n",
              "      <td>1205.0356</td>\n",
              "      <td>1298.7222</td>\n",
              "      <td>0</td>\n",
              "      <td>0</td>\n",
              "    </tr>\n",
              "    <tr>\n",
              "      <th>39069</th>\n",
              "      <td>1236.2234</td>\n",
              "      <td>26.349878</td>\n",
              "      <td>22</td>\n",
              "      <td>1410.0446</td>\n",
              "      <td>1148.6463</td>\n",
              "      <td>1232.6149</td>\n",
              "      <td>0</td>\n",
              "      <td>0</td>\n",
              "    </tr>\n",
              "    <tr>\n",
              "      <th>39070</th>\n",
              "      <td>1153.1672</td>\n",
              "      <td>26.210352</td>\n",
              "      <td>23</td>\n",
              "      <td>1339.3879</td>\n",
              "      <td>1101.7972</td>\n",
              "      <td>1173.4053</td>\n",
              "      <td>0</td>\n",
              "      <td>0</td>\n",
              "    </tr>\n",
              "    <tr>\n",
              "      <th>39071</th>\n",
              "      <td>1090.3623</td>\n",
              "      <td>26.110712</td>\n",
              "      <td>0</td>\n",
              "      <td>1259.1849</td>\n",
              "      <td>1013.3293</td>\n",
              "      <td>1104.6586</td>\n",
              "      <td>0</td>\n",
              "      <td>0</td>\n",
              "    </tr>\n",
              "  </tbody>\n",
              "</table>\n",
              "<p>39072 rows × 8 columns</p>\n",
              "</div>\n",
              "      <button class=\"colab-df-convert\" onclick=\"convertToInteractive('df-2dfff05e-15dd-4059-ac91-ce91c3c6ebba')\"\n",
              "              title=\"Convert this dataframe to an interactive table.\"\n",
              "              style=\"display:none;\">\n",
              "        \n",
              "  <svg xmlns=\"http://www.w3.org/2000/svg\" height=\"24px\"viewBox=\"0 0 24 24\"\n",
              "       width=\"24px\">\n",
              "    <path d=\"M0 0h24v24H0V0z\" fill=\"none\"/>\n",
              "    <path d=\"M18.56 5.44l.94 2.06.94-2.06 2.06-.94-2.06-.94-.94-2.06-.94 2.06-2.06.94zm-11 1L8.5 8.5l.94-2.06 2.06-.94-2.06-.94L8.5 2.5l-.94 2.06-2.06.94zm10 10l.94 2.06.94-2.06 2.06-.94-2.06-.94-.94-2.06-.94 2.06-2.06.94z\"/><path d=\"M17.41 7.96l-1.37-1.37c-.4-.4-.92-.59-1.43-.59-.52 0-1.04.2-1.43.59L10.3 9.45l-7.72 7.72c-.78.78-.78 2.05 0 2.83L4 21.41c.39.39.9.59 1.41.59.51 0 1.02-.2 1.41-.59l7.78-7.78 2.81-2.81c.8-.78.8-2.07 0-2.86zM5.41 20L4 18.59l7.72-7.72 1.47 1.35L5.41 20z\"/>\n",
              "  </svg>\n",
              "      </button>\n",
              "      \n",
              "  <style>\n",
              "    .colab-df-container {\n",
              "      display:flex;\n",
              "      flex-wrap:wrap;\n",
              "      gap: 12px;\n",
              "    }\n",
              "\n",
              "    .colab-df-convert {\n",
              "      background-color: #E8F0FE;\n",
              "      border: none;\n",
              "      border-radius: 50%;\n",
              "      cursor: pointer;\n",
              "      display: none;\n",
              "      fill: #1967D2;\n",
              "      height: 32px;\n",
              "      padding: 0 0 0 0;\n",
              "      width: 32px;\n",
              "    }\n",
              "\n",
              "    .colab-df-convert:hover {\n",
              "      background-color: #E2EBFA;\n",
              "      box-shadow: 0px 1px 2px rgba(60, 64, 67, 0.3), 0px 1px 3px 1px rgba(60, 64, 67, 0.15);\n",
              "      fill: #174EA6;\n",
              "    }\n",
              "\n",
              "    [theme=dark] .colab-df-convert {\n",
              "      background-color: #3B4455;\n",
              "      fill: #D2E3FC;\n",
              "    }\n",
              "\n",
              "    [theme=dark] .colab-df-convert:hover {\n",
              "      background-color: #434B5C;\n",
              "      box-shadow: 0px 1px 3px 1px rgba(0, 0, 0, 0.15);\n",
              "      filter: drop-shadow(0px 1px 2px rgba(0, 0, 0, 0.3));\n",
              "      fill: #FFFFFF;\n",
              "    }\n",
              "  </style>\n",
              "\n",
              "      <script>\n",
              "        const buttonEl =\n",
              "          document.querySelector('#df-2dfff05e-15dd-4059-ac91-ce91c3c6ebba button.colab-df-convert');\n",
              "        buttonEl.style.display =\n",
              "          google.colab.kernel.accessAllowed ? 'block' : 'none';\n",
              "\n",
              "        async function convertToInteractive(key) {\n",
              "          const element = document.querySelector('#df-2dfff05e-15dd-4059-ac91-ce91c3c6ebba');\n",
              "          const dataTable =\n",
              "            await google.colab.kernel.invokeFunction('convertToInteractive',\n",
              "                                                     [key], {});\n",
              "          if (!dataTable) return;\n",
              "\n",
              "          const docLinkHtml = 'Like what you see? Visit the ' +\n",
              "            '<a target=\"_blank\" href=https://colab.research.google.com/notebooks/data_table.ipynb>data table notebook</a>'\n",
              "            + ' to learn more about interactive tables.';\n",
              "          element.innerHTML = '';\n",
              "          dataTable['output_type'] = 'display_data';\n",
              "          await google.colab.output.renderOutput(dataTable, element);\n",
              "          const docLink = document.createElement('div');\n",
              "          docLink.innerHTML = docLinkHtml;\n",
              "          element.appendChild(docLink);\n",
              "        }\n",
              "      </script>\n",
              "    </div>\n",
              "  </div>\n",
              "  "
            ]
          },
          "metadata": {},
          "execution_count": 17
        }
      ],
      "source": [
        "df_input"
      ]
    },
    {
      "cell_type": "code",
      "execution_count": null,
      "metadata": {
        "id": "zmxkvCbrldFj",
        "colab": {
          "base_uri": "https://localhost:8080/",
          "height": 300
        },
        "outputId": "14a9a781-cf56-4bca-8829-2a7a7b45e7a5"
      },
      "outputs": [
        {
          "output_type": "execute_result",
          "data": {
            "text/plain": [
              "             DEMAND       T2M_toc          Hour      week_X-4      week_X-3  \\\n",
              "count  39072.000000  39072.000000  39072.000000  39072.000000  39072.000000   \n",
              "mean    1179.942216     27.391452     11.500000   1177.097007   1177.971969   \n",
              "std      192.762652      1.682500      6.922275    193.116684    193.236768   \n",
              "min      697.815525     22.953455      0.000000     85.192500     85.192500   \n",
              "25%     1012.635925     26.158678      5.750000   1009.655150   1010.398350   \n",
              "50%     1168.634250     27.117578     11.500000   1165.453050   1166.670650   \n",
              "75%     1327.456325     28.539148     17.250000   1324.553050   1325.412050   \n",
              "max     1719.043900     35.039575     23.000000   1719.043900   1719.043900   \n",
              "\n",
              "           week_X-2       weekend       holiday  \n",
              "count  39072.000000  39072.000000  39072.000000  \n",
              "mean    1178.342416      0.286215      0.062654  \n",
              "std      193.149594      0.451997      0.242342  \n",
              "min       85.192500      0.000000      0.000000  \n",
              "25%     1010.838075      0.000000      0.000000  \n",
              "50%     1167.031650      0.000000      0.000000  \n",
              "75%     1325.721950      1.000000      0.000000  \n",
              "max     1719.043900      1.000000      1.000000  "
            ],
            "text/html": [
              "\n",
              "  <div id=\"df-320d3363-bf2b-4c88-8cb1-d5a96488c9e5\">\n",
              "    <div class=\"colab-df-container\">\n",
              "      <div>\n",
              "<style scoped>\n",
              "    .dataframe tbody tr th:only-of-type {\n",
              "        vertical-align: middle;\n",
              "    }\n",
              "\n",
              "    .dataframe tbody tr th {\n",
              "        vertical-align: top;\n",
              "    }\n",
              "\n",
              "    .dataframe thead th {\n",
              "        text-align: right;\n",
              "    }\n",
              "</style>\n",
              "<table border=\"1\" class=\"dataframe\">\n",
              "  <thead>\n",
              "    <tr style=\"text-align: right;\">\n",
              "      <th></th>\n",
              "      <th>DEMAND</th>\n",
              "      <th>T2M_toc</th>\n",
              "      <th>Hour</th>\n",
              "      <th>week_X-4</th>\n",
              "      <th>week_X-3</th>\n",
              "      <th>week_X-2</th>\n",
              "      <th>weekend</th>\n",
              "      <th>holiday</th>\n",
              "    </tr>\n",
              "  </thead>\n",
              "  <tbody>\n",
              "    <tr>\n",
              "      <th>count</th>\n",
              "      <td>39072.000000</td>\n",
              "      <td>39072.000000</td>\n",
              "      <td>39072.000000</td>\n",
              "      <td>39072.000000</td>\n",
              "      <td>39072.000000</td>\n",
              "      <td>39072.000000</td>\n",
              "      <td>39072.000000</td>\n",
              "      <td>39072.000000</td>\n",
              "    </tr>\n",
              "    <tr>\n",
              "      <th>mean</th>\n",
              "      <td>1179.942216</td>\n",
              "      <td>27.391452</td>\n",
              "      <td>11.500000</td>\n",
              "      <td>1177.097007</td>\n",
              "      <td>1177.971969</td>\n",
              "      <td>1178.342416</td>\n",
              "      <td>0.286215</td>\n",
              "      <td>0.062654</td>\n",
              "    </tr>\n",
              "    <tr>\n",
              "      <th>std</th>\n",
              "      <td>192.762652</td>\n",
              "      <td>1.682500</td>\n",
              "      <td>6.922275</td>\n",
              "      <td>193.116684</td>\n",
              "      <td>193.236768</td>\n",
              "      <td>193.149594</td>\n",
              "      <td>0.451997</td>\n",
              "      <td>0.242342</td>\n",
              "    </tr>\n",
              "    <tr>\n",
              "      <th>min</th>\n",
              "      <td>697.815525</td>\n",
              "      <td>22.953455</td>\n",
              "      <td>0.000000</td>\n",
              "      <td>85.192500</td>\n",
              "      <td>85.192500</td>\n",
              "      <td>85.192500</td>\n",
              "      <td>0.000000</td>\n",
              "      <td>0.000000</td>\n",
              "    </tr>\n",
              "    <tr>\n",
              "      <th>25%</th>\n",
              "      <td>1012.635925</td>\n",
              "      <td>26.158678</td>\n",
              "      <td>5.750000</td>\n",
              "      <td>1009.655150</td>\n",
              "      <td>1010.398350</td>\n",
              "      <td>1010.838075</td>\n",
              "      <td>0.000000</td>\n",
              "      <td>0.000000</td>\n",
              "    </tr>\n",
              "    <tr>\n",
              "      <th>50%</th>\n",
              "      <td>1168.634250</td>\n",
              "      <td>27.117578</td>\n",
              "      <td>11.500000</td>\n",
              "      <td>1165.453050</td>\n",
              "      <td>1166.670650</td>\n",
              "      <td>1167.031650</td>\n",
              "      <td>0.000000</td>\n",
              "      <td>0.000000</td>\n",
              "    </tr>\n",
              "    <tr>\n",
              "      <th>75%</th>\n",
              "      <td>1327.456325</td>\n",
              "      <td>28.539148</td>\n",
              "      <td>17.250000</td>\n",
              "      <td>1324.553050</td>\n",
              "      <td>1325.412050</td>\n",
              "      <td>1325.721950</td>\n",
              "      <td>1.000000</td>\n",
              "      <td>0.000000</td>\n",
              "    </tr>\n",
              "    <tr>\n",
              "      <th>max</th>\n",
              "      <td>1719.043900</td>\n",
              "      <td>35.039575</td>\n",
              "      <td>23.000000</td>\n",
              "      <td>1719.043900</td>\n",
              "      <td>1719.043900</td>\n",
              "      <td>1719.043900</td>\n",
              "      <td>1.000000</td>\n",
              "      <td>1.000000</td>\n",
              "    </tr>\n",
              "  </tbody>\n",
              "</table>\n",
              "</div>\n",
              "      <button class=\"colab-df-convert\" onclick=\"convertToInteractive('df-320d3363-bf2b-4c88-8cb1-d5a96488c9e5')\"\n",
              "              title=\"Convert this dataframe to an interactive table.\"\n",
              "              style=\"display:none;\">\n",
              "        \n",
              "  <svg xmlns=\"http://www.w3.org/2000/svg\" height=\"24px\"viewBox=\"0 0 24 24\"\n",
              "       width=\"24px\">\n",
              "    <path d=\"M0 0h24v24H0V0z\" fill=\"none\"/>\n",
              "    <path d=\"M18.56 5.44l.94 2.06.94-2.06 2.06-.94-2.06-.94-.94-2.06-.94 2.06-2.06.94zm-11 1L8.5 8.5l.94-2.06 2.06-.94-2.06-.94L8.5 2.5l-.94 2.06-2.06.94zm10 10l.94 2.06.94-2.06 2.06-.94-2.06-.94-.94-2.06-.94 2.06-2.06.94z\"/><path d=\"M17.41 7.96l-1.37-1.37c-.4-.4-.92-.59-1.43-.59-.52 0-1.04.2-1.43.59L10.3 9.45l-7.72 7.72c-.78.78-.78 2.05 0 2.83L4 21.41c.39.39.9.59 1.41.59.51 0 1.02-.2 1.41-.59l7.78-7.78 2.81-2.81c.8-.78.8-2.07 0-2.86zM5.41 20L4 18.59l7.72-7.72 1.47 1.35L5.41 20z\"/>\n",
              "  </svg>\n",
              "      </button>\n",
              "      \n",
              "  <style>\n",
              "    .colab-df-container {\n",
              "      display:flex;\n",
              "      flex-wrap:wrap;\n",
              "      gap: 12px;\n",
              "    }\n",
              "\n",
              "    .colab-df-convert {\n",
              "      background-color: #E8F0FE;\n",
              "      border: none;\n",
              "      border-radius: 50%;\n",
              "      cursor: pointer;\n",
              "      display: none;\n",
              "      fill: #1967D2;\n",
              "      height: 32px;\n",
              "      padding: 0 0 0 0;\n",
              "      width: 32px;\n",
              "    }\n",
              "\n",
              "    .colab-df-convert:hover {\n",
              "      background-color: #E2EBFA;\n",
              "      box-shadow: 0px 1px 2px rgba(60, 64, 67, 0.3), 0px 1px 3px 1px rgba(60, 64, 67, 0.15);\n",
              "      fill: #174EA6;\n",
              "    }\n",
              "\n",
              "    [theme=dark] .colab-df-convert {\n",
              "      background-color: #3B4455;\n",
              "      fill: #D2E3FC;\n",
              "    }\n",
              "\n",
              "    [theme=dark] .colab-df-convert:hover {\n",
              "      background-color: #434B5C;\n",
              "      box-shadow: 0px 1px 3px 1px rgba(0, 0, 0, 0.15);\n",
              "      filter: drop-shadow(0px 1px 2px rgba(0, 0, 0, 0.3));\n",
              "      fill: #FFFFFF;\n",
              "    }\n",
              "  </style>\n",
              "\n",
              "      <script>\n",
              "        const buttonEl =\n",
              "          document.querySelector('#df-320d3363-bf2b-4c88-8cb1-d5a96488c9e5 button.colab-df-convert');\n",
              "        buttonEl.style.display =\n",
              "          google.colab.kernel.accessAllowed ? 'block' : 'none';\n",
              "\n",
              "        async function convertToInteractive(key) {\n",
              "          const element = document.querySelector('#df-320d3363-bf2b-4c88-8cb1-d5a96488c9e5');\n",
              "          const dataTable =\n",
              "            await google.colab.kernel.invokeFunction('convertToInteractive',\n",
              "                                                     [key], {});\n",
              "          if (!dataTable) return;\n",
              "\n",
              "          const docLinkHtml = 'Like what you see? Visit the ' +\n",
              "            '<a target=\"_blank\" href=https://colab.research.google.com/notebooks/data_table.ipynb>data table notebook</a>'\n",
              "            + ' to learn more about interactive tables.';\n",
              "          element.innerHTML = '';\n",
              "          dataTable['output_type'] = 'display_data';\n",
              "          await google.colab.output.renderOutput(dataTable, element);\n",
              "          const docLink = document.createElement('div');\n",
              "          docLink.innerHTML = docLinkHtml;\n",
              "          element.appendChild(docLink);\n",
              "        }\n",
              "      </script>\n",
              "    </div>\n",
              "  </div>\n",
              "  "
            ]
          },
          "metadata": {},
          "execution_count": 18
        }
      ],
      "source": [
        "df_input.describe()"
      ]
    },
    {
      "cell_type": "code",
      "execution_count": null,
      "metadata": {
        "id": "N1Avg_fgN7rB",
        "colab": {
          "base_uri": "https://localhost:8080/"
        },
        "outputId": "34566572-8f20-43c9-e70e-fb2c21caad86"
      },
      "outputs": [
        {
          "output_type": "stream",
          "name": "stderr",
          "text": [
            "/usr/local/lib/python3.8/dist-packages/pandas/core/generic.py:6619: SettingWithCopyWarning: \n",
            "A value is trying to be set on a copy of a slice from a DataFrame\n",
            "\n",
            "See the caveats in the documentation: https://pandas.pydata.org/pandas-docs/stable/user_guide/indexing.html#returning-a-view-versus-a-copy\n",
            "  return self._update_inplace(result)\n"
          ]
        }
      ],
      "source": [
        "new_kva = df_input['DEMAND']\n",
        "new_kva.replace(to_replace = 0, value = new_kva.std(), inplace=True)"
      ]
    },
    {
      "cell_type": "code",
      "execution_count": null,
      "metadata": {
        "id": "jrABKEFdPW-k",
        "colab": {
          "base_uri": "https://localhost:8080/",
          "height": 300
        },
        "outputId": "8b80ed90-a95e-4641-9241-9b0e4a133fd9"
      },
      "outputs": [
        {
          "output_type": "execute_result",
          "data": {
            "text/plain": [
              "             DEMAND       T2M_toc          Hour      week_X-4      week_X-3  \\\n",
              "count  39072.000000  39072.000000  39072.000000  39072.000000  39072.000000   \n",
              "mean    1179.942216     27.391452     11.500000   1177.097007   1177.971969   \n",
              "std      192.762652      1.682500      6.922275    193.116684    193.236768   \n",
              "min      697.815525     22.953455      0.000000     85.192500     85.192500   \n",
              "25%     1012.635925     26.158678      5.750000   1009.655150   1010.398350   \n",
              "50%     1168.634250     27.117578     11.500000   1165.453050   1166.670650   \n",
              "75%     1327.456325     28.539148     17.250000   1324.553050   1325.412050   \n",
              "max     1719.043900     35.039575     23.000000   1719.043900   1719.043900   \n",
              "\n",
              "           week_X-2       weekend       holiday  \n",
              "count  39072.000000  39072.000000  39072.000000  \n",
              "mean    1178.342416      0.286215      0.062654  \n",
              "std      193.149594      0.451997      0.242342  \n",
              "min       85.192500      0.000000      0.000000  \n",
              "25%     1010.838075      0.000000      0.000000  \n",
              "50%     1167.031650      0.000000      0.000000  \n",
              "75%     1325.721950      1.000000      0.000000  \n",
              "max     1719.043900      1.000000      1.000000  "
            ],
            "text/html": [
              "\n",
              "  <div id=\"df-a7190b79-f32e-4965-9302-a39f27d3e157\">\n",
              "    <div class=\"colab-df-container\">\n",
              "      <div>\n",
              "<style scoped>\n",
              "    .dataframe tbody tr th:only-of-type {\n",
              "        vertical-align: middle;\n",
              "    }\n",
              "\n",
              "    .dataframe tbody tr th {\n",
              "        vertical-align: top;\n",
              "    }\n",
              "\n",
              "    .dataframe thead th {\n",
              "        text-align: right;\n",
              "    }\n",
              "</style>\n",
              "<table border=\"1\" class=\"dataframe\">\n",
              "  <thead>\n",
              "    <tr style=\"text-align: right;\">\n",
              "      <th></th>\n",
              "      <th>DEMAND</th>\n",
              "      <th>T2M_toc</th>\n",
              "      <th>Hour</th>\n",
              "      <th>week_X-4</th>\n",
              "      <th>week_X-3</th>\n",
              "      <th>week_X-2</th>\n",
              "      <th>weekend</th>\n",
              "      <th>holiday</th>\n",
              "    </tr>\n",
              "  </thead>\n",
              "  <tbody>\n",
              "    <tr>\n",
              "      <th>count</th>\n",
              "      <td>39072.000000</td>\n",
              "      <td>39072.000000</td>\n",
              "      <td>39072.000000</td>\n",
              "      <td>39072.000000</td>\n",
              "      <td>39072.000000</td>\n",
              "      <td>39072.000000</td>\n",
              "      <td>39072.000000</td>\n",
              "      <td>39072.000000</td>\n",
              "    </tr>\n",
              "    <tr>\n",
              "      <th>mean</th>\n",
              "      <td>1179.942216</td>\n",
              "      <td>27.391452</td>\n",
              "      <td>11.500000</td>\n",
              "      <td>1177.097007</td>\n",
              "      <td>1177.971969</td>\n",
              "      <td>1178.342416</td>\n",
              "      <td>0.286215</td>\n",
              "      <td>0.062654</td>\n",
              "    </tr>\n",
              "    <tr>\n",
              "      <th>std</th>\n",
              "      <td>192.762652</td>\n",
              "      <td>1.682500</td>\n",
              "      <td>6.922275</td>\n",
              "      <td>193.116684</td>\n",
              "      <td>193.236768</td>\n",
              "      <td>193.149594</td>\n",
              "      <td>0.451997</td>\n",
              "      <td>0.242342</td>\n",
              "    </tr>\n",
              "    <tr>\n",
              "      <th>min</th>\n",
              "      <td>697.815525</td>\n",
              "      <td>22.953455</td>\n",
              "      <td>0.000000</td>\n",
              "      <td>85.192500</td>\n",
              "      <td>85.192500</td>\n",
              "      <td>85.192500</td>\n",
              "      <td>0.000000</td>\n",
              "      <td>0.000000</td>\n",
              "    </tr>\n",
              "    <tr>\n",
              "      <th>25%</th>\n",
              "      <td>1012.635925</td>\n",
              "      <td>26.158678</td>\n",
              "      <td>5.750000</td>\n",
              "      <td>1009.655150</td>\n",
              "      <td>1010.398350</td>\n",
              "      <td>1010.838075</td>\n",
              "      <td>0.000000</td>\n",
              "      <td>0.000000</td>\n",
              "    </tr>\n",
              "    <tr>\n",
              "      <th>50%</th>\n",
              "      <td>1168.634250</td>\n",
              "      <td>27.117578</td>\n",
              "      <td>11.500000</td>\n",
              "      <td>1165.453050</td>\n",
              "      <td>1166.670650</td>\n",
              "      <td>1167.031650</td>\n",
              "      <td>0.000000</td>\n",
              "      <td>0.000000</td>\n",
              "    </tr>\n",
              "    <tr>\n",
              "      <th>75%</th>\n",
              "      <td>1327.456325</td>\n",
              "      <td>28.539148</td>\n",
              "      <td>17.250000</td>\n",
              "      <td>1324.553050</td>\n",
              "      <td>1325.412050</td>\n",
              "      <td>1325.721950</td>\n",
              "      <td>1.000000</td>\n",
              "      <td>0.000000</td>\n",
              "    </tr>\n",
              "    <tr>\n",
              "      <th>max</th>\n",
              "      <td>1719.043900</td>\n",
              "      <td>35.039575</td>\n",
              "      <td>23.000000</td>\n",
              "      <td>1719.043900</td>\n",
              "      <td>1719.043900</td>\n",
              "      <td>1719.043900</td>\n",
              "      <td>1.000000</td>\n",
              "      <td>1.000000</td>\n",
              "    </tr>\n",
              "  </tbody>\n",
              "</table>\n",
              "</div>\n",
              "      <button class=\"colab-df-convert\" onclick=\"convertToInteractive('df-a7190b79-f32e-4965-9302-a39f27d3e157')\"\n",
              "              title=\"Convert this dataframe to an interactive table.\"\n",
              "              style=\"display:none;\">\n",
              "        \n",
              "  <svg xmlns=\"http://www.w3.org/2000/svg\" height=\"24px\"viewBox=\"0 0 24 24\"\n",
              "       width=\"24px\">\n",
              "    <path d=\"M0 0h24v24H0V0z\" fill=\"none\"/>\n",
              "    <path d=\"M18.56 5.44l.94 2.06.94-2.06 2.06-.94-2.06-.94-.94-2.06-.94 2.06-2.06.94zm-11 1L8.5 8.5l.94-2.06 2.06-.94-2.06-.94L8.5 2.5l-.94 2.06-2.06.94zm10 10l.94 2.06.94-2.06 2.06-.94-2.06-.94-.94-2.06-.94 2.06-2.06.94z\"/><path d=\"M17.41 7.96l-1.37-1.37c-.4-.4-.92-.59-1.43-.59-.52 0-1.04.2-1.43.59L10.3 9.45l-7.72 7.72c-.78.78-.78 2.05 0 2.83L4 21.41c.39.39.9.59 1.41.59.51 0 1.02-.2 1.41-.59l7.78-7.78 2.81-2.81c.8-.78.8-2.07 0-2.86zM5.41 20L4 18.59l7.72-7.72 1.47 1.35L5.41 20z\"/>\n",
              "  </svg>\n",
              "      </button>\n",
              "      \n",
              "  <style>\n",
              "    .colab-df-container {\n",
              "      display:flex;\n",
              "      flex-wrap:wrap;\n",
              "      gap: 12px;\n",
              "    }\n",
              "\n",
              "    .colab-df-convert {\n",
              "      background-color: #E8F0FE;\n",
              "      border: none;\n",
              "      border-radius: 50%;\n",
              "      cursor: pointer;\n",
              "      display: none;\n",
              "      fill: #1967D2;\n",
              "      height: 32px;\n",
              "      padding: 0 0 0 0;\n",
              "      width: 32px;\n",
              "    }\n",
              "\n",
              "    .colab-df-convert:hover {\n",
              "      background-color: #E2EBFA;\n",
              "      box-shadow: 0px 1px 2px rgba(60, 64, 67, 0.3), 0px 1px 3px 1px rgba(60, 64, 67, 0.15);\n",
              "      fill: #174EA6;\n",
              "    }\n",
              "\n",
              "    [theme=dark] .colab-df-convert {\n",
              "      background-color: #3B4455;\n",
              "      fill: #D2E3FC;\n",
              "    }\n",
              "\n",
              "    [theme=dark] .colab-df-convert:hover {\n",
              "      background-color: #434B5C;\n",
              "      box-shadow: 0px 1px 3px 1px rgba(0, 0, 0, 0.15);\n",
              "      filter: drop-shadow(0px 1px 2px rgba(0, 0, 0, 0.3));\n",
              "      fill: #FFFFFF;\n",
              "    }\n",
              "  </style>\n",
              "\n",
              "      <script>\n",
              "        const buttonEl =\n",
              "          document.querySelector('#df-a7190b79-f32e-4965-9302-a39f27d3e157 button.colab-df-convert');\n",
              "        buttonEl.style.display =\n",
              "          google.colab.kernel.accessAllowed ? 'block' : 'none';\n",
              "\n",
              "        async function convertToInteractive(key) {\n",
              "          const element = document.querySelector('#df-a7190b79-f32e-4965-9302-a39f27d3e157');\n",
              "          const dataTable =\n",
              "            await google.colab.kernel.invokeFunction('convertToInteractive',\n",
              "                                                     [key], {});\n",
              "          if (!dataTable) return;\n",
              "\n",
              "          const docLinkHtml = 'Like what you see? Visit the ' +\n",
              "            '<a target=\"_blank\" href=https://colab.research.google.com/notebooks/data_table.ipynb>data table notebook</a>'\n",
              "            + ' to learn more about interactive tables.';\n",
              "          element.innerHTML = '';\n",
              "          dataTable['output_type'] = 'display_data';\n",
              "          await google.colab.output.renderOutput(dataTable, element);\n",
              "          const docLink = document.createElement('div');\n",
              "          docLink.innerHTML = docLinkHtml;\n",
              "          element.appendChild(docLink);\n",
              "        }\n",
              "      </script>\n",
              "    </div>\n",
              "  </div>\n",
              "  "
            ]
          },
          "metadata": {},
          "execution_count": 20
        }
      ],
      "source": [
        "df_input.describe()"
      ]
    },
    {
      "cell_type": "code",
      "execution_count": null,
      "metadata": {
        "id": "RkwqBmSMOtGZ",
        "colab": {
          "base_uri": "https://localhost:8080/",
          "height": 785
        },
        "outputId": "f9be5de7-85e4-4afa-d0ea-039a84bbdf4e"
      },
      "outputs": [
        {
          "output_type": "stream",
          "name": "stderr",
          "text": [
            "/usr/local/lib/python3.8/dist-packages/seaborn/axisgrid.py:337: UserWarning: The `size` parameter has been renamed to `height`; please update your code.\n",
            "  warnings.warn(msg, UserWarning)\n"
          ]
        },
        {
          "output_type": "display_data",
          "data": {
            "text/plain": [
              "<Figure size 720x720 with 2 Axes>"
            ],
            "image/png": "[encoded data removed]"
          },
          "metadata": {
            "needs_background": "light"
          }
        }
      ],
      "source": [
        "# Create a FacetGrid object with the desired height\n",
        "g = sns.FacetGrid(df, size = 10)\n",
        "\n",
        "# Load a sample dataset\n",
        "\n",
        "\n",
        "# Compute the correlation matrix\n",
        "corr = df_input.corr()\n",
        "\n",
        "# Generate a heatmap from the correlation matrix\n",
        "sns.heatmap(corr, annot=True, cmap=\"coolwarm\")\n",
        "\n",
        "# Show the plot\n",
        "plt.show()"
      ]
    },
    {
      "cell_type": "code",
      "execution_count": null,
      "metadata": {
        "id": "36izIG709mqw",
        "colab": {
          "base_uri": "https://localhost:8080/",
          "height": 419
        },
        "outputId": "72b2236d-f5da-4665-99e4-d882fb987d1f"
      },
      "outputs": [
        {
          "output_type": "display_data",
          "data": {
            "text/plain": [
              "<Figure size 1440x504 with 1 Axes>"
            ],
            "image/png": "[encoded data removed]"
          },
          "metadata": {
            "needs_background": "light"
          }
        }
      ],
      "source": [
        "fig = plt.figure(figsize=(20, 7))\n",
        "sns.boxplot(x=\"Hour\", y=\"DEMAND\", data=df_input)\n",
        "plt.xlabel(\"Hour\") # set the font size for the x-axis label\n",
        "plt.show()"
      ]
    },
    {
      "cell_type": "code",
      "execution_count": null,
      "metadata": {
        "id": "BZGtOBcsli8r"
      },
      "outputs": [],
      "source": [
        "scaler = MinMaxScaler()\n",
        "data_scaled = scaler.fit_transform(df_input)"
      ]
    },
    {
      "cell_type": "code",
      "execution_count": null,
      "metadata": {
        "id": "kNTwpO6rl9CW"
      },
      "outputs": [],
      "source": [
        "features= data_scaled\n",
        "target = data_scaled[:,0]"
      ]
    },
    {
      "cell_type": "code",
      "execution_count": null,
      "metadata": {
        "id": "Y5atoeFHmDP2",
        "colab": {
          "base_uri": "https://localhost:8080/"
        },
        "outputId": "cf1227d3-c9e1-4eb6-d63d-7ab7bf52f351"
      },
      "outputs": [
        {
          "output_type": "execute_result",
          "data": {
            "text/plain": [
              "(array([[[0.25105675, 0.19485504, 0.04347826, ..., 0.53682605,\n",
              "          1.        , 0.        ],\n",
              "         [0.20127542, 0.16988774, 0.13043478, ..., 0.50114056,\n",
              "          1.        , 0.        ],\n",
              "         [0.20791792, 0.15456598, 0.2173913 , ..., 0.50136481,\n",
              "          1.        , 0.        ],\n",
              "         ...,\n",
              "         [0.50270771, 0.30075144, 0.82608696, ..., 0.68286675,\n",
              "          0.        , 0.        ],\n",
              "         [0.42638315, 0.2660881 , 0.91304348, ..., 0.64754469,\n",
              "          0.        , 0.        ],\n",
              "         [0.30301839, 0.24037845, 1.        , ..., 0.55368401,\n",
              "          0.        , 0.        ]],\n",
              " \n",
              "        [[0.21155941, 0.18103313, 0.08695652, ..., 0.51909837,\n",
              "          1.        , 0.        ],\n",
              "         [0.18728923, 0.16103253, 0.17391304, ..., 0.4993153 ,\n",
              "          1.        , 0.        ],\n",
              "         [0.21969442, 0.15528055, 0.26086957, ..., 0.50635909,\n",
              "          1.        , 0.        ],\n",
              "         ...,\n",
              "         [0.47319061, 0.27790515, 0.86956522, ..., 0.65397649,\n",
              "          0.        , 0.        ],\n",
              "         [0.3687411 , 0.2521652 , 0.95652174, ..., 0.61608081,\n",
              "          0.        , 0.        ],\n",
              "         [0.26689542, 0.23106874, 0.        , ..., 0.48484397,\n",
              "          0.        , 0.        ]],\n",
              " \n",
              "        [[0.20127542, 0.16988774, 0.13043478, ..., 0.50114056,\n",
              "          1.        , 0.        ],\n",
              "         [0.20791792, 0.15456598, 0.2173913 , ..., 0.50136481,\n",
              "          1.        , 0.        ],\n",
              "         [0.23709552, 0.2355178 , 0.30434783, ..., 0.51559469,\n",
              "          1.        , 0.        ],\n",
              "         ...,\n",
              "         [0.42638315, 0.2660881 , 0.91304348, ..., 0.64754469,\n",
              "          0.        , 0.        ],\n",
              "         [0.30301839, 0.24037845, 1.        , ..., 0.55368401,\n",
              "          0.        , 0.        ],\n",
              "         [0.25088127, 0.22164287, 0.04347826, ..., 0.46017863,\n",
              "          0.        , 0.        ]],\n",
              " \n",
              "        ...,\n",
              " \n",
              "        [[0.78063095, 0.69589282, 0.60869565, ..., 0.78789215,\n",
              "          0.        , 0.        ],\n",
              "         [0.67613042, 0.61991274, 0.69565217, ..., 0.72716552,\n",
              "          0.        , 0.        ],\n",
              "         [0.54052922, 0.42940324, 0.7826087 , ..., 0.65788651,\n",
              "          0.        , 0.        ],\n",
              "         ...,\n",
              "         [0.48440916, 0.33758882, 0.34782609, ..., 0.65825607,\n",
              "          0.        , 0.        ],\n",
              "         [0.65045174, 0.50301739, 0.43478261, ..., 0.75210053,\n",
              "          0.        , 0.        ],\n",
              "         [0.66864454, 0.5983643 , 0.52173913, ..., 0.75893414,\n",
              "          0.        , 0.        ]],\n",
              " \n",
              "        [[0.74435229, 0.67443023, 0.65217391, ..., 0.75784242,\n",
              "          0.        , 0.        ],\n",
              "         [0.55379569, 0.52976735, 0.73913043, ..., 0.67354173,\n",
              "          0.        , 0.        ],\n",
              "         [0.51716314, 0.36179862, 0.82608696, ..., 0.68111635,\n",
              "          0.        , 0.        ],\n",
              "         ...,\n",
              "         [0.58541673, 0.42067428, 0.39130435, ..., 0.71152842,\n",
              "          0.        , 0.        ],\n",
              "         [0.68086727, 0.56049672, 0.47826087, ..., 0.76471808,\n",
              "          0.        , 0.        ],\n",
              "         [0.6623859 , 0.61375424, 0.56521739, ..., 0.76854297,\n",
              "          0.        , 0.        ]],\n",
              " \n",
              "        [[0.67613042, 0.61991274, 0.69565217, ..., 0.72716552,\n",
              "          0.        , 0.        ],\n",
              "         [0.54052922, 0.42940324, 0.7826087 , ..., 0.65788651,\n",
              "          0.        , 0.        ],\n",
              "         [0.48884783, 0.32522132, 0.86956522, ..., 0.66139516,\n",
              "          0.        , 0.        ],\n",
              "         ...,\n",
              "         [0.65045174, 0.50301739, 0.43478261, ..., 0.75210053,\n",
              "          0.        , 0.        ],\n",
              "         [0.66864454, 0.5983643 , 0.52173913, ..., 0.75893414,\n",
              "          0.        , 0.        ],\n",
              "         [0.65064171, 0.58962524, 0.60869565, ..., 0.77114853,\n",
              "          0.        , 0.        ]]]),\n",
              " array([0.25088127, 0.23102088, 0.21472726, 0.20901542, 0.22486897,\n",
              "        0.23708563, 0.34738427, 0.52361625, 0.64012917, 0.74335173,\n",
              "        0.74447939, 0.72913052, 0.73608841, 0.72037342, 0.66802479,\n",
              "        0.61080282, 0.49773017, 0.50432752, 0.48787655, 0.45219148,\n",
              "        0.43461089, 0.38641012, 0.32872557, 0.30413116, 0.25014461,\n",
              "        0.21154218, 0.18515954, 0.20443877, 0.22362008, 0.2306804 ,\n",
              "        0.31569224, 0.48406663, 0.57278292, 0.65134576, 0.68785405,\n",
              "        0.68725438, 0.70241975, 0.7126862 , 0.68694035, 0.61191873,\n",
              "        0.48860156, 0.46936394, 0.50855087, 0.45207604, 0.41865383,\n",
              "        0.37505614, 0.33118417, 0.26380052, 0.2651252 , 0.21753614,\n",
              "        0.19865045, 0.18544263, 0.19264151, 0.23663559, 0.3252052 ,\n",
              "        0.48440916, 0.58541673, 0.65045174, 0.68086727, 0.66864454,\n",
              "        0.6623859 , 0.65064171, 0.61150081, 0.5303645 ]))"
            ]
          },
          "metadata": {},
          "execution_count": 25
        }
      ],
      "source": [
        "TimeseriesGenerator(features, target , length= 96 , sampling_rate =2 , batch_size=64)[0]"
      ]
    },
    {
      "cell_type": "code",
      "execution_count": null,
      "metadata": {
        "id": "brIQQE1HnFd0"
      },
      "outputs": [],
      "source": [
        "x_train , x_test , y_train, y_test = train_test_split(features, target, test_size= 0.20 , random_state= 123, shuffle = False)"
      ]
    },
    {
      "cell_type": "code",
      "execution_count": null,
      "metadata": {
        "id": "YXBeS5bdniq0",
        "colab": {
          "base_uri": "https://localhost:8080/"
        },
        "outputId": "0ac13175-14be-493a-d28d-fb12f54ff953"
      },
      "outputs": [
        {
          "output_type": "execute_result",
          "data": {
            "text/plain": [
              "(31257, 8)"
            ]
          },
          "metadata": {},
          "execution_count": 27
        }
      ],
      "source": [
        "x_train.shape"
      ]
    },
    {
      "cell_type": "code",
      "execution_count": null,
      "metadata": {
        "id": "JKczuXCKnmUs",
        "colab": {
          "base_uri": "https://localhost:8080/"
        },
        "outputId": "95297522-5e1a-4f1d-f646-b610dad2a8e2"
      },
      "outputs": [
        {
          "output_type": "execute_result",
          "data": {
            "text/plain": [
              "(7815, 8)"
            ]
          },
          "metadata": {},
          "execution_count": 28
        }
      ],
      "source": [
        "x_test.shape"
      ]
    },
    {
      "cell_type": "code",
      "execution_count": null,
      "metadata": {
        "id": "O6f30y3Fnpek"
      },
      "outputs": [],
      "source": [
        "win_length = 32\n",
        "batch_size =32\n",
        "sr = 1\n",
        "num_features = 8\n",
        "train_generator = TimeseriesGenerator(x_train , y_train, length = win_length , sampling_rate =sr , batch_size = batch_size)\n",
        "test_generator = TimeseriesGenerator(x_test , y_test, length = win_length , sampling_rate =sr , batch_size = batch_size)"
      ]
    },
    {
      "cell_type": "code",
      "execution_count": null,
      "metadata": {
        "id": "gRuS7Rcyom_I",
        "colab": {
          "base_uri": "https://localhost:8080/"
        },
        "outputId": "a524369f-a389-4774-abb0-7ccfc17d4007"
      },
      "outputs": [
        {
          "output_type": "execute_result",
          "data": {
            "text/plain": [
              "(array([[[0.25105675, 0.19485504, 0.04347826, ..., 0.53682605,\n",
              "          1.        , 0.        ],\n",
              "         [0.21155941, 0.18103313, 0.08695652, ..., 0.51909837,\n",
              "          1.        , 0.        ],\n",
              "         [0.20127542, 0.16988774, 0.13043478, ..., 0.50114056,\n",
              "          1.        , 0.        ],\n",
              "         ...,\n",
              "         [0.12186351, 0.17734157, 0.26086957, ..., 0.42848609,\n",
              "          1.        , 0.        ],\n",
              "         [0.13781342, 0.25370798, 0.30434783, ..., 0.42777605,\n",
              "          1.        , 0.        ],\n",
              "         [0.19742585, 0.35177432, 0.34782609, ..., 0.46816687,\n",
              "          1.        , 0.        ]],\n",
              " \n",
              "        [[0.21155941, 0.18103313, 0.08695652, ..., 0.51909837,\n",
              "          1.        , 0.        ],\n",
              "         [0.20127542, 0.16988774, 0.13043478, ..., 0.50114056,\n",
              "          1.        , 0.        ],\n",
              "         [0.18728923, 0.16103253, 0.17391304, ..., 0.4993153 ,\n",
              "          1.        , 0.        ],\n",
              "         ...,\n",
              "         [0.13781342, 0.25370798, 0.30434783, ..., 0.42777605,\n",
              "          1.        , 0.        ],\n",
              "         [0.19742585, 0.35177432, 0.34782609, ..., 0.46816687,\n",
              "          1.        , 0.        ],\n",
              "         [0.26255888, 0.44201061, 0.39130435, ..., 0.499022  ,\n",
              "          1.        , 0.        ]],\n",
              " \n",
              "        [[0.20127542, 0.16988774, 0.13043478, ..., 0.50114056,\n",
              "          1.        , 0.        ],\n",
              "         [0.18728923, 0.16103253, 0.17391304, ..., 0.4993153 ,\n",
              "          1.        , 0.        ],\n",
              "         [0.20791792, 0.15456598, 0.2173913 , ..., 0.50136481,\n",
              "          1.        , 0.        ],\n",
              "         ...,\n",
              "         [0.19742585, 0.35177432, 0.34782609, ..., 0.46816687,\n",
              "          1.        , 0.        ],\n",
              "         [0.26255888, 0.44201061, 0.39130435, ..., 0.499022  ,\n",
              "          1.        , 0.        ],\n",
              "         [0.29806484, 0.51779375, 0.43478261, ..., 0.52775418,\n",
              "          1.        , 0.        ]],\n",
              " \n",
              "        ...,\n",
              " \n",
              "        [[0.12186351, 0.17734157, 0.26086957, ..., 0.42848609,\n",
              "          1.        , 0.        ],\n",
              "         [0.13781342, 0.25370798, 0.30434783, ..., 0.42777605,\n",
              "          1.        , 0.        ],\n",
              "         [0.19742585, 0.35177432, 0.34782609, ..., 0.46816687,\n",
              "          1.        , 0.        ],\n",
              "         ...,\n",
              "         [0.74846684, 0.62313465, 0.47826087, ..., 0.7818241 ,\n",
              "          0.        , 0.        ],\n",
              "         [0.74622004, 0.66630475, 0.52173913, ..., 0.77961233,\n",
              "          0.        , 0.        ],\n",
              "         [0.77146297, 0.69144628, 0.56521739, ..., 0.7948606 ,\n",
              "          0.        , 0.        ]],\n",
              " \n",
              "        [[0.13781342, 0.25370798, 0.30434783, ..., 0.42777605,\n",
              "          1.        , 0.        ],\n",
              "         [0.19742585, 0.35177432, 0.34782609, ..., 0.46816687,\n",
              "          1.        , 0.        ],\n",
              "         [0.26255888, 0.44201061, 0.39130435, ..., 0.499022  ,\n",
              "          1.        , 0.        ],\n",
              "         ...,\n",
              "         [0.74622004, 0.66630475, 0.52173913, ..., 0.77961233,\n",
              "          0.        , 0.        ],\n",
              "         [0.77146297, 0.69144628, 0.56521739, ..., 0.7948606 ,\n",
              "          0.        , 0.        ],\n",
              "         [0.78063095, 0.69589282, 0.60869565, ..., 0.78789215,\n",
              "          0.        , 0.        ]],\n",
              " \n",
              "        [[0.19742585, 0.35177432, 0.34782609, ..., 0.46816687,\n",
              "          1.        , 0.        ],\n",
              "         [0.26255888, 0.44201061, 0.39130435, ..., 0.499022  ,\n",
              "          1.        , 0.        ],\n",
              "         [0.29806484, 0.51779375, 0.43478261, ..., 0.52775418,\n",
              "          1.        , 0.        ],\n",
              "         ...,\n",
              "         [0.77146297, 0.69144628, 0.56521739, ..., 0.7948606 ,\n",
              "          0.        , 0.        ],\n",
              "         [0.78063095, 0.69589282, 0.60869565, ..., 0.78789215,\n",
              "          0.        , 0.        ],\n",
              "         [0.74435229, 0.67443023, 0.65217391, ..., 0.75784242,\n",
              "          0.        , 0.        ]]]),\n",
              " array([0.26255888, 0.29806484, 0.35112956, 0.35113113, 0.37152158,\n",
              "        0.38278037, 0.34158772, 0.31336338, 0.30190042, 0.34113738,\n",
              "        0.38594989, 0.38449174, 0.38569509, 0.33008226, 0.29009924,\n",
              "        0.24059983, 0.20294371, 0.17796751, 0.16478006, 0.16630391,\n",
              "        0.19252116, 0.22933017, 0.35132629, 0.53460243, 0.66287276,\n",
              "        0.70935434, 0.74846684, 0.74622004, 0.77146297, 0.78063095,\n",
              "        0.74435229, 0.67613042]))"
            ]
          },
          "metadata": {},
          "execution_count": 74
        }
      ],
      "source": [
        "train_generator[0]"
      ]
    },
    {
      "cell_type": "code",
      "execution_count": null,
      "metadata": {
        "id": "2cZEii9FpNDy"
      },
      "outputs": [],
      "source": [
        "model = tf.keras.Sequential()\n",
        "model.add(tf.keras.layers.Bidirectional(tf.keras.layers.LSTM(128, input_shape = (win_length, num_features), return_sequences =True)))\n",
        "model.add(tf.keras.layers.Bidirectional(tf.keras.layers.LSTM(128, return_sequences= True)))\n",
        "model.add(tf.keras.layers.Bidirectional(tf.keras.layers.LSTM(64, return_sequences= False)))\n",
        "model.add(tf.keras.layers.Dropout(0.3))\n",
        "model.add(tf.keras.layers.Dense(1))"
      ]
    },
    {
      "cell_type": "code",
      "execution_count": null,
      "metadata": {
        "id": "SYG6e3EkqSre",
        "colab": {
          "base_uri": "https://localhost:8080/"
        },
        "outputId": "c5b202a7-d65e-42c8-aa01-c2f49526a4fd"
      },
      "outputs": [
        {
          "output_type": "stream",
          "name": "stderr",
          "text": [
            "<ipython-input-76-d3195b9c9ab1>:11: UserWarning: `Model.fit_generator` is deprecated and will be removed in a future version. Please use `Model.fit`, which supports generators.\n",
            "  history = model.fit_generator(train_generator, epochs = 50,\n"
          ]
        },
        {
          "output_type": "stream",
          "name": "stdout",
          "text": [
            "Epoch 1/50\n",
            "976/976 [==============================] - 32s 20ms/step - loss: 0.0091 - binary_accuracy: 1.2810e-04 - false_negatives_2: 19129.0000 - mean_absolute_error: 0.0722 - val_loss: 0.0065 - val_binary_accuracy: 7.7091e-04 - val_false_negatives_2: 4681.0000 - val_mean_absolute_error: 0.0654\n",
            "Epoch 2/50\n",
            "976/976 [==============================] - 19s 19ms/step - loss: 0.0039 - binary_accuracy: 1.6013e-04 - false_negatives_2: 18817.0000 - mean_absolute_error: 0.0483 - val_loss: 0.0050 - val_binary_accuracy: 7.7091e-04 - val_false_negatives_2: 4562.0000 - val_mean_absolute_error: 0.0566\n",
            "Epoch 3/50\n",
            "976/976 [==============================] - 18s 19ms/step - loss: 0.0032 - binary_accuracy: 1.6013e-04 - false_negatives_2: 18758.0000 - mean_absolute_error: 0.0434 - val_loss: 0.0051 - val_binary_accuracy: 7.7091e-04 - val_false_negatives_2: 4532.0000 - val_mean_absolute_error: 0.0578\n",
            "Epoch 4/50\n",
            "976/976 [==============================] - 17s 18ms/step - loss: 0.0027 - binary_accuracy: 1.6013e-04 - false_negatives_2: 18669.0000 - mean_absolute_error: 0.0393 - val_loss: 0.0049 - val_binary_accuracy: 7.7091e-04 - val_false_negatives_2: 4527.0000 - val_mean_absolute_error: 0.0577\n",
            "Epoch 5/50\n",
            "976/976 [==============================] - 18s 18ms/step - loss: 0.0023 - binary_accuracy: 1.6013e-04 - false_negatives_2: 18546.0000 - mean_absolute_error: 0.0364 - val_loss: 0.0032 - val_binary_accuracy: 7.7091e-04 - val_false_negatives_2: 4296.0000 - val_mean_absolute_error: 0.0450\n",
            "Epoch 6/50\n",
            "976/976 [==============================] - 17s 18ms/step - loss: 0.0021 - binary_accuracy: 1.6013e-04 - false_negatives_2: 18569.0000 - mean_absolute_error: 0.0347 - val_loss: 0.0026 - val_binary_accuracy: 7.7091e-04 - val_false_negatives_2: 4173.0000 - val_mean_absolute_error: 0.0398\n",
            "Epoch 7/50\n",
            "976/976 [==============================] - 18s 18ms/step - loss: 0.0020 - binary_accuracy: 1.6013e-04 - false_negatives_2: 18449.0000 - mean_absolute_error: 0.0329 - val_loss: 0.0025 - val_binary_accuracy: 7.7091e-04 - val_false_negatives_2: 4171.0000 - val_mean_absolute_error: 0.0393\n",
            "Epoch 8/50\n",
            "976/976 [==============================] - 17s 18ms/step - loss: 0.0017 - binary_accuracy: 1.6013e-04 - false_negatives_2: 18300.0000 - mean_absolute_error: 0.0305 - val_loss: 0.0019 - val_binary_accuracy: 7.7091e-04 - val_false_negatives_2: 4047.0000 - val_mean_absolute_error: 0.0339\n",
            "Epoch 9/50\n",
            "976/976 [==============================] - 18s 19ms/step - loss: 0.0015 - binary_accuracy: 1.6013e-04 - false_negatives_2: 18293.0000 - mean_absolute_error: 0.0283 - val_loss: 0.0012 - val_binary_accuracy: 7.7091e-04 - val_false_negatives_2: 3995.0000 - val_mean_absolute_error: 0.0270\n",
            "Epoch 10/50\n",
            "976/976 [==============================] - 17s 18ms/step - loss: 0.0013 - binary_accuracy: 1.6013e-04 - false_negatives_2: 18304.0000 - mean_absolute_error: 0.0261 - val_loss: 0.0011 - val_binary_accuracy: 7.7091e-04 - val_false_negatives_2: 3981.0000 - val_mean_absolute_error: 0.0256\n",
            "Epoch 11/50\n",
            "976/976 [==============================] - 19s 19ms/step - loss: 0.0011 - binary_accuracy: 1.6013e-04 - false_negatives_2: 18339.0000 - mean_absolute_error: 0.0247 - val_loss: 0.0010 - val_binary_accuracy: 7.7091e-04 - val_false_negatives_2: 3965.0000 - val_mean_absolute_error: 0.0254\n",
            "Epoch 12/50\n",
            "976/976 [==============================] - 18s 18ms/step - loss: 0.0011 - binary_accuracy: 1.6013e-04 - false_negatives_2: 18321.0000 - mean_absolute_error: 0.0239 - val_loss: 0.0011 - val_binary_accuracy: 7.7091e-04 - val_false_negatives_2: 4020.0000 - val_mean_absolute_error: 0.0265\n",
            "Epoch 13/50\n",
            "976/976 [==============================] - 17s 18ms/step - loss: 9.7069e-04 - binary_accuracy: 1.6013e-04 - false_negatives_2: 18285.0000 - mean_absolute_error: 0.0229 - val_loss: 9.7323e-04 - val_binary_accuracy: 7.7091e-04 - val_false_negatives_2: 3976.0000 - val_mean_absolute_error: 0.0243\n",
            "Epoch 14/50\n",
            "976/976 [==============================] - 18s 19ms/step - loss: 9.2710e-04 - binary_accuracy: 1.6013e-04 - false_negatives_2: 18251.0000 - mean_absolute_error: 0.0223 - val_loss: 6.6182e-04 - val_binary_accuracy: 7.7091e-04 - val_false_negatives_2: 3848.0000 - val_mean_absolute_error: 0.0194\n",
            "Epoch 15/50\n",
            "976/976 [==============================] - 17s 18ms/step - loss: 8.6260e-04 - binary_accuracy: 1.6013e-04 - false_negatives_2: 18248.0000 - mean_absolute_error: 0.0214 - val_loss: 9.1364e-04 - val_binary_accuracy: 7.7091e-04 - val_false_negatives_2: 3995.0000 - val_mean_absolute_error: 0.0237\n",
            "Epoch 16/50\n",
            "976/976 [==============================] - 19s 19ms/step - loss: 8.2524e-04 - binary_accuracy: 1.6013e-04 - false_negatives_2: 18263.0000 - mean_absolute_error: 0.0209 - val_loss: 6.8086e-04 - val_binary_accuracy: 7.7091e-04 - val_false_negatives_2: 3867.0000 - val_mean_absolute_error: 0.0198\n",
            "Epoch 17/50\n",
            "976/976 [==============================] - 17s 18ms/step - loss: 7.9743e-04 - binary_accuracy: 1.6013e-04 - false_negatives_2: 18218.0000 - mean_absolute_error: 0.0205 - val_loss: 7.2878e-04 - val_binary_accuracy: 7.7091e-04 - val_false_negatives_2: 3916.0000 - val_mean_absolute_error: 0.0208\n",
            "Epoch 18/50\n",
            "976/976 [==============================] - 18s 18ms/step - loss: 7.6338e-04 - binary_accuracy: 1.6013e-04 - false_negatives_2: 18241.0000 - mean_absolute_error: 0.0201 - val_loss: 7.1543e-04 - val_binary_accuracy: 7.7091e-04 - val_false_negatives_2: 3911.0000 - val_mean_absolute_error: 0.0204\n",
            "Epoch 19/50\n",
            "976/976 [==============================] - 17s 18ms/step - loss: 7.1987e-04 - binary_accuracy: 1.6013e-04 - false_negatives_2: 18187.0000 - mean_absolute_error: 0.0195 - val_loss: 6.7395e-04 - val_binary_accuracy: 7.7091e-04 - val_false_negatives_2: 3906.0000 - val_mean_absolute_error: 0.0197\n",
            "Epoch 20/50\n",
            "976/976 [==============================] - 18s 19ms/step - loss: 7.0516e-04 - binary_accuracy: 1.6013e-04 - false_negatives_2: 18217.0000 - mean_absolute_error: 0.0192 - val_loss: 6.5353e-04 - val_binary_accuracy: 7.7091e-04 - val_false_negatives_2: 3904.0000 - val_mean_absolute_error: 0.0194\n",
            "Epoch 21/50\n",
            "976/976 [==============================] - 18s 18ms/step - loss: 6.8648e-04 - binary_accuracy: 1.6013e-04 - false_negatives_2: 18253.0000 - mean_absolute_error: 0.0190 - val_loss: 6.0894e-04 - val_binary_accuracy: 7.7091e-04 - val_false_negatives_2: 3889.0000 - val_mean_absolute_error: 0.0187\n",
            "Epoch 22/50\n",
            "976/976 [==============================] - 18s 18ms/step - loss: 6.6371e-04 - binary_accuracy: 1.6013e-04 - false_negatives_2: 18212.0000 - mean_absolute_error: 0.0188 - val_loss: 8.9313e-04 - val_binary_accuracy: 7.7091e-04 - val_false_negatives_2: 3979.0000 - val_mean_absolute_error: 0.0229\n",
            "Epoch 23/50\n",
            "976/976 [==============================] - 17s 18ms/step - loss: 6.5294e-04 - binary_accuracy: 1.6013e-04 - false_negatives_2: 18220.0000 - mean_absolute_error: 0.0186 - val_loss: 5.6277e-04 - val_binary_accuracy: 7.7091e-04 - val_false_negatives_2: 3864.0000 - val_mean_absolute_error: 0.0177\n",
            "Epoch 24/50\n",
            "976/976 [==============================] - 18s 18ms/step - loss: 6.3758e-04 - binary_accuracy: 1.6013e-04 - false_negatives_2: 18225.0000 - mean_absolute_error: 0.0183 - val_loss: 6.9173e-04 - val_binary_accuracy: 7.7091e-04 - val_false_negatives_2: 3915.0000 - val_mean_absolute_error: 0.0203\n",
            "Epoch 25/50\n",
            "976/976 [==============================] - 17s 18ms/step - loss: 6.2673e-04 - binary_accuracy: 1.6013e-04 - false_negatives_2: 18221.0000 - mean_absolute_error: 0.0182 - val_loss: 5.6129e-04 - val_binary_accuracy: 7.7091e-04 - val_false_negatives_2: 3854.0000 - val_mean_absolute_error: 0.0176\n",
            "Epoch 26/50\n",
            "976/976 [==============================] - 19s 19ms/step - loss: 6.1142e-04 - binary_accuracy: 1.6013e-04 - false_negatives_2: 18205.0000 - mean_absolute_error: 0.0180 - val_loss: 5.2222e-04 - val_binary_accuracy: 7.7091e-04 - val_false_negatives_2: 3840.0000 - val_mean_absolute_error: 0.0168\n",
            "Epoch 27/50\n",
            "976/976 [==============================] - 17s 18ms/step - loss: 6.2217e-04 - binary_accuracy: 1.6013e-04 - false_negatives_2: 18207.0000 - mean_absolute_error: 0.0181 - val_loss: 5.0065e-04 - val_binary_accuracy: 7.7091e-04 - val_false_negatives_2: 3811.0000 - val_mean_absolute_error: 0.0163\n",
            "Epoch 28/50\n",
            "976/976 [==============================] - 18s 18ms/step - loss: 6.0548e-04 - binary_accuracy: 1.6013e-04 - false_negatives_2: 18200.0000 - mean_absolute_error: 0.0178 - val_loss: 5.3706e-04 - val_binary_accuracy: 7.7091e-04 - val_false_negatives_2: 3850.0000 - val_mean_absolute_error: 0.0173\n",
            "Epoch 29/50\n",
            "976/976 [==============================] - 17s 18ms/step - loss: 5.9583e-04 - binary_accuracy: 1.6013e-04 - false_negatives_2: 18202.0000 - mean_absolute_error: 0.0178 - val_loss: 5.4126e-04 - val_binary_accuracy: 7.7091e-04 - val_false_negatives_2: 3845.0000 - val_mean_absolute_error: 0.0172\n",
            "Epoch 30/50\n",
            "976/976 [==============================] - 18s 18ms/step - loss: 5.9531e-04 - binary_accuracy: 1.6013e-04 - false_negatives_2: 18194.0000 - mean_absolute_error: 0.0177 - val_loss: 5.6370e-04 - val_binary_accuracy: 7.7091e-04 - val_false_negatives_2: 3854.0000 - val_mean_absolute_error: 0.0178\n",
            "Epoch 31/50\n",
            "976/976 [==============================] - 18s 19ms/step - loss: 5.8269e-04 - binary_accuracy: 1.6013e-04 - false_negatives_2: 18168.0000 - mean_absolute_error: 0.0176 - val_loss: 4.7129e-04 - val_binary_accuracy: 7.7091e-04 - val_false_negatives_2: 3790.0000 - val_mean_absolute_error: 0.0157\n",
            "Epoch 32/50\n",
            "976/976 [==============================] - 17s 18ms/step - loss: 5.7987e-04 - binary_accuracy: 1.6013e-04 - false_negatives_2: 18199.0000 - mean_absolute_error: 0.0175 - val_loss: 5.3887e-04 - val_binary_accuracy: 7.7091e-04 - val_false_negatives_2: 3847.0000 - val_mean_absolute_error: 0.0173\n",
            "Epoch 33/50\n",
            "976/976 [==============================] - 18s 19ms/step - loss: 5.7818e-04 - binary_accuracy: 1.6013e-04 - false_negatives_2: 18197.0000 - mean_absolute_error: 0.0175 - val_loss: 4.8065e-04 - val_binary_accuracy: 7.7091e-04 - val_false_negatives_2: 3799.0000 - val_mean_absolute_error: 0.0160\n",
            "Epoch 34/50\n",
            "976/976 [==============================] - 17s 18ms/step - loss: 5.6793e-04 - binary_accuracy: 1.6013e-04 - false_negatives_2: 18184.0000 - mean_absolute_error: 0.0173 - val_loss: 5.4582e-04 - val_binary_accuracy: 7.7091e-04 - val_false_negatives_2: 3848.0000 - val_mean_absolute_error: 0.0175\n",
            "Epoch 35/50\n",
            "976/976 [==============================] - 18s 18ms/step - loss: 5.5943e-04 - binary_accuracy: 1.6013e-04 - false_negatives_2: 18175.0000 - mean_absolute_error: 0.0173 - val_loss: 4.6725e-04 - val_binary_accuracy: 7.7091e-04 - val_false_negatives_2: 3809.0000 - val_mean_absolute_error: 0.0157\n",
            "Epoch 36/50\n",
            "976/976 [==============================] - 17s 18ms/step - loss: 5.5913e-04 - binary_accuracy: 1.6013e-04 - false_negatives_2: 18195.0000 - mean_absolute_error: 0.0171 - val_loss: 5.2121e-04 - val_binary_accuracy: 7.7091e-04 - val_false_negatives_2: 3807.0000 - val_mean_absolute_error: 0.0167\n",
            "Epoch 37/50\n",
            "976/976 [==============================] - 18s 18ms/step - loss: 5.5585e-04 - binary_accuracy: 1.6013e-04 - false_negatives_2: 18162.0000 - mean_absolute_error: 0.0172 - val_loss: 4.5878e-04 - val_binary_accuracy: 7.7091e-04 - val_false_negatives_2: 3795.0000 - val_mean_absolute_error: 0.0156\n",
            "Epoch 38/50\n",
            "976/976 [==============================] - 17s 18ms/step - loss: 5.4415e-04 - binary_accuracy: 1.6013e-04 - false_negatives_2: 18200.0000 - mean_absolute_error: 0.0170 - val_loss: 4.9611e-04 - val_binary_accuracy: 7.7091e-04 - val_false_negatives_2: 3832.0000 - val_mean_absolute_error: 0.0165\n",
            "Epoch 39/50\n",
            "976/976 [==============================] - 18s 18ms/step - loss: 5.3844e-04 - binary_accuracy: 1.6013e-04 - false_negatives_2: 18162.0000 - mean_absolute_error: 0.0168 - val_loss: 4.9082e-04 - val_binary_accuracy: 7.7091e-04 - val_false_negatives_2: 3783.0000 - val_mean_absolute_error: 0.0161\n",
            "Epoch 40/50\n",
            "976/976 [==============================] - 18s 18ms/step - loss: 5.3404e-04 - binary_accuracy: 1.6013e-04 - false_negatives_2: 18173.0000 - mean_absolute_error: 0.0168 - val_loss: 5.0264e-04 - val_binary_accuracy: 7.7091e-04 - val_false_negatives_2: 3850.0000 - val_mean_absolute_error: 0.0166\n",
            "Epoch 41/50\n",
            "976/976 [==============================] - 21s 22ms/step - loss: 5.4473e-04 - binary_accuracy: 1.6013e-04 - false_negatives_2: 18164.0000 - mean_absolute_error: 0.0170 - val_loss: 4.6762e-04 - val_binary_accuracy: 7.7091e-04 - val_false_negatives_2: 3795.0000 - val_mean_absolute_error: 0.0158\n",
            "Epoch 42/50\n",
            "976/976 [==============================] - 17s 18ms/step - loss: 5.3920e-04 - binary_accuracy: 1.6013e-04 - false_negatives_2: 18150.0000 - mean_absolute_error: 0.0169 - val_loss: 4.3370e-04 - val_binary_accuracy: 7.7091e-04 - val_false_negatives_2: 3749.0000 - val_mean_absolute_error: 0.0150\n",
            "Epoch 43/50\n",
            "976/976 [==============================] - 19s 19ms/step - loss: 5.3971e-04 - binary_accuracy: 1.6013e-04 - false_negatives_2: 18162.0000 - mean_absolute_error: 0.0169 - val_loss: 4.5789e-04 - val_binary_accuracy: 7.7091e-04 - val_false_negatives_2: 3778.0000 - val_mean_absolute_error: 0.0157\n",
            "Epoch 44/50\n",
            "976/976 [==============================] - 17s 18ms/step - loss: 5.3059e-04 - binary_accuracy: 1.6013e-04 - false_negatives_2: 18187.0000 - mean_absolute_error: 0.0167 - val_loss: 4.4959e-04 - val_binary_accuracy: 7.7091e-04 - val_false_negatives_2: 3808.0000 - val_mean_absolute_error: 0.0153\n",
            "Epoch 45/50\n",
            "976/976 [==============================] - 18s 18ms/step - loss: 5.3271e-04 - binary_accuracy: 1.6013e-04 - false_negatives_2: 18158.0000 - mean_absolute_error: 0.0167 - val_loss: 4.3076e-04 - val_binary_accuracy: 7.7091e-04 - val_false_negatives_2: 3769.0000 - val_mean_absolute_error: 0.0151\n",
            "Epoch 46/50\n",
            "976/976 [==============================] - 17s 18ms/step - loss: 5.2443e-04 - binary_accuracy: 1.6013e-04 - false_negatives_2: 18158.0000 - mean_absolute_error: 0.0167 - val_loss: 5.2749e-04 - val_binary_accuracy: 7.7091e-04 - val_false_negatives_2: 3848.0000 - val_mean_absolute_error: 0.0170\n",
            "Epoch 47/50\n",
            "976/976 [==============================] - 18s 18ms/step - loss: 5.2403e-04 - binary_accuracy: 1.6013e-04 - false_negatives_2: 18138.0000 - mean_absolute_error: 0.0167 - val_loss: 4.2688e-04 - val_binary_accuracy: 7.7091e-04 - val_false_negatives_2: 3785.0000 - val_mean_absolute_error: 0.0148\n",
            "Epoch 48/50\n",
            "976/976 [==============================] - 17s 18ms/step - loss: 5.3496e-04 - binary_accuracy: 1.6013e-04 - false_negatives_2: 18135.0000 - mean_absolute_error: 0.0168 - val_loss: 4.7702e-04 - val_binary_accuracy: 7.7091e-04 - val_false_negatives_2: 3827.0000 - val_mean_absolute_error: 0.0161\n",
            "Epoch 49/50\n",
            "976/976 [==============================] - 18s 19ms/step - loss: 5.2166e-04 - binary_accuracy: 1.6013e-04 - false_negatives_2: 18134.0000 - mean_absolute_error: 0.0166 - val_loss: 4.7053e-04 - val_binary_accuracy: 7.7091e-04 - val_false_negatives_2: 3808.0000 - val_mean_absolute_error: 0.0159\n",
            "Epoch 50/50\n",
            "976/976 [==============================] - 17s 18ms/step - loss: 5.1786e-04 - binary_accuracy: 1.6013e-04 - false_negatives_2: 18154.0000 - mean_absolute_error: 0.0165 - val_loss: 4.2792e-04 - val_binary_accuracy: 7.7091e-04 - val_false_negatives_2: 3760.0000 - val_mean_absolute_error: 0.0149\n"
          ]
        }
      ],
      "source": [
        "from tensorflow.python import losses\n",
        "early_Stopping = tf.keras.callbacks.EarlyStopping(monitor = 'val_loss',\n",
        "                                                  patience =10, \n",
        "                                                  mode ='min')\n",
        "model.compile(loss= tf.losses.MeanSquaredError(), \n",
        "              optimizer = tf.optimizers.Adamax(),\n",
        "              metrics=[tf.keras.metrics.BinaryAccuracy(),\n",
        "                       tf.keras.metrics.FalseNegatives(),\n",
        "                       tf.metrics.MeanAbsoluteError()] )\n",
        "\n",
        "history = model.fit_generator(train_generator, epochs = 50,\n",
        "                              validation_data = test_generator,\n",
        "                              shuffle = False,\n",
        "                              callbacks= [early_Stopping])\n",
        "\n",
        "model.save_weights('model_weights.h5', save_format='h5')"
      ]
    },
    {
      "cell_type": "code",
      "execution_count": null,
      "metadata": {
        "id": "JWcIu94Or_fd",
        "colab": {
          "base_uri": "https://localhost:8080/"
        },
        "outputId": "433f7486-507f-4b34-9deb-d1ad9056809b"
      },
      "outputs": [
        {
          "output_type": "stream",
          "name": "stderr",
          "text": [
            "<ipython-input-77-bbe713c2d124>:1: UserWarning: `Model.evaluate_generator` is deprecated and will be removed in a future version. Please use `Model.evaluate`, which supports generators.\n",
            "  model.evaluate_generator(test_generator, verbose =0)\n"
          ]
        },
        {
          "output_type": "execute_result",
          "data": {
            "text/plain": [
              "[0.00042791920714080334, 0.0007709109340794384, 3760.0, 0.014889474958181381]"
            ]
          },
          "metadata": {},
          "execution_count": 77
        }
      ],
      "source": [
        "model.evaluate_generator(test_generator, verbose =0)"
      ]
    },
    {
      "cell_type": "code",
      "execution_count": null,
      "metadata": {
        "id": "eXfsjsgJsHIF",
        "colab": {
          "base_uri": "https://localhost:8080/"
        },
        "outputId": "5bf5b9a2-65b4-4ed1-c320-be0bd60180bb"
      },
      "outputs": [
        {
          "output_type": "stream",
          "name": "stderr",
          "text": [
            "<ipython-input-78-9068eb02ed61>:1: UserWarning: `Model.predict_generator` is deprecated and will be removed in a future version. Please use `Model.predict`, which supports generators.\n",
            "  predictions = model.predict_generator(test_generator)\n"
          ]
        }
      ],
      "source": [
        "predictions = model.predict_generator(test_generator)"
      ]
    },
    {
      "cell_type": "code",
      "execution_count": null,
      "metadata": {
        "id": "lZhVnXTX0mG5",
        "colab": {
          "base_uri": "https://localhost:8080/"
        },
        "outputId": "c54a1ee7-a34d-42ab-cb8c-e02d619ec343"
      },
      "outputs": [
        {
          "output_type": "execute_result",
          "data": {
            "text/plain": [
              "7783"
            ]
          },
          "metadata": {},
          "execution_count": 79
        }
      ],
      "source": [
        "predictions.shape[0]"
      ]
    },
    {
      "cell_type": "code",
      "execution_count": null,
      "metadata": {
        "id": "D8gg10Fk0zXZ",
        "colab": {
          "base_uri": "https://localhost:8080/"
        },
        "outputId": "d38418e0-00eb-4a76-9484-815ea981f4df"
      },
      "outputs": [
        {
          "output_type": "execute_result",
          "data": {
            "text/plain": [
              "array([[0.40531722],\n",
              "       [0.45374712],\n",
              "       [0.45016095],\n",
              "       ...,\n",
              "       [0.5266859 ],\n",
              "       [0.45215818],\n",
              "       [0.37586606]], dtype=float32)"
            ]
          },
          "metadata": {},
          "execution_count": 80
        }
      ],
      "source": [
        "predictions"
      ]
    },
    {
      "cell_type": "code",
      "execution_count": null,
      "metadata": {
        "id": "TICW59-k07M5",
        "colab": {
          "base_uri": "https://localhost:8080/"
        },
        "outputId": "382a8393-5130-4cd5-b9b3-f891dea3496d"
      },
      "outputs": [
        {
          "output_type": "execute_result",
          "data": {
            "text/plain": [
              "array([0.6454887 , 0.65865275, 0.64780904, ..., 0.52721594, 0.44588623,\n",
              "       0.38438687])"
            ]
          },
          "metadata": {},
          "execution_count": 81
        }
      ],
      "source": [
        "y_test"
      ]
    },
    {
      "cell_type": "code",
      "execution_count": null,
      "metadata": {
        "id": "Msk-7SFH09ry",
        "colab": {
          "base_uri": "https://localhost:8080/"
        },
        "outputId": "48919f23-eb47-46f0-b454-5abfc20c5d37"
      },
      "outputs": [
        {
          "output_type": "execute_result",
          "data": {
            "text/plain": [
              "array([[0.6454887 , 0.44430585, 0.43478261, ..., 0.79513431, 1.        ,\n",
              "        0.        ],\n",
              "       [0.65865275, 0.47068211, 0.47826087, ..., 0.81184672, 1.        ,\n",
              "        0.        ],\n",
              "       [0.64780904, 0.4877335 , 0.52173913, ..., 0.79838931, 1.        ,\n",
              "        0.        ],\n",
              "       ...,\n",
              "       [0.52721594, 0.28101849, 0.95652174, ..., 0.70228076, 0.        ,\n",
              "        0.        ],\n",
              "       [0.44588623, 0.26947414, 1.        , ..., 0.66604148, 0.        ,\n",
              "        0.        ],\n",
              "       [0.38438687, 0.26122998, 0.        , ..., 0.62396501, 0.        ,\n",
              "        0.        ]])"
            ]
          },
          "metadata": {},
          "execution_count": 82
        }
      ],
      "source": [
        "x_test"
      ]
    },
    {
      "cell_type": "code",
      "execution_count": null,
      "metadata": {
        "id": "TxhG7UL20_8i",
        "colab": {
          "base_uri": "https://localhost:8080/"
        },
        "outputId": "8f01f15d-a6f8-433d-9e8c-59d8c57a9cf8"
      },
      "outputs": [
        {
          "output_type": "execute_result",
          "data": {
            "text/plain": [
              "array([[0.42304526, 0.7826087 , 0.64367965, ..., 0.66936008, 1.        ,\n",
              "        0.        ],\n",
              "       [0.38442018, 0.82608696, 0.67665915, ..., 0.7163179 , 1.        ,\n",
              "        0.        ],\n",
              "       [0.3583545 , 0.86956522, 0.67561518, ..., 0.72271768, 1.        ,\n",
              "        0.        ],\n",
              "       ...,\n",
              "       [0.28101849, 0.95652174, 0.81087674, ..., 0.70228076, 0.        ,\n",
              "        0.        ],\n",
              "       [0.26947414, 1.        , 0.76763125, ..., 0.66604148, 0.        ,\n",
              "        0.        ],\n",
              "       [0.26122998, 0.        , 0.71854295, ..., 0.62396501, 0.        ,\n",
              "        0.        ]])"
            ]
          },
          "metadata": {},
          "execution_count": 83
        }
      ],
      "source": [
        "x_test[:,1:][win_length:]"
      ]
    },
    {
      "cell_type": "code",
      "execution_count": null,
      "metadata": {
        "id": "A7_WNHz3t2tv"
      },
      "outputs": [],
      "source": [
        "df_pred = pd.concat([pd.DataFrame(predictions), pd.DataFrame(x_test[:,1:][win_length:])],axis = 1)"
      ]
    },
    {
      "cell_type": "code",
      "execution_count": null,
      "metadata": {
        "id": "QiPCl8KOuQXS"
      },
      "outputs": [],
      "source": [
        "rev_trans = scaler.inverse_transform(df_pred)"
      ]
    },
    {
      "cell_type": "code",
      "execution_count": null,
      "metadata": {
        "id": "RFAnagHhuX3J",
        "colab": {
          "base_uri": "https://localhost:8080/"
        },
        "outputId": "e2d7cf4d-1f1f-4109-cb6e-4e85bdeaff69"
      },
      "outputs": [
        {
          "output_type": "execute_result",
          "data": {
            "text/plain": [
              "array([[1.11173697e+03, 2.80664307e+01, 1.80000000e+01, ...,\n",
              "        1.17882740e+03, 1.00000000e+00, 0.00000000e+00],\n",
              "       [1.16119496e+03, 2.75996033e+01, 1.90000000e+01, ...,\n",
              "        1.25554950e+03, 1.00000000e+00, 0.00000000e+00],\n",
              "       [1.15753266e+03, 2.72845703e+01, 2.00000000e+01, ...,\n",
              "        1.26600580e+03, 1.00000000e+00, 0.00000000e+00],\n",
              "       ...,\n",
              "       [1.23568210e+03, 2.63498779e+01, 2.20000000e+01, ...,\n",
              "        1.23261490e+03, 0.00000000e+00, 0.00000000e+00],\n",
              "       [1.15957229e+03, 2.62103516e+01, 2.30000000e+01, ...,\n",
              "        1.17340530e+03, 0.00000000e+00, 0.00000000e+00],\n",
              "       [1.08166061e+03, 2.61107117e+01, 0.00000000e+00, ...,\n",
              "        1.10465860e+03, 0.00000000e+00, 0.00000000e+00]])"
            ]
          },
          "metadata": {},
          "execution_count": 86
        }
      ],
      "source": [
        "rev_trans"
      ]
    },
    {
      "cell_type": "code",
      "execution_count": null,
      "metadata": {
        "id": "3v9tfCUgudzq"
      },
      "outputs": [],
      "source": [
        "df_final = df_input[predictions.shape[0]*-1:]"
      ]
    },
    {
      "cell_type": "code",
      "execution_count": null,
      "metadata": {
        "id": "Oo85XkGMuuaD",
        "colab": {
          "base_uri": "https://localhost:8080/"
        },
        "outputId": "77e8874d-bb0f-4e8f-8f63-4bc84420b3d1"
      },
      "outputs": [
        {
          "output_type": "execute_result",
          "data": {
            "text/plain": [
              "DEMAND      7783\n",
              "T2M_toc     7783\n",
              "Hour        7783\n",
              "week_X-4    7783\n",
              "week_X-3    7783\n",
              "week_X-2    7783\n",
              "weekend     7783\n",
              "holiday     7783\n",
              "dtype: int64"
            ]
          },
          "metadata": {},
          "execution_count": 88
        }
      ],
      "source": [
        "df_final.count()"
      ]
    },
    {
      "cell_type": "code",
      "execution_count": null,
      "metadata": {
        "id": "dqqZP4Tduyk6",
        "colab": {
          "base_uri": "https://localhost:8080/"
        },
        "outputId": "49c3ca80-5c9c-4ac0-e357-57f73ef8f17e"
      },
      "outputs": [
        {
          "output_type": "stream",
          "name": "stderr",
          "text": [
            "<ipython-input-89-8e8b50b2bf2a>:1: SettingWithCopyWarning: \n",
            "A value is trying to be set on a copy of a slice from a DataFrame.\n",
            "Try using .loc[row_indexer,col_indexer] = value instead\n",
            "\n",
            "See the caveats in the documentation: https://pandas.pydata.org/pandas-docs/stable/user_guide/indexing.html#returning-a-view-versus-a-copy\n",
            "  df_final['App_Pred']= rev_trans[:,0]\n"
          ]
        }
      ],
      "source": [
        "df_final['App_Pred']= rev_trans[:,0]"
      ]
    },
    {
      "cell_type": "code",
      "execution_count": null,
      "metadata": {
        "id": "peRfwUH1u-Lk",
        "colab": {
          "base_uri": "https://localhost:8080/"
        },
        "outputId": "9cfe606d-6312-4727-841d-1503066dcfc0"
      },
      "outputs": [
        {
          "output_type": "execute_result",
          "data": {
            "text/plain": [
              "          DEMAND    T2M_toc  Hour   week_X-4   week_X-3   week_X-2  weekend  \\\n",
              "31289  1103.4517  28.066431    18  1136.8694  1158.9886  1178.8274        1   \n",
              "31290  1156.9947  27.599603    19  1190.7530  1226.3106  1255.5495        1   \n",
              "31291  1162.0413  27.284570    20  1189.0473  1232.7610  1266.0058        1   \n",
              "31292  1136.5901  27.050989    21  1164.9788  1211.3915  1267.9374        1   \n",
              "31293  1080.4411  26.825189    22  1115.7039  1171.1541  1193.1623        1   \n",
              "...          ...        ...   ...        ...        ...        ...      ...   \n",
              "39067  1328.6012  26.826990    20  1513.6304  1252.4212  1328.7539        0   \n",
              "39068  1305.1523  26.533838    21  1468.9324  1205.0356  1298.7222        0   \n",
              "39069  1236.2234  26.349878    22  1410.0446  1148.6463  1232.6149        0   \n",
              "39070  1153.1672  26.210352    23  1339.3879  1101.7972  1173.4053        0   \n",
              "39071  1090.3623  26.110712     0  1259.1849  1013.3293  1104.6586        0   \n",
              "\n",
              "       holiday     App_Pred  \n",
              "31289        0  1111.736968  \n",
              "31290        0  1161.194963  \n",
              "31291        0  1157.532661  \n",
              "31292        0  1142.098262  \n",
              "31293        0  1099.984228  \n",
              "...        ...          ...  \n",
              "39067        0  1315.717268  \n",
              "39068        0  1273.325180  \n",
              "39069        0  1235.682104  \n",
              "39070        0  1159.572291  \n",
              "39071        0  1081.660606  \n",
              "\n",
              "[7783 rows x 9 columns]"
            ],
            "text/html": [
              "\n",
              "  <div id=\"df-de08b5f7-4c8e-4ea2-977f-cc0cf9b8e01f\">\n",
              "    <div class=\"colab-df-container\">\n",
              "      <div>\n",
              "<style scoped>\n",
              "    .dataframe tbody tr th:only-of-type {\n",
              "        vertical-align: middle;\n",
              "    }\n",
              "\n",
              "    .dataframe tbody tr th {\n",
              "        vertical-align: top;\n",
              "    }\n",
              "\n",
              "    .dataframe thead th {\n",
              "        text-align: right;\n",
              "    }\n",
              "</style>\n",
              "<table border=\"1\" class=\"dataframe\">\n",
              "  <thead>\n",
              "    <tr style=\"text-align: right;\">\n",
              "      <th></th>\n",
              "      <th>DEMAND</th>\n",
              "      <th>T2M_toc</th>\n",
              "      <th>Hour</th>\n",
              "      <th>week_X-4</th>\n",
              "      <th>week_X-3</th>\n",
              "      <th>week_X-2</th>\n",
              "      <th>weekend</th>\n",
              "      <th>holiday</th>\n",
              "      <th>App_Pred</th>\n",
              "    </tr>\n",
              "  </thead>\n",
              "  <tbody>\n",
              "    <tr>\n",
              "      <th>31289</th>\n",
              "      <td>1103.4517</td>\n",
              "      <td>28.066431</td>\n",
              "      <td>18</td>\n",
              "      <td>1136.8694</td>\n",
              "      <td>1158.9886</td>\n",
              "      <td>1178.8274</td>\n",
              "      <td>1</td>\n",
              "      <td>0</td>\n",
              "      <td>1111.736968</td>\n",
              "    </tr>\n",
              "    <tr>\n",
              "      <th>31290</th>\n",
              "      <td>1156.9947</td>\n",
              "      <td>27.599603</td>\n",
              "      <td>19</td>\n",
              "      <td>1190.7530</td>\n",
              "      <td>1226.3106</td>\n",
              "      <td>1255.5495</td>\n",
              "      <td>1</td>\n",
              "      <td>0</td>\n",
              "      <td>1161.194963</td>\n",
              "    </tr>\n",
              "    <tr>\n",
              "      <th>31291</th>\n",
              "      <td>1162.0413</td>\n",
              "      <td>27.284570</td>\n",
              "      <td>20</td>\n",
              "      <td>1189.0473</td>\n",
              "      <td>1232.7610</td>\n",
              "      <td>1266.0058</td>\n",
              "      <td>1</td>\n",
              "      <td>0</td>\n",
              "      <td>1157.532661</td>\n",
              "    </tr>\n",
              "    <tr>\n",
              "      <th>31292</th>\n",
              "      <td>1136.5901</td>\n",
              "      <td>27.050989</td>\n",
              "      <td>21</td>\n",
              "      <td>1164.9788</td>\n",
              "      <td>1211.3915</td>\n",
              "      <td>1267.9374</td>\n",
              "      <td>1</td>\n",
              "      <td>0</td>\n",
              "      <td>1142.098262</td>\n",
              "    </tr>\n",
              "    <tr>\n",
              "      <th>31293</th>\n",
              "      <td>1080.4411</td>\n",
              "      <td>26.825189</td>\n",
              "      <td>22</td>\n",
              "      <td>1115.7039</td>\n",
              "      <td>1171.1541</td>\n",
              "      <td>1193.1623</td>\n",
              "      <td>1</td>\n",
              "      <td>0</td>\n",
              "      <td>1099.984228</td>\n",
              "    </tr>\n",
              "    <tr>\n",
              "      <th>...</th>\n",
              "      <td>...</td>\n",
              "      <td>...</td>\n",
              "      <td>...</td>\n",
              "      <td>...</td>\n",
              "      <td>...</td>\n",
              "      <td>...</td>\n",
              "      <td>...</td>\n",
              "      <td>...</td>\n",
              "      <td>...</td>\n",
              "    </tr>\n",
              "    <tr>\n",
              "      <th>39067</th>\n",
              "      <td>1328.6012</td>\n",
              "      <td>26.826990</td>\n",
              "      <td>20</td>\n",
              "      <td>1513.6304</td>\n",
              "      <td>1252.4212</td>\n",
              "      <td>1328.7539</td>\n",
              "      <td>0</td>\n",
              "      <td>0</td>\n",
              "      <td>1315.717268</td>\n",
              "    </tr>\n",
              "    <tr>\n",
              "      <th>39068</th>\n",
              "      <td>1305.1523</td>\n",
              "      <td>26.533838</td>\n",
              "      <td>21</td>\n",
              "      <td>1468.9324</td>\n",
              "      <td>1205.0356</td>\n",
              "      <td>1298.7222</td>\n",
              "      <td>0</td>\n",
              "      <td>0</td>\n",
              "      <td>1273.325180</td>\n",
              "    </tr>\n",
              "    <tr>\n",
              "      <th>39069</th>\n",
              "      <td>1236.2234</td>\n",
              "      <td>26.349878</td>\n",
              "      <td>22</td>\n",
              "      <td>1410.0446</td>\n",
              "      <td>1148.6463</td>\n",
              "      <td>1232.6149</td>\n",
              "      <td>0</td>\n",
              "      <td>0</td>\n",
              "      <td>1235.682104</td>\n",
              "    </tr>\n",
              "    <tr>\n",
              "      <th>39070</th>\n",
              "      <td>1153.1672</td>\n",
              "      <td>26.210352</td>\n",
              "      <td>23</td>\n",
              "      <td>1339.3879</td>\n",
              "      <td>1101.7972</td>\n",
              "      <td>1173.4053</td>\n",
              "      <td>0</td>\n",
              "      <td>0</td>\n",
              "      <td>1159.572291</td>\n",
              "    </tr>\n",
              "    <tr>\n",
              "      <th>39071</th>\n",
              "      <td>1090.3623</td>\n",
              "      <td>26.110712</td>\n",
              "      <td>0</td>\n",
              "      <td>1259.1849</td>\n",
              "      <td>1013.3293</td>\n",
              "      <td>1104.6586</td>\n",
              "      <td>0</td>\n",
              "      <td>0</td>\n",
              "      <td>1081.660606</td>\n",
              "    </tr>\n",
              "  </tbody>\n",
              "</table>\n",
              "<p>7783 rows × 9 columns</p>\n",
              "</div>\n",
              "      <button class=\"colab-df-convert\" onclick=\"convertToInteractive('df-de08b5f7-4c8e-4ea2-977f-cc0cf9b8e01f')\"\n",
              "              title=\"Convert this dataframe to an interactive table.\"\n",
              "              style=\"display:none;\">\n",
              "        \n",
              "  <svg xmlns=\"http://www.w3.org/2000/svg\" height=\"24px\"viewBox=\"0 0 24 24\"\n",
              "       width=\"24px\">\n",
              "    <path d=\"M0 0h24v24H0V0z\" fill=\"none\"/>\n",
              "    <path d=\"M18.56 5.44l.94 2.06.94-2.06 2.06-.94-2.06-.94-.94-2.06-.94 2.06-2.06.94zm-11 1L8.5 8.5l.94-2.06 2.06-.94-2.06-.94L8.5 2.5l-.94 2.06-2.06.94zm10 10l.94 2.06.94-2.06 2.06-.94-2.06-.94-.94-2.06-.94 2.06-2.06.94z\"/><path d=\"M17.41 7.96l-1.37-1.37c-.4-.4-.92-.59-1.43-.59-.52 0-1.04.2-1.43.59L10.3 9.45l-7.72 7.72c-.78.78-.78 2.05 0 2.83L4 21.41c.39.39.9.59 1.41.59.51 0 1.02-.2 1.41-.59l7.78-7.78 2.81-2.81c.8-.78.8-2.07 0-2.86zM5.41 20L4 18.59l7.72-7.72 1.47 1.35L5.41 20z\"/>\n",
              "  </svg>\n",
              "      </button>\n",
              "      \n",
              "  <style>\n",
              "    .colab-df-container {\n",
              "      display:flex;\n",
              "      flex-wrap:wrap;\n",
              "      gap: 12px;\n",
              "    }\n",
              "\n",
              "    .colab-df-convert {\n",
              "      background-color: #E8F0FE;\n",
              "      border: none;\n",
              "      border-radius: 50%;\n",
              "      cursor: pointer;\n",
              "      display: none;\n",
              "      fill: #1967D2;\n",
              "      height: 32px;\n",
              "      padding: 0 0 0 0;\n",
              "      width: 32px;\n",
              "    }\n",
              "\n",
              "    .colab-df-convert:hover {\n",
              "      background-color: #E2EBFA;\n",
              "      box-shadow: 0px 1px 2px rgba(60, 64, 67, 0.3), 0px 1px 3px 1px rgba(60, 64, 67, 0.15);\n",
              "      fill: #174EA6;\n",
              "    }\n",
              "\n",
              "    [theme=dark] .colab-df-convert {\n",
              "      background-color: #3B4455;\n",
              "      fill: #D2E3FC;\n",
              "    }\n",
              "\n",
              "    [theme=dark] .colab-df-convert:hover {\n",
              "      background-color: #434B5C;\n",
              "      box-shadow: 0px 1px 3px 1px rgba(0, 0, 0, 0.15);\n",
              "      filter: drop-shadow(0px 1px 2px rgba(0, 0, 0, 0.3));\n",
              "      fill: #FFFFFF;\n",
              "    }\n",
              "  </style>\n",
              "\n",
              "      <script>\n",
              "        const buttonEl =\n",
              "          document.querySelector('#df-de08b5f7-4c8e-4ea2-977f-cc0cf9b8e01f button.colab-df-convert');\n",
              "        buttonEl.style.display =\n",
              "          google.colab.kernel.accessAllowed ? 'block' : 'none';\n",
              "\n",
              "        async function convertToInteractive(key) {\n",
              "          const element = document.querySelector('#df-de08b5f7-4c8e-4ea2-977f-cc0cf9b8e01f');\n",
              "          const dataTable =\n",
              "            await google.colab.kernel.invokeFunction('convertToInteractive',\n",
              "                                                     [key], {});\n",
              "          if (!dataTable) return;\n",
              "\n",
              "          const docLinkHtml = 'Like what you see? Visit the ' +\n",
              "            '<a target=\"_blank\" href=https://colab.research.google.com/notebooks/data_table.ipynb>data table notebook</a>'\n",
              "            + ' to learn more about interactive tables.';\n",
              "          element.innerHTML = '';\n",
              "          dataTable['output_type'] = 'display_data';\n",
              "          await google.colab.output.renderOutput(dataTable, element);\n",
              "          const docLink = document.createElement('div');\n",
              "          docLink.innerHTML = docLinkHtml;\n",
              "          element.appendChild(docLink);\n",
              "        }\n",
              "      </script>\n",
              "    </div>\n",
              "  </div>\n",
              "  "
            ]
          },
          "metadata": {},
          "execution_count": 90
        }
      ],
      "source": [
        "df_final"
      ]
    },
    {
      "cell_type": "code",
      "execution_count": null,
      "metadata": {
        "id": "239eOICrv6Q1",
        "colab": {
          "base_uri": "https://localhost:8080/",
          "height": 446
        },
        "outputId": "524ae4c7-810d-440b-fb5f-2ead29159852"
      },
      "outputs": [
        {
          "output_type": "execute_result",
          "data": {
            "text/plain": [
              "<AxesSubplot:>"
            ]
          },
          "metadata": {},
          "execution_count": 91
        },
        {
          "output_type": "display_data",
          "data": {
            "text/plain": [
              "<Figure size 1440x504 with 0 Axes>"
            ]
          },
          "metadata": {}
        },
        {
          "output_type": "display_data",
          "data": {
            "text/plain": [
              "<Figure size 1440x504 with 1 Axes>"
            ],
            "image/png": "[encoded data removed]"
          },
          "metadata": {
            "needs_background": "light"
          }
        }
      ],
      "source": [
        "fig = plt.figure(figsize=(20, 7))\n",
        "df_final[['DEMAND','App_Pred']].plot(figsize=(20, 7))"
      ]
    },
    {
      "cell_type": "code",
      "execution_count": null,
      "metadata": {
        "id": "ALbV6dBALQ2I",
        "colab": {
          "base_uri": "https://localhost:8080/",
          "height": 513
        },
        "outputId": "c9047014-00db-4c2a-870e-9f80c62c197d"
      },
      "outputs": [
        {
          "output_type": "display_data",
          "data": {
            "text/plain": [
              "<Figure size 720x576 with 1 Axes>"
            ],
            "image/png": "[encoded data removed]"
          },
          "metadata": {
            "needs_background": "light"
          }
        }
      ],
      "source": [
        "plt.plot(history.history['loss'])\n",
        "plt.plot(history.history['val_loss'])\n",
        "plt.title('model loss')\n",
        "plt.ylabel('loss')\n",
        "plt.xlabel('epoch')\n",
        "plt.legend(['train', 'val'], loc='upper left')\n",
        "plt.show()"
      ]
    },
    {
      "cell_type": "code",
      "execution_count": null,
      "metadata": {
        "id": "ze39M-OXyRle"
      },
      "outputs": [],
      "source": [
        "df_final.to_csv('kagglelayerMax.csv', index=False)"
      ]
    },
    {
      "cell_type": "code",
      "execution_count": null,
      "metadata": {
        "id": "mv7oTHKuIm2s",
        "colab": {
          "base_uri": "https://localhost:8080/"
        },
        "outputId": "f5670707-19fa-4494-ea9a-fa1647e7f3ba"
      },
      "outputs": [
        {
          "output_type": "stream",
          "name": "stdout",
          "text": [
            "Mean Absolute Error: 15.205551109835131\n",
            "Root Mean Squared Error: 21.125340079868145\n",
            "MAPE: 1.240217018073549 %\n",
            "R-squared: 0.9872188763940127\n"
          ]
        }
      ],
      "source": [
        "import math\n",
        "from sklearn.metrics import mean_squared_error, r2_score\n",
        "from sklearn.metrics import mean_absolute_error , mean_absolute_percentage_error\n",
        "rmse=math.sqrt(mean_squared_error(df_final['DEMAND'], df_final['App_Pred']))\n",
        "# calculate mean absolute error\n",
        "mae = mean_absolute_error(df_final['DEMAND'], df_final['App_Pred'])\n",
        "print(\"Mean Absolute Error:\", mae)\n",
        "print(\"Root Mean Squared Error:\", rmse)\n",
        "print(\"MAPE:\", mean_absolute_percentage_error(df_final['DEMAND'], df_final['App_Pred'])*100, \"%\")\n",
        "r2 = r2_score(df_final['DEMAND'], df_final['App_Pred'])\n",
        "print(\"R-squared:\", r2)"
      ]
    }
  ],
  "metadata": {
    "accelerator": "GPU",
    "colab": {
      "provenance": []
    },
    "gpuClass": "standard",
    "kernelspec": {
      "display_name": "Python 3",
      "name": "python3"
    },
    "language_info": {
      "name": "python"
    }
  },
  "nbformat": 4,
  "nbformat_minor": 0
}